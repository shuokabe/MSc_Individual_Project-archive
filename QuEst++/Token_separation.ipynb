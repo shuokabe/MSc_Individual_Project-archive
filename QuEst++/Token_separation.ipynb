{
  "nbformat": 4,
  "nbformat_minor": 0,
  "metadata": {
    "colab": {
      "name": "Token separation.ipynb",
      "version": "0.3.2",
      "provenance": [],
      "collapsed_sections": [],
      "toc_visible": true
    },
    "kernelspec": {
      "name": "python3",
      "display_name": "Python 3"
    },
    "accelerator": "GPU"
  },
  "cells": [
    {
      "cell_type": "code",
      "metadata": {
        "id": "1itKq1UKzdeu",
        "colab_type": "code",
        "colab": {}
      },
      "source": [
        "# Import libraries\n",
        "import pandas as pd"
      ],
      "execution_count": 0,
      "outputs": []
    },
    {
      "cell_type": "code",
      "metadata": {
        "id": "Z-UxSWiN1ZYG",
        "colab_type": "code",
        "outputId": "1ae3af4e-864d-4f3d-9a01-950f4b3c947c",
        "colab": {
          "base_uri": "https://localhost:8080/",
          "height": 255
        }
      },
      "source": [
        "# Load data\n",
        "train_token_o = pd.read_csv('QE-2018-task4-titles-categories-and-ids_training.txt', sep='\\t', \n",
        "                            header=None)\n",
        "dev_token_o = pd.read_csv('QE-2018-task4-titles-categories-and-ids_dev.txt', sep='\\t', \n",
        "                          header=None)\n",
        "train_token = pd.concat([train_token_o, dev_token_o], ignore_index=True)\n",
        "\n",
        "train_token.columns = [\"doc_no\", \"asin\", \"title\", \"token\"]\n",
        "train_token.head()"
      ],
      "execution_count": 2,
      "outputs": [
        {
          "output_type": "execute_result",
          "data": {
            "text/html": [
              "<div>\n",
              "<style scoped>\n",
              "    .dataframe tbody tr th:only-of-type {\n",
              "        vertical-align: middle;\n",
              "    }\n",
              "\n",
              "    .dataframe tbody tr th {\n",
              "        vertical-align: top;\n",
              "    }\n",
              "\n",
              "    .dataframe thead th {\n",
              "        text-align: right;\n",
              "    }\n",
              "</style>\n",
              "<table border=\"1\" class=\"dataframe\">\n",
              "  <thead>\n",
              "    <tr style=\"text-align: right;\">\n",
              "      <th></th>\n",
              "      <th>doc_no</th>\n",
              "      <th>asin</th>\n",
              "      <th>title</th>\n",
              "      <th>token</th>\n",
              "    </tr>\n",
              "  </thead>\n",
              "  <tbody>\n",
              "    <tr>\n",
              "      <th>0</th>\n",
              "      <td>doc0000</td>\n",
              "      <td>1591791065</td>\n",
              "      <td>Kirtan</td>\n",
              "      <td>CDs_&amp;_Vinyl@@Classical</td>\n",
              "    </tr>\n",
              "    <tr>\n",
              "      <th>1</th>\n",
              "      <td>doc0001</td>\n",
              "      <td>158042127X</td>\n",
              "      <td>Championship No-Limit &amp;amp; Pot-Limit Hold'Em</td>\n",
              "      <td>Sports_&amp;_Outdoors@@Leisure_Sports_&amp;_Game_Room@...</td>\n",
              "    </tr>\n",
              "    <tr>\n",
              "      <th>2</th>\n",
              "      <td>doc0002</td>\n",
              "      <td>7245456259</td>\n",
              "      <td>Black Mountain Products Single Resistance Band...</td>\n",
              "      <td>Sports_&amp;_Outdoors@@Exercise_&amp;_Fitness@@Accesso...</td>\n",
              "    </tr>\n",
              "    <tr>\n",
              "      <th>3</th>\n",
              "      <td>doc0003</td>\n",
              "      <td>NaN</td>\n",
              "      <td>Joan Wulff's Dynamics of Fly Casting [VHS]</td>\n",
              "      <td>NaN</td>\n",
              "    </tr>\n",
              "    <tr>\n",
              "      <th>4</th>\n",
              "      <td>doc0004</td>\n",
              "      <td>NaN</td>\n",
              "      <td>Yoga With Richard Freeman:  Ashtanga Yoga: The...</td>\n",
              "      <td>NaN</td>\n",
              "    </tr>\n",
              "  </tbody>\n",
              "</table>\n",
              "</div>"
            ],
            "text/plain": [
              "    doc_no  ...                                              token\n",
              "0  doc0000  ...                             CDs_&_Vinyl@@Classical\n",
              "1  doc0001  ...  Sports_&_Outdoors@@Leisure_Sports_&_Game_Room@...\n",
              "2  doc0002  ...  Sports_&_Outdoors@@Exercise_&_Fitness@@Accesso...\n",
              "3  doc0003  ...                                                NaN\n",
              "4  doc0004  ...                                                NaN\n",
              "\n",
              "[5 rows x 4 columns]"
            ]
          },
          "metadata": {
            "tags": []
          },
          "execution_count": 2
        }
      ]
    },
    {
      "cell_type": "code",
      "metadata": {
        "id": "Axtn5Upy24MJ",
        "colab_type": "code",
        "outputId": "f449b9f9-540b-4659-fc5a-072f96d99abe",
        "colab": {
          "base_uri": "https://localhost:8080/",
          "height": 495
        }
      },
      "source": [
        "train_token = train_token.fillna('')\n",
        "print('Shape of the new training dataset:', train_token.shape)\n",
        "train_token.head(10)"
      ],
      "execution_count": 3,
      "outputs": [
        {
          "output_type": "stream",
          "text": [
            "Shape of the new training dataset: (1200, 4)\n"
          ],
          "name": "stdout"
        },
        {
          "output_type": "execute_result",
          "data": {
            "text/html": [
              "<div>\n",
              "<style scoped>\n",
              "    .dataframe tbody tr th:only-of-type {\n",
              "        vertical-align: middle;\n",
              "    }\n",
              "\n",
              "    .dataframe tbody tr th {\n",
              "        vertical-align: top;\n",
              "    }\n",
              "\n",
              "    .dataframe thead th {\n",
              "        text-align: right;\n",
              "    }\n",
              "</style>\n",
              "<table border=\"1\" class=\"dataframe\">\n",
              "  <thead>\n",
              "    <tr style=\"text-align: right;\">\n",
              "      <th></th>\n",
              "      <th>doc_no</th>\n",
              "      <th>asin</th>\n",
              "      <th>title</th>\n",
              "      <th>token</th>\n",
              "    </tr>\n",
              "  </thead>\n",
              "  <tbody>\n",
              "    <tr>\n",
              "      <th>0</th>\n",
              "      <td>doc0000</td>\n",
              "      <td>1591791065</td>\n",
              "      <td>Kirtan</td>\n",
              "      <td>CDs_&amp;_Vinyl@@Classical</td>\n",
              "    </tr>\n",
              "    <tr>\n",
              "      <th>1</th>\n",
              "      <td>doc0001</td>\n",
              "      <td>158042127X</td>\n",
              "      <td>Championship No-Limit &amp;amp; Pot-Limit Hold'Em</td>\n",
              "      <td>Sports_&amp;_Outdoors@@Leisure_Sports_&amp;_Game_Room@...</td>\n",
              "    </tr>\n",
              "    <tr>\n",
              "      <th>2</th>\n",
              "      <td>doc0002</td>\n",
              "      <td>7245456259</td>\n",
              "      <td>Black Mountain Products Single Resistance Band...</td>\n",
              "      <td>Sports_&amp;_Outdoors@@Exercise_&amp;_Fitness@@Accesso...</td>\n",
              "    </tr>\n",
              "    <tr>\n",
              "      <th>3</th>\n",
              "      <td>doc0003</td>\n",
              "      <td></td>\n",
              "      <td>Joan Wulff's Dynamics of Fly Casting [VHS]</td>\n",
              "      <td></td>\n",
              "    </tr>\n",
              "    <tr>\n",
              "      <th>4</th>\n",
              "      <td>doc0004</td>\n",
              "      <td></td>\n",
              "      <td>Yoga With Richard Freeman:  Ashtanga Yoga: The...</td>\n",
              "      <td></td>\n",
              "    </tr>\n",
              "    <tr>\n",
              "      <th>5</th>\n",
              "      <td>doc0005</td>\n",
              "      <td>1400659477</td>\n",
              "      <td>The Learning Journey Techno Gears Marble Mania...</td>\n",
              "      <td>Sports_&amp;_Outdoors@@Leisure_Sports_&amp;_Game_Room@...</td>\n",
              "    </tr>\n",
              "    <tr>\n",
              "      <th>6</th>\n",
              "      <td>doc0006</td>\n",
              "      <td>7245456313</td>\n",
              "      <td>Black Mountain Products Resistance Band Set wi...</td>\n",
              "      <td>Sports_&amp;_Outdoors@@Exercise_&amp;_Fitness@@Accesso...</td>\n",
              "    </tr>\n",
              "    <tr>\n",
              "      <th>7</th>\n",
              "      <td>doc0007</td>\n",
              "      <td>0965042138</td>\n",
              "      <td>Combat Conditioning: Functional Exercises for ...</td>\n",
              "      <td>Sports_&amp;_Outdoors@@Exercise_&amp;_Fitness</td>\n",
              "    </tr>\n",
              "    <tr>\n",
              "      <th>8</th>\n",
              "      <td>doc0008</td>\n",
              "      <td>7245456321</td>\n",
              "      <td>Black Mountain Products New Heavy Duty Bmp Doo...</td>\n",
              "      <td>Sports_&amp;_Outdoors@@Exercise_&amp;_Fitness@@Strengt...</td>\n",
              "    </tr>\n",
              "    <tr>\n",
              "      <th>9</th>\n",
              "      <td>doc0009</td>\n",
              "      <td>B00KWR4CIM</td>\n",
              "      <td>Purple</td>\n",
              "      <td>Sports_&amp;_Outdoors@@Outdoor_Gear@@Camping_&amp;_Hik...</td>\n",
              "    </tr>\n",
              "  </tbody>\n",
              "</table>\n",
              "</div>"
            ],
            "text/plain": [
              "    doc_no  ...                                              token\n",
              "0  doc0000  ...                             CDs_&_Vinyl@@Classical\n",
              "1  doc0001  ...  Sports_&_Outdoors@@Leisure_Sports_&_Game_Room@...\n",
              "2  doc0002  ...  Sports_&_Outdoors@@Exercise_&_Fitness@@Accesso...\n",
              "3  doc0003  ...                                                   \n",
              "4  doc0004  ...                                                   \n",
              "5  doc0005  ...  Sports_&_Outdoors@@Leisure_Sports_&_Game_Room@...\n",
              "6  doc0006  ...  Sports_&_Outdoors@@Exercise_&_Fitness@@Accesso...\n",
              "7  doc0007  ...              Sports_&_Outdoors@@Exercise_&_Fitness\n",
              "8  doc0008  ...  Sports_&_Outdoors@@Exercise_&_Fitness@@Strengt...\n",
              "9  doc0009  ...  Sports_&_Outdoors@@Outdoor_Gear@@Camping_&_Hik...\n",
              "\n",
              "[10 rows x 4 columns]"
            ]
          },
          "metadata": {
            "tags": []
          },
          "execution_count": 3
        }
      ]
    },
    {
      "cell_type": "markdown",
      "metadata": {
        "id": "1LgdUfib92a7",
        "colab_type": "text"
      },
      "source": [
        "# Split the given token in different columns"
      ]
    },
    {
      "cell_type": "code",
      "metadata": {
        "id": "IbeX_bxJ1h35",
        "colab_type": "code",
        "outputId": "91821ef0-070d-4488-f4d4-0b1609c99be8",
        "colab": {
          "base_uri": "https://localhost:8080/",
          "height": 923
        }
      },
      "source": [
        "train_token[\"token_list\"] = train_token.token.str.split('@@') \n",
        "train_token.head(10)"
      ],
      "execution_count": 4,
      "outputs": [
        {
          "output_type": "execute_result",
          "data": {
            "text/html": [
              "<div>\n",
              "<style scoped>\n",
              "    .dataframe tbody tr th:only-of-type {\n",
              "        vertical-align: middle;\n",
              "    }\n",
              "\n",
              "    .dataframe tbody tr th {\n",
              "        vertical-align: top;\n",
              "    }\n",
              "\n",
              "    .dataframe thead th {\n",
              "        text-align: right;\n",
              "    }\n",
              "</style>\n",
              "<table border=\"1\" class=\"dataframe\">\n",
              "  <thead>\n",
              "    <tr style=\"text-align: right;\">\n",
              "      <th></th>\n",
              "      <th>doc_no</th>\n",
              "      <th>asin</th>\n",
              "      <th>title</th>\n",
              "      <th>token</th>\n",
              "      <th>token_list</th>\n",
              "    </tr>\n",
              "  </thead>\n",
              "  <tbody>\n",
              "    <tr>\n",
              "      <th>0</th>\n",
              "      <td>doc0000</td>\n",
              "      <td>1591791065</td>\n",
              "      <td>Kirtan</td>\n",
              "      <td>CDs_&amp;_Vinyl@@Classical</td>\n",
              "      <td>[CDs_&amp;_Vinyl, Classical]</td>\n",
              "    </tr>\n",
              "    <tr>\n",
              "      <th>1</th>\n",
              "      <td>doc0001</td>\n",
              "      <td>158042127X</td>\n",
              "      <td>Championship No-Limit &amp;amp; Pot-Limit Hold'Em</td>\n",
              "      <td>Sports_&amp;_Outdoors@@Leisure_Sports_&amp;_Game_Room@...</td>\n",
              "      <td>[Sports_&amp;_Outdoors, Leisure_Sports_&amp;_Game_Room...</td>\n",
              "    </tr>\n",
              "    <tr>\n",
              "      <th>2</th>\n",
              "      <td>doc0002</td>\n",
              "      <td>7245456259</td>\n",
              "      <td>Black Mountain Products Single Resistance Band...</td>\n",
              "      <td>Sports_&amp;_Outdoors@@Exercise_&amp;_Fitness@@Accesso...</td>\n",
              "      <td>[Sports_&amp;_Outdoors, Exercise_&amp;_Fitness, Access...</td>\n",
              "    </tr>\n",
              "    <tr>\n",
              "      <th>3</th>\n",
              "      <td>doc0003</td>\n",
              "      <td></td>\n",
              "      <td>Joan Wulff's Dynamics of Fly Casting [VHS]</td>\n",
              "      <td></td>\n",
              "      <td>[]</td>\n",
              "    </tr>\n",
              "    <tr>\n",
              "      <th>4</th>\n",
              "      <td>doc0004</td>\n",
              "      <td></td>\n",
              "      <td>Yoga With Richard Freeman:  Ashtanga Yoga: The...</td>\n",
              "      <td></td>\n",
              "      <td>[]</td>\n",
              "    </tr>\n",
              "    <tr>\n",
              "      <th>5</th>\n",
              "      <td>doc0005</td>\n",
              "      <td>1400659477</td>\n",
              "      <td>The Learning Journey Techno Gears Marble Mania...</td>\n",
              "      <td>Sports_&amp;_Outdoors@@Leisure_Sports_&amp;_Game_Room@...</td>\n",
              "      <td>[Sports_&amp;_Outdoors, Leisure_Sports_&amp;_Game_Room...</td>\n",
              "    </tr>\n",
              "    <tr>\n",
              "      <th>6</th>\n",
              "      <td>doc0006</td>\n",
              "      <td>7245456313</td>\n",
              "      <td>Black Mountain Products Resistance Band Set wi...</td>\n",
              "      <td>Sports_&amp;_Outdoors@@Exercise_&amp;_Fitness@@Accesso...</td>\n",
              "      <td>[Sports_&amp;_Outdoors, Exercise_&amp;_Fitness, Access...</td>\n",
              "    </tr>\n",
              "    <tr>\n",
              "      <th>7</th>\n",
              "      <td>doc0007</td>\n",
              "      <td>0965042138</td>\n",
              "      <td>Combat Conditioning: Functional Exercises for ...</td>\n",
              "      <td>Sports_&amp;_Outdoors@@Exercise_&amp;_Fitness</td>\n",
              "      <td>[Sports_&amp;_Outdoors, Exercise_&amp;_Fitness]</td>\n",
              "    </tr>\n",
              "    <tr>\n",
              "      <th>8</th>\n",
              "      <td>doc0008</td>\n",
              "      <td>7245456321</td>\n",
              "      <td>Black Mountain Products New Heavy Duty Bmp Doo...</td>\n",
              "      <td>Sports_&amp;_Outdoors@@Exercise_&amp;_Fitness@@Strengt...</td>\n",
              "      <td>[Sports_&amp;_Outdoors, Exercise_&amp;_Fitness, Streng...</td>\n",
              "    </tr>\n",
              "    <tr>\n",
              "      <th>9</th>\n",
              "      <td>doc0009</td>\n",
              "      <td>B00KWR4CIM</td>\n",
              "      <td>Purple</td>\n",
              "      <td>Sports_&amp;_Outdoors@@Outdoor_Gear@@Camping_&amp;_Hik...</td>\n",
              "      <td>[Sports_&amp;_Outdoors, Outdoor_Gear, Camping_&amp;_Hi...</td>\n",
              "    </tr>\n",
              "  </tbody>\n",
              "</table>\n",
              "</div>"
            ],
            "text/plain": [
              "    doc_no  ...                                         token_list\n",
              "0  doc0000  ...                           [CDs_&_Vinyl, Classical]\n",
              "1  doc0001  ...  [Sports_&_Outdoors, Leisure_Sports_&_Game_Room...\n",
              "2  doc0002  ...  [Sports_&_Outdoors, Exercise_&_Fitness, Access...\n",
              "3  doc0003  ...                                                 []\n",
              "4  doc0004  ...                                                 []\n",
              "5  doc0005  ...  [Sports_&_Outdoors, Leisure_Sports_&_Game_Room...\n",
              "6  doc0006  ...  [Sports_&_Outdoors, Exercise_&_Fitness, Access...\n",
              "7  doc0007  ...            [Sports_&_Outdoors, Exercise_&_Fitness]\n",
              "8  doc0008  ...  [Sports_&_Outdoors, Exercise_&_Fitness, Streng...\n",
              "9  doc0009  ...  [Sports_&_Outdoors, Outdoor_Gear, Camping_&_Hi...\n",
              "\n",
              "[10 rows x 5 columns]"
            ]
          },
          "metadata": {
            "tags": []
          },
          "execution_count": 4
        }
      ]
    },
    {
      "cell_type": "code",
      "metadata": {
        "id": "dxY-ODRB272n",
        "colab_type": "code",
        "outputId": "03607d89-4c0a-453e-c338-4e989c79c602",
        "colab": {
          "base_uri": "https://localhost:8080/",
          "height": 923
        }
      },
      "source": [
        "train_token[\"len_token_list\"] = train_token.token_list.str.len()\n",
        "train_token.head(10)"
      ],
      "execution_count": 5,
      "outputs": [
        {
          "output_type": "execute_result",
          "data": {
            "text/html": [
              "<div>\n",
              "<style scoped>\n",
              "    .dataframe tbody tr th:only-of-type {\n",
              "        vertical-align: middle;\n",
              "    }\n",
              "\n",
              "    .dataframe tbody tr th {\n",
              "        vertical-align: top;\n",
              "    }\n",
              "\n",
              "    .dataframe thead th {\n",
              "        text-align: right;\n",
              "    }\n",
              "</style>\n",
              "<table border=\"1\" class=\"dataframe\">\n",
              "  <thead>\n",
              "    <tr style=\"text-align: right;\">\n",
              "      <th></th>\n",
              "      <th>doc_no</th>\n",
              "      <th>asin</th>\n",
              "      <th>title</th>\n",
              "      <th>token</th>\n",
              "      <th>token_list</th>\n",
              "      <th>len_token_list</th>\n",
              "    </tr>\n",
              "  </thead>\n",
              "  <tbody>\n",
              "    <tr>\n",
              "      <th>0</th>\n",
              "      <td>doc0000</td>\n",
              "      <td>1591791065</td>\n",
              "      <td>Kirtan</td>\n",
              "      <td>CDs_&amp;_Vinyl@@Classical</td>\n",
              "      <td>[CDs_&amp;_Vinyl, Classical]</td>\n",
              "      <td>2</td>\n",
              "    </tr>\n",
              "    <tr>\n",
              "      <th>1</th>\n",
              "      <td>doc0001</td>\n",
              "      <td>158042127X</td>\n",
              "      <td>Championship No-Limit &amp;amp; Pot-Limit Hold'Em</td>\n",
              "      <td>Sports_&amp;_Outdoors@@Leisure_Sports_&amp;_Game_Room@...</td>\n",
              "      <td>[Sports_&amp;_Outdoors, Leisure_Sports_&amp;_Game_Room...</td>\n",
              "      <td>3</td>\n",
              "    </tr>\n",
              "    <tr>\n",
              "      <th>2</th>\n",
              "      <td>doc0002</td>\n",
              "      <td>7245456259</td>\n",
              "      <td>Black Mountain Products Single Resistance Band...</td>\n",
              "      <td>Sports_&amp;_Outdoors@@Exercise_&amp;_Fitness@@Accesso...</td>\n",
              "      <td>[Sports_&amp;_Outdoors, Exercise_&amp;_Fitness, Access...</td>\n",
              "      <td>4</td>\n",
              "    </tr>\n",
              "    <tr>\n",
              "      <th>3</th>\n",
              "      <td>doc0003</td>\n",
              "      <td></td>\n",
              "      <td>Joan Wulff's Dynamics of Fly Casting [VHS]</td>\n",
              "      <td></td>\n",
              "      <td>[]</td>\n",
              "      <td>1</td>\n",
              "    </tr>\n",
              "    <tr>\n",
              "      <th>4</th>\n",
              "      <td>doc0004</td>\n",
              "      <td></td>\n",
              "      <td>Yoga With Richard Freeman:  Ashtanga Yoga: The...</td>\n",
              "      <td></td>\n",
              "      <td>[]</td>\n",
              "      <td>1</td>\n",
              "    </tr>\n",
              "    <tr>\n",
              "      <th>5</th>\n",
              "      <td>doc0005</td>\n",
              "      <td>1400659477</td>\n",
              "      <td>The Learning Journey Techno Gears Marble Mania...</td>\n",
              "      <td>Sports_&amp;_Outdoors@@Leisure_Sports_&amp;_Game_Room@...</td>\n",
              "      <td>[Sports_&amp;_Outdoors, Leisure_Sports_&amp;_Game_Room...</td>\n",
              "      <td>4</td>\n",
              "    </tr>\n",
              "    <tr>\n",
              "      <th>6</th>\n",
              "      <td>doc0006</td>\n",
              "      <td>7245456313</td>\n",
              "      <td>Black Mountain Products Resistance Band Set wi...</td>\n",
              "      <td>Sports_&amp;_Outdoors@@Exercise_&amp;_Fitness@@Accesso...</td>\n",
              "      <td>[Sports_&amp;_Outdoors, Exercise_&amp;_Fitness, Access...</td>\n",
              "      <td>4</td>\n",
              "    </tr>\n",
              "    <tr>\n",
              "      <th>7</th>\n",
              "      <td>doc0007</td>\n",
              "      <td>0965042138</td>\n",
              "      <td>Combat Conditioning: Functional Exercises for ...</td>\n",
              "      <td>Sports_&amp;_Outdoors@@Exercise_&amp;_Fitness</td>\n",
              "      <td>[Sports_&amp;_Outdoors, Exercise_&amp;_Fitness]</td>\n",
              "      <td>2</td>\n",
              "    </tr>\n",
              "    <tr>\n",
              "      <th>8</th>\n",
              "      <td>doc0008</td>\n",
              "      <td>7245456321</td>\n",
              "      <td>Black Mountain Products New Heavy Duty Bmp Doo...</td>\n",
              "      <td>Sports_&amp;_Outdoors@@Exercise_&amp;_Fitness@@Strengt...</td>\n",
              "      <td>[Sports_&amp;_Outdoors, Exercise_&amp;_Fitness, Streng...</td>\n",
              "      <td>4</td>\n",
              "    </tr>\n",
              "    <tr>\n",
              "      <th>9</th>\n",
              "      <td>doc0009</td>\n",
              "      <td>B00KWR4CIM</td>\n",
              "      <td>Purple</td>\n",
              "      <td>Sports_&amp;_Outdoors@@Outdoor_Gear@@Camping_&amp;_Hik...</td>\n",
              "      <td>[Sports_&amp;_Outdoors, Outdoor_Gear, Camping_&amp;_Hi...</td>\n",
              "      <td>5</td>\n",
              "    </tr>\n",
              "  </tbody>\n",
              "</table>\n",
              "</div>"
            ],
            "text/plain": [
              "    doc_no  ... len_token_list\n",
              "0  doc0000  ...              2\n",
              "1  doc0001  ...              3\n",
              "2  doc0002  ...              4\n",
              "3  doc0003  ...              1\n",
              "4  doc0004  ...              1\n",
              "5  doc0005  ...              4\n",
              "6  doc0006  ...              4\n",
              "7  doc0007  ...              2\n",
              "8  doc0008  ...              4\n",
              "9  doc0009  ...              5\n",
              "\n",
              "[10 rows x 6 columns]"
            ]
          },
          "metadata": {
            "tags": []
          },
          "execution_count": 5
        }
      ]
    },
    {
      "cell_type": "code",
      "metadata": {
        "id": "Bt_yIXrk3hgP",
        "colab_type": "code",
        "outputId": "ee705737-3823-411e-ae92-e7430080a6e8",
        "colab": {
          "base_uri": "https://localhost:8080/",
          "height": 297
        }
      },
      "source": [
        "train_token.describe()"
      ],
      "execution_count": 6,
      "outputs": [
        {
          "output_type": "execute_result",
          "data": {
            "text/html": [
              "<div>\n",
              "<style scoped>\n",
              "    .dataframe tbody tr th:only-of-type {\n",
              "        vertical-align: middle;\n",
              "    }\n",
              "\n",
              "    .dataframe tbody tr th {\n",
              "        vertical-align: top;\n",
              "    }\n",
              "\n",
              "    .dataframe thead th {\n",
              "        text-align: right;\n",
              "    }\n",
              "</style>\n",
              "<table border=\"1\" class=\"dataframe\">\n",
              "  <thead>\n",
              "    <tr style=\"text-align: right;\">\n",
              "      <th></th>\n",
              "      <th>len_token_list</th>\n",
              "    </tr>\n",
              "  </thead>\n",
              "  <tbody>\n",
              "    <tr>\n",
              "      <th>count</th>\n",
              "      <td>1200.000000</td>\n",
              "    </tr>\n",
              "    <tr>\n",
              "      <th>mean</th>\n",
              "      <td>4.337500</td>\n",
              "    </tr>\n",
              "    <tr>\n",
              "      <th>std</th>\n",
              "      <td>0.969214</td>\n",
              "    </tr>\n",
              "    <tr>\n",
              "      <th>min</th>\n",
              "      <td>1.000000</td>\n",
              "    </tr>\n",
              "    <tr>\n",
              "      <th>25%</th>\n",
              "      <td>4.000000</td>\n",
              "    </tr>\n",
              "    <tr>\n",
              "      <th>50%</th>\n",
              "      <td>4.000000</td>\n",
              "    </tr>\n",
              "    <tr>\n",
              "      <th>75%</th>\n",
              "      <td>5.000000</td>\n",
              "    </tr>\n",
              "    <tr>\n",
              "      <th>max</th>\n",
              "      <td>6.000000</td>\n",
              "    </tr>\n",
              "  </tbody>\n",
              "</table>\n",
              "</div>"
            ],
            "text/plain": [
              "       len_token_list\n",
              "count     1200.000000\n",
              "mean         4.337500\n",
              "std          0.969214\n",
              "min          1.000000\n",
              "25%          4.000000\n",
              "50%          4.000000\n",
              "75%          5.000000\n",
              "max          6.000000"
            ]
          },
          "metadata": {
            "tags": []
          },
          "execution_count": 6
        }
      ]
    },
    {
      "cell_type": "code",
      "metadata": {
        "id": "jiqZ0ddkADZB",
        "colab_type": "code",
        "outputId": "41ea2816-ce7c-453d-93f1-c745147257c5",
        "colab": {
          "base_uri": "https://localhost:8080/",
          "height": 136
        }
      },
      "source": [
        "train_token.len_token_list.value_counts()"
      ],
      "execution_count": 7,
      "outputs": [
        {
          "output_type": "execute_result",
          "data": {
            "text/plain": [
              "5    510\n",
              "4    479\n",
              "3     87\n",
              "6     66\n",
              "1     34\n",
              "2     24\n",
              "Name: len_token_list, dtype: int64"
            ]
          },
          "metadata": {
            "tags": []
          },
          "execution_count": 7
        }
      ]
    },
    {
      "cell_type": "code",
      "metadata": {
        "id": "OAjJqo5y4HiG",
        "colab_type": "code",
        "outputId": "043edca6-e383-4384-846c-54691e116dd7",
        "colab": {
          "base_uri": "https://localhost:8080/",
          "height": 923
        }
      },
      "source": [
        "def pad_list(data, max_len=6):\n",
        "    data[\"token_list_pad\"] = \"\"\n",
        "    for index, row in data.iterrows():\n",
        "        pad_number = max_len - row.len_token_list\n",
        "        data.at[index, \"token_list_pad\"] = row.token_list + ([\"\"] * pad_number)\n",
        "    return data\n",
        "\n",
        "train_token = pad_list(train_token, 6)\n",
        "train_token.head(10)"
      ],
      "execution_count": 8,
      "outputs": [
        {
          "output_type": "execute_result",
          "data": {
            "text/html": [
              "<div>\n",
              "<style scoped>\n",
              "    .dataframe tbody tr th:only-of-type {\n",
              "        vertical-align: middle;\n",
              "    }\n",
              "\n",
              "    .dataframe tbody tr th {\n",
              "        vertical-align: top;\n",
              "    }\n",
              "\n",
              "    .dataframe thead th {\n",
              "        text-align: right;\n",
              "    }\n",
              "</style>\n",
              "<table border=\"1\" class=\"dataframe\">\n",
              "  <thead>\n",
              "    <tr style=\"text-align: right;\">\n",
              "      <th></th>\n",
              "      <th>doc_no</th>\n",
              "      <th>asin</th>\n",
              "      <th>title</th>\n",
              "      <th>token</th>\n",
              "      <th>token_list</th>\n",
              "      <th>len_token_list</th>\n",
              "      <th>token_list_pad</th>\n",
              "    </tr>\n",
              "  </thead>\n",
              "  <tbody>\n",
              "    <tr>\n",
              "      <th>0</th>\n",
              "      <td>doc0000</td>\n",
              "      <td>1591791065</td>\n",
              "      <td>Kirtan</td>\n",
              "      <td>CDs_&amp;_Vinyl@@Classical</td>\n",
              "      <td>[CDs_&amp;_Vinyl, Classical]</td>\n",
              "      <td>2</td>\n",
              "      <td>[CDs_&amp;_Vinyl, Classical, , , , ]</td>\n",
              "    </tr>\n",
              "    <tr>\n",
              "      <th>1</th>\n",
              "      <td>doc0001</td>\n",
              "      <td>158042127X</td>\n",
              "      <td>Championship No-Limit &amp;amp; Pot-Limit Hold'Em</td>\n",
              "      <td>Sports_&amp;_Outdoors@@Leisure_Sports_&amp;_Game_Room@...</td>\n",
              "      <td>[Sports_&amp;_Outdoors, Leisure_Sports_&amp;_Game_Room...</td>\n",
              "      <td>3</td>\n",
              "      <td>[Sports_&amp;_Outdoors, Leisure_Sports_&amp;_Game_Room...</td>\n",
              "    </tr>\n",
              "    <tr>\n",
              "      <th>2</th>\n",
              "      <td>doc0002</td>\n",
              "      <td>7245456259</td>\n",
              "      <td>Black Mountain Products Single Resistance Band...</td>\n",
              "      <td>Sports_&amp;_Outdoors@@Exercise_&amp;_Fitness@@Accesso...</td>\n",
              "      <td>[Sports_&amp;_Outdoors, Exercise_&amp;_Fitness, Access...</td>\n",
              "      <td>4</td>\n",
              "      <td>[Sports_&amp;_Outdoors, Exercise_&amp;_Fitness, Access...</td>\n",
              "    </tr>\n",
              "    <tr>\n",
              "      <th>3</th>\n",
              "      <td>doc0003</td>\n",
              "      <td></td>\n",
              "      <td>Joan Wulff's Dynamics of Fly Casting [VHS]</td>\n",
              "      <td></td>\n",
              "      <td>[]</td>\n",
              "      <td>1</td>\n",
              "      <td>[, , , , , ]</td>\n",
              "    </tr>\n",
              "    <tr>\n",
              "      <th>4</th>\n",
              "      <td>doc0004</td>\n",
              "      <td></td>\n",
              "      <td>Yoga With Richard Freeman:  Ashtanga Yoga: The...</td>\n",
              "      <td></td>\n",
              "      <td>[]</td>\n",
              "      <td>1</td>\n",
              "      <td>[, , , , , ]</td>\n",
              "    </tr>\n",
              "    <tr>\n",
              "      <th>5</th>\n",
              "      <td>doc0005</td>\n",
              "      <td>1400659477</td>\n",
              "      <td>The Learning Journey Techno Gears Marble Mania...</td>\n",
              "      <td>Sports_&amp;_Outdoors@@Leisure_Sports_&amp;_Game_Room@...</td>\n",
              "      <td>[Sports_&amp;_Outdoors, Leisure_Sports_&amp;_Game_Room...</td>\n",
              "      <td>4</td>\n",
              "      <td>[Sports_&amp;_Outdoors, Leisure_Sports_&amp;_Game_Room...</td>\n",
              "    </tr>\n",
              "    <tr>\n",
              "      <th>6</th>\n",
              "      <td>doc0006</td>\n",
              "      <td>7245456313</td>\n",
              "      <td>Black Mountain Products Resistance Band Set wi...</td>\n",
              "      <td>Sports_&amp;_Outdoors@@Exercise_&amp;_Fitness@@Accesso...</td>\n",
              "      <td>[Sports_&amp;_Outdoors, Exercise_&amp;_Fitness, Access...</td>\n",
              "      <td>4</td>\n",
              "      <td>[Sports_&amp;_Outdoors, Exercise_&amp;_Fitness, Access...</td>\n",
              "    </tr>\n",
              "    <tr>\n",
              "      <th>7</th>\n",
              "      <td>doc0007</td>\n",
              "      <td>0965042138</td>\n",
              "      <td>Combat Conditioning: Functional Exercises for ...</td>\n",
              "      <td>Sports_&amp;_Outdoors@@Exercise_&amp;_Fitness</td>\n",
              "      <td>[Sports_&amp;_Outdoors, Exercise_&amp;_Fitness]</td>\n",
              "      <td>2</td>\n",
              "      <td>[Sports_&amp;_Outdoors, Exercise_&amp;_Fitness, , , , ]</td>\n",
              "    </tr>\n",
              "    <tr>\n",
              "      <th>8</th>\n",
              "      <td>doc0008</td>\n",
              "      <td>7245456321</td>\n",
              "      <td>Black Mountain Products New Heavy Duty Bmp Doo...</td>\n",
              "      <td>Sports_&amp;_Outdoors@@Exercise_&amp;_Fitness@@Strengt...</td>\n",
              "      <td>[Sports_&amp;_Outdoors, Exercise_&amp;_Fitness, Streng...</td>\n",
              "      <td>4</td>\n",
              "      <td>[Sports_&amp;_Outdoors, Exercise_&amp;_Fitness, Streng...</td>\n",
              "    </tr>\n",
              "    <tr>\n",
              "      <th>9</th>\n",
              "      <td>doc0009</td>\n",
              "      <td>B00KWR4CIM</td>\n",
              "      <td>Purple</td>\n",
              "      <td>Sports_&amp;_Outdoors@@Outdoor_Gear@@Camping_&amp;_Hik...</td>\n",
              "      <td>[Sports_&amp;_Outdoors, Outdoor_Gear, Camping_&amp;_Hi...</td>\n",
              "      <td>5</td>\n",
              "      <td>[Sports_&amp;_Outdoors, Outdoor_Gear, Camping_&amp;_Hi...</td>\n",
              "    </tr>\n",
              "  </tbody>\n",
              "</table>\n",
              "</div>"
            ],
            "text/plain": [
              "    doc_no  ...                                     token_list_pad\n",
              "0  doc0000  ...                   [CDs_&_Vinyl, Classical, , , , ]\n",
              "1  doc0001  ...  [Sports_&_Outdoors, Leisure_Sports_&_Game_Room...\n",
              "2  doc0002  ...  [Sports_&_Outdoors, Exercise_&_Fitness, Access...\n",
              "3  doc0003  ...                                       [, , , , , ]\n",
              "4  doc0004  ...                                       [, , , , , ]\n",
              "5  doc0005  ...  [Sports_&_Outdoors, Leisure_Sports_&_Game_Room...\n",
              "6  doc0006  ...  [Sports_&_Outdoors, Exercise_&_Fitness, Access...\n",
              "7  doc0007  ...    [Sports_&_Outdoors, Exercise_&_Fitness, , , , ]\n",
              "8  doc0008  ...  [Sports_&_Outdoors, Exercise_&_Fitness, Streng...\n",
              "9  doc0009  ...  [Sports_&_Outdoors, Outdoor_Gear, Camping_&_Hi...\n",
              "\n",
              "[10 rows x 7 columns]"
            ]
          },
          "metadata": {
            "tags": []
          },
          "execution_count": 8
        }
      ]
    },
    {
      "cell_type": "code",
      "metadata": {
        "id": "C1ZAN9YF4z2I",
        "colab_type": "code",
        "outputId": "84c8ec74-e1e9-4aa8-dc00-3d818530d222",
        "colab": {
          "base_uri": "https://localhost:8080/",
          "height": 923
        }
      },
      "source": [
        "train_token[\"len_token_list_pad\"] = train_token.token_list_pad.str.len()\n",
        "train_token.head(10)"
      ],
      "execution_count": 9,
      "outputs": [
        {
          "output_type": "execute_result",
          "data": {
            "text/html": [
              "<div>\n",
              "<style scoped>\n",
              "    .dataframe tbody tr th:only-of-type {\n",
              "        vertical-align: middle;\n",
              "    }\n",
              "\n",
              "    .dataframe tbody tr th {\n",
              "        vertical-align: top;\n",
              "    }\n",
              "\n",
              "    .dataframe thead th {\n",
              "        text-align: right;\n",
              "    }\n",
              "</style>\n",
              "<table border=\"1\" class=\"dataframe\">\n",
              "  <thead>\n",
              "    <tr style=\"text-align: right;\">\n",
              "      <th></th>\n",
              "      <th>doc_no</th>\n",
              "      <th>asin</th>\n",
              "      <th>title</th>\n",
              "      <th>token</th>\n",
              "      <th>token_list</th>\n",
              "      <th>len_token_list</th>\n",
              "      <th>token_list_pad</th>\n",
              "      <th>len_token_list_pad</th>\n",
              "    </tr>\n",
              "  </thead>\n",
              "  <tbody>\n",
              "    <tr>\n",
              "      <th>0</th>\n",
              "      <td>doc0000</td>\n",
              "      <td>1591791065</td>\n",
              "      <td>Kirtan</td>\n",
              "      <td>CDs_&amp;_Vinyl@@Classical</td>\n",
              "      <td>[CDs_&amp;_Vinyl, Classical]</td>\n",
              "      <td>2</td>\n",
              "      <td>[CDs_&amp;_Vinyl, Classical, , , , ]</td>\n",
              "      <td>6</td>\n",
              "    </tr>\n",
              "    <tr>\n",
              "      <th>1</th>\n",
              "      <td>doc0001</td>\n",
              "      <td>158042127X</td>\n",
              "      <td>Championship No-Limit &amp;amp; Pot-Limit Hold'Em</td>\n",
              "      <td>Sports_&amp;_Outdoors@@Leisure_Sports_&amp;_Game_Room@...</td>\n",
              "      <td>[Sports_&amp;_Outdoors, Leisure_Sports_&amp;_Game_Room...</td>\n",
              "      <td>3</td>\n",
              "      <td>[Sports_&amp;_Outdoors, Leisure_Sports_&amp;_Game_Room...</td>\n",
              "      <td>6</td>\n",
              "    </tr>\n",
              "    <tr>\n",
              "      <th>2</th>\n",
              "      <td>doc0002</td>\n",
              "      <td>7245456259</td>\n",
              "      <td>Black Mountain Products Single Resistance Band...</td>\n",
              "      <td>Sports_&amp;_Outdoors@@Exercise_&amp;_Fitness@@Accesso...</td>\n",
              "      <td>[Sports_&amp;_Outdoors, Exercise_&amp;_Fitness, Access...</td>\n",
              "      <td>4</td>\n",
              "      <td>[Sports_&amp;_Outdoors, Exercise_&amp;_Fitness, Access...</td>\n",
              "      <td>6</td>\n",
              "    </tr>\n",
              "    <tr>\n",
              "      <th>3</th>\n",
              "      <td>doc0003</td>\n",
              "      <td></td>\n",
              "      <td>Joan Wulff's Dynamics of Fly Casting [VHS]</td>\n",
              "      <td></td>\n",
              "      <td>[]</td>\n",
              "      <td>1</td>\n",
              "      <td>[, , , , , ]</td>\n",
              "      <td>6</td>\n",
              "    </tr>\n",
              "    <tr>\n",
              "      <th>4</th>\n",
              "      <td>doc0004</td>\n",
              "      <td></td>\n",
              "      <td>Yoga With Richard Freeman:  Ashtanga Yoga: The...</td>\n",
              "      <td></td>\n",
              "      <td>[]</td>\n",
              "      <td>1</td>\n",
              "      <td>[, , , , , ]</td>\n",
              "      <td>6</td>\n",
              "    </tr>\n",
              "    <tr>\n",
              "      <th>5</th>\n",
              "      <td>doc0005</td>\n",
              "      <td>1400659477</td>\n",
              "      <td>The Learning Journey Techno Gears Marble Mania...</td>\n",
              "      <td>Sports_&amp;_Outdoors@@Leisure_Sports_&amp;_Game_Room@...</td>\n",
              "      <td>[Sports_&amp;_Outdoors, Leisure_Sports_&amp;_Game_Room...</td>\n",
              "      <td>4</td>\n",
              "      <td>[Sports_&amp;_Outdoors, Leisure_Sports_&amp;_Game_Room...</td>\n",
              "      <td>6</td>\n",
              "    </tr>\n",
              "    <tr>\n",
              "      <th>6</th>\n",
              "      <td>doc0006</td>\n",
              "      <td>7245456313</td>\n",
              "      <td>Black Mountain Products Resistance Band Set wi...</td>\n",
              "      <td>Sports_&amp;_Outdoors@@Exercise_&amp;_Fitness@@Accesso...</td>\n",
              "      <td>[Sports_&amp;_Outdoors, Exercise_&amp;_Fitness, Access...</td>\n",
              "      <td>4</td>\n",
              "      <td>[Sports_&amp;_Outdoors, Exercise_&amp;_Fitness, Access...</td>\n",
              "      <td>6</td>\n",
              "    </tr>\n",
              "    <tr>\n",
              "      <th>7</th>\n",
              "      <td>doc0007</td>\n",
              "      <td>0965042138</td>\n",
              "      <td>Combat Conditioning: Functional Exercises for ...</td>\n",
              "      <td>Sports_&amp;_Outdoors@@Exercise_&amp;_Fitness</td>\n",
              "      <td>[Sports_&amp;_Outdoors, Exercise_&amp;_Fitness]</td>\n",
              "      <td>2</td>\n",
              "      <td>[Sports_&amp;_Outdoors, Exercise_&amp;_Fitness, , , , ]</td>\n",
              "      <td>6</td>\n",
              "    </tr>\n",
              "    <tr>\n",
              "      <th>8</th>\n",
              "      <td>doc0008</td>\n",
              "      <td>7245456321</td>\n",
              "      <td>Black Mountain Products New Heavy Duty Bmp Doo...</td>\n",
              "      <td>Sports_&amp;_Outdoors@@Exercise_&amp;_Fitness@@Strengt...</td>\n",
              "      <td>[Sports_&amp;_Outdoors, Exercise_&amp;_Fitness, Streng...</td>\n",
              "      <td>4</td>\n",
              "      <td>[Sports_&amp;_Outdoors, Exercise_&amp;_Fitness, Streng...</td>\n",
              "      <td>6</td>\n",
              "    </tr>\n",
              "    <tr>\n",
              "      <th>9</th>\n",
              "      <td>doc0009</td>\n",
              "      <td>B00KWR4CIM</td>\n",
              "      <td>Purple</td>\n",
              "      <td>Sports_&amp;_Outdoors@@Outdoor_Gear@@Camping_&amp;_Hik...</td>\n",
              "      <td>[Sports_&amp;_Outdoors, Outdoor_Gear, Camping_&amp;_Hi...</td>\n",
              "      <td>5</td>\n",
              "      <td>[Sports_&amp;_Outdoors, Outdoor_Gear, Camping_&amp;_Hi...</td>\n",
              "      <td>6</td>\n",
              "    </tr>\n",
              "  </tbody>\n",
              "</table>\n",
              "</div>"
            ],
            "text/plain": [
              "    doc_no  ... len_token_list_pad\n",
              "0  doc0000  ...                  6\n",
              "1  doc0001  ...                  6\n",
              "2  doc0002  ...                  6\n",
              "3  doc0003  ...                  6\n",
              "4  doc0004  ...                  6\n",
              "5  doc0005  ...                  6\n",
              "6  doc0006  ...                  6\n",
              "7  doc0007  ...                  6\n",
              "8  doc0008  ...                  6\n",
              "9  doc0009  ...                  6\n",
              "\n",
              "[10 rows x 8 columns]"
            ]
          },
          "metadata": {
            "tags": []
          },
          "execution_count": 9
        }
      ]
    },
    {
      "cell_type": "code",
      "metadata": {
        "id": "ijtv3A9072fI",
        "colab_type": "code",
        "outputId": "7630d8b5-e2b4-4195-ea97-e1b674c50111",
        "colab": {
          "base_uri": "https://localhost:8080/",
          "height": 297
        }
      },
      "source": [
        "train_token.describe()"
      ],
      "execution_count": 10,
      "outputs": [
        {
          "output_type": "execute_result",
          "data": {
            "text/html": [
              "<div>\n",
              "<style scoped>\n",
              "    .dataframe tbody tr th:only-of-type {\n",
              "        vertical-align: middle;\n",
              "    }\n",
              "\n",
              "    .dataframe tbody tr th {\n",
              "        vertical-align: top;\n",
              "    }\n",
              "\n",
              "    .dataframe thead th {\n",
              "        text-align: right;\n",
              "    }\n",
              "</style>\n",
              "<table border=\"1\" class=\"dataframe\">\n",
              "  <thead>\n",
              "    <tr style=\"text-align: right;\">\n",
              "      <th></th>\n",
              "      <th>len_token_list</th>\n",
              "      <th>len_token_list_pad</th>\n",
              "    </tr>\n",
              "  </thead>\n",
              "  <tbody>\n",
              "    <tr>\n",
              "      <th>count</th>\n",
              "      <td>1200.000000</td>\n",
              "      <td>1200.0</td>\n",
              "    </tr>\n",
              "    <tr>\n",
              "      <th>mean</th>\n",
              "      <td>4.337500</td>\n",
              "      <td>6.0</td>\n",
              "    </tr>\n",
              "    <tr>\n",
              "      <th>std</th>\n",
              "      <td>0.969214</td>\n",
              "      <td>0.0</td>\n",
              "    </tr>\n",
              "    <tr>\n",
              "      <th>min</th>\n",
              "      <td>1.000000</td>\n",
              "      <td>6.0</td>\n",
              "    </tr>\n",
              "    <tr>\n",
              "      <th>25%</th>\n",
              "      <td>4.000000</td>\n",
              "      <td>6.0</td>\n",
              "    </tr>\n",
              "    <tr>\n",
              "      <th>50%</th>\n",
              "      <td>4.000000</td>\n",
              "      <td>6.0</td>\n",
              "    </tr>\n",
              "    <tr>\n",
              "      <th>75%</th>\n",
              "      <td>5.000000</td>\n",
              "      <td>6.0</td>\n",
              "    </tr>\n",
              "    <tr>\n",
              "      <th>max</th>\n",
              "      <td>6.000000</td>\n",
              "      <td>6.0</td>\n",
              "    </tr>\n",
              "  </tbody>\n",
              "</table>\n",
              "</div>"
            ],
            "text/plain": [
              "       len_token_list  len_token_list_pad\n",
              "count     1200.000000              1200.0\n",
              "mean         4.337500                 6.0\n",
              "std          0.969214                 0.0\n",
              "min          1.000000                 6.0\n",
              "25%          4.000000                 6.0\n",
              "50%          4.000000                 6.0\n",
              "75%          5.000000                 6.0\n",
              "max          6.000000                 6.0"
            ]
          },
          "metadata": {
            "tags": []
          },
          "execution_count": 10
        }
      ]
    },
    {
      "cell_type": "code",
      "metadata": {
        "id": "HcIiAJD98Fok",
        "colab_type": "code",
        "outputId": "cf5727ff-e895-45e7-80a6-64e82bdb1b3e",
        "colab": {
          "base_uri": "https://localhost:8080/",
          "height": 923
        }
      },
      "source": [
        "train_token[[\"sub_cat_1\", \"sub_cat_2\", \"sub_cat_3\", \"sub_cat_4\", \"sub_cat_5\", \"sub_cat_6\"]] = pd.DataFrame(train_token.token_list_pad.values.tolist(), index=train_token.index)\n",
        "train_token.head(10)"
      ],
      "execution_count": 11,
      "outputs": [
        {
          "output_type": "execute_result",
          "data": {
            "text/html": [
              "<div>\n",
              "<style scoped>\n",
              "    .dataframe tbody tr th:only-of-type {\n",
              "        vertical-align: middle;\n",
              "    }\n",
              "\n",
              "    .dataframe tbody tr th {\n",
              "        vertical-align: top;\n",
              "    }\n",
              "\n",
              "    .dataframe thead th {\n",
              "        text-align: right;\n",
              "    }\n",
              "</style>\n",
              "<table border=\"1\" class=\"dataframe\">\n",
              "  <thead>\n",
              "    <tr style=\"text-align: right;\">\n",
              "      <th></th>\n",
              "      <th>doc_no</th>\n",
              "      <th>asin</th>\n",
              "      <th>title</th>\n",
              "      <th>token</th>\n",
              "      <th>token_list</th>\n",
              "      <th>len_token_list</th>\n",
              "      <th>token_list_pad</th>\n",
              "      <th>len_token_list_pad</th>\n",
              "      <th>sub_cat_1</th>\n",
              "      <th>sub_cat_2</th>\n",
              "      <th>sub_cat_3</th>\n",
              "      <th>sub_cat_4</th>\n",
              "      <th>sub_cat_5</th>\n",
              "      <th>sub_cat_6</th>\n",
              "    </tr>\n",
              "  </thead>\n",
              "  <tbody>\n",
              "    <tr>\n",
              "      <th>0</th>\n",
              "      <td>doc0000</td>\n",
              "      <td>1591791065</td>\n",
              "      <td>Kirtan</td>\n",
              "      <td>CDs_&amp;_Vinyl@@Classical</td>\n",
              "      <td>[CDs_&amp;_Vinyl, Classical]</td>\n",
              "      <td>2</td>\n",
              "      <td>[CDs_&amp;_Vinyl, Classical, , , , ]</td>\n",
              "      <td>6</td>\n",
              "      <td>CDs_&amp;_Vinyl</td>\n",
              "      <td>Classical</td>\n",
              "      <td></td>\n",
              "      <td></td>\n",
              "      <td></td>\n",
              "      <td></td>\n",
              "    </tr>\n",
              "    <tr>\n",
              "      <th>1</th>\n",
              "      <td>doc0001</td>\n",
              "      <td>158042127X</td>\n",
              "      <td>Championship No-Limit &amp;amp; Pot-Limit Hold'Em</td>\n",
              "      <td>Sports_&amp;_Outdoors@@Leisure_Sports_&amp;_Game_Room@...</td>\n",
              "      <td>[Sports_&amp;_Outdoors, Leisure_Sports_&amp;_Game_Room...</td>\n",
              "      <td>3</td>\n",
              "      <td>[Sports_&amp;_Outdoors, Leisure_Sports_&amp;_Game_Room...</td>\n",
              "      <td>6</td>\n",
              "      <td>Sports_&amp;_Outdoors</td>\n",
              "      <td>Leisure_Sports_&amp;_Game_Room</td>\n",
              "      <td>Casino_Equipment</td>\n",
              "      <td></td>\n",
              "      <td></td>\n",
              "      <td></td>\n",
              "    </tr>\n",
              "    <tr>\n",
              "      <th>2</th>\n",
              "      <td>doc0002</td>\n",
              "      <td>7245456259</td>\n",
              "      <td>Black Mountain Products Single Resistance Band...</td>\n",
              "      <td>Sports_&amp;_Outdoors@@Exercise_&amp;_Fitness@@Accesso...</td>\n",
              "      <td>[Sports_&amp;_Outdoors, Exercise_&amp;_Fitness, Access...</td>\n",
              "      <td>4</td>\n",
              "      <td>[Sports_&amp;_Outdoors, Exercise_&amp;_Fitness, Access...</td>\n",
              "      <td>6</td>\n",
              "      <td>Sports_&amp;_Outdoors</td>\n",
              "      <td>Exercise_&amp;_Fitness</td>\n",
              "      <td>Accessories</td>\n",
              "      <td>Exercise_Bands</td>\n",
              "      <td></td>\n",
              "      <td></td>\n",
              "    </tr>\n",
              "    <tr>\n",
              "      <th>3</th>\n",
              "      <td>doc0003</td>\n",
              "      <td></td>\n",
              "      <td>Joan Wulff's Dynamics of Fly Casting [VHS]</td>\n",
              "      <td></td>\n",
              "      <td>[]</td>\n",
              "      <td>1</td>\n",
              "      <td>[, , , , , ]</td>\n",
              "      <td>6</td>\n",
              "      <td></td>\n",
              "      <td></td>\n",
              "      <td></td>\n",
              "      <td></td>\n",
              "      <td></td>\n",
              "      <td></td>\n",
              "    </tr>\n",
              "    <tr>\n",
              "      <th>4</th>\n",
              "      <td>doc0004</td>\n",
              "      <td></td>\n",
              "      <td>Yoga With Richard Freeman:  Ashtanga Yoga: The...</td>\n",
              "      <td></td>\n",
              "      <td>[]</td>\n",
              "      <td>1</td>\n",
              "      <td>[, , , , , ]</td>\n",
              "      <td>6</td>\n",
              "      <td></td>\n",
              "      <td></td>\n",
              "      <td></td>\n",
              "      <td></td>\n",
              "      <td></td>\n",
              "      <td></td>\n",
              "    </tr>\n",
              "    <tr>\n",
              "      <th>5</th>\n",
              "      <td>doc0005</td>\n",
              "      <td>1400659477</td>\n",
              "      <td>The Learning Journey Techno Gears Marble Mania...</td>\n",
              "      <td>Sports_&amp;_Outdoors@@Leisure_Sports_&amp;_Game_Room@...</td>\n",
              "      <td>[Sports_&amp;_Outdoors, Leisure_Sports_&amp;_Game_Room...</td>\n",
              "      <td>4</td>\n",
              "      <td>[Sports_&amp;_Outdoors, Leisure_Sports_&amp;_Game_Room...</td>\n",
              "      <td>6</td>\n",
              "      <td>Sports_&amp;_Outdoors</td>\n",
              "      <td>Leisure_Sports_&amp;_Game_Room</td>\n",
              "      <td>Darts_&amp;_Equipment</td>\n",
              "      <td>Dartboards</td>\n",
              "      <td></td>\n",
              "      <td></td>\n",
              "    </tr>\n",
              "    <tr>\n",
              "      <th>6</th>\n",
              "      <td>doc0006</td>\n",
              "      <td>7245456313</td>\n",
              "      <td>Black Mountain Products Resistance Band Set wi...</td>\n",
              "      <td>Sports_&amp;_Outdoors@@Exercise_&amp;_Fitness@@Accesso...</td>\n",
              "      <td>[Sports_&amp;_Outdoors, Exercise_&amp;_Fitness, Access...</td>\n",
              "      <td>4</td>\n",
              "      <td>[Sports_&amp;_Outdoors, Exercise_&amp;_Fitness, Access...</td>\n",
              "      <td>6</td>\n",
              "      <td>Sports_&amp;_Outdoors</td>\n",
              "      <td>Exercise_&amp;_Fitness</td>\n",
              "      <td>Accessories</td>\n",
              "      <td>Exercise_Bands</td>\n",
              "      <td></td>\n",
              "      <td></td>\n",
              "    </tr>\n",
              "    <tr>\n",
              "      <th>7</th>\n",
              "      <td>doc0007</td>\n",
              "      <td>0965042138</td>\n",
              "      <td>Combat Conditioning: Functional Exercises for ...</td>\n",
              "      <td>Sports_&amp;_Outdoors@@Exercise_&amp;_Fitness</td>\n",
              "      <td>[Sports_&amp;_Outdoors, Exercise_&amp;_Fitness]</td>\n",
              "      <td>2</td>\n",
              "      <td>[Sports_&amp;_Outdoors, Exercise_&amp;_Fitness, , , , ]</td>\n",
              "      <td>6</td>\n",
              "      <td>Sports_&amp;_Outdoors</td>\n",
              "      <td>Exercise_&amp;_Fitness</td>\n",
              "      <td></td>\n",
              "      <td></td>\n",
              "      <td></td>\n",
              "      <td></td>\n",
              "    </tr>\n",
              "    <tr>\n",
              "      <th>8</th>\n",
              "      <td>doc0008</td>\n",
              "      <td>7245456321</td>\n",
              "      <td>Black Mountain Products New Heavy Duty Bmp Doo...</td>\n",
              "      <td>Sports_&amp;_Outdoors@@Exercise_&amp;_Fitness@@Strengt...</td>\n",
              "      <td>[Sports_&amp;_Outdoors, Exercise_&amp;_Fitness, Streng...</td>\n",
              "      <td>4</td>\n",
              "      <td>[Sports_&amp;_Outdoors, Exercise_&amp;_Fitness, Streng...</td>\n",
              "      <td>6</td>\n",
              "      <td>Sports_&amp;_Outdoors</td>\n",
              "      <td>Exercise_&amp;_Fitness</td>\n",
              "      <td>Strength_Training_Equipment</td>\n",
              "      <td>Pull-Up_Bars</td>\n",
              "      <td></td>\n",
              "      <td></td>\n",
              "    </tr>\n",
              "    <tr>\n",
              "      <th>9</th>\n",
              "      <td>doc0009</td>\n",
              "      <td>B00KWR4CIM</td>\n",
              "      <td>Purple</td>\n",
              "      <td>Sports_&amp;_Outdoors@@Outdoor_Gear@@Camping_&amp;_Hik...</td>\n",
              "      <td>[Sports_&amp;_Outdoors, Outdoor_Gear, Camping_&amp;_Hi...</td>\n",
              "      <td>5</td>\n",
              "      <td>[Sports_&amp;_Outdoors, Outdoor_Gear, Camping_&amp;_Hi...</td>\n",
              "      <td>6</td>\n",
              "      <td>Sports_&amp;_Outdoors</td>\n",
              "      <td>Outdoor_Gear</td>\n",
              "      <td>Camping_&amp;_Hiking</td>\n",
              "      <td>Backpacks_&amp;_Bags</td>\n",
              "      <td>Waist_Packs</td>\n",
              "      <td></td>\n",
              "    </tr>\n",
              "  </tbody>\n",
              "</table>\n",
              "</div>"
            ],
            "text/plain": [
              "    doc_no        asin  ...    sub_cat_5 sub_cat_6\n",
              "0  doc0000  1591791065  ...                       \n",
              "1  doc0001  158042127X  ...                       \n",
              "2  doc0002  7245456259  ...                       \n",
              "3  doc0003              ...                       \n",
              "4  doc0004              ...                       \n",
              "5  doc0005  1400659477  ...                       \n",
              "6  doc0006  7245456313  ...                       \n",
              "7  doc0007  0965042138  ...                       \n",
              "8  doc0008  7245456321  ...                       \n",
              "9  doc0009  B00KWR4CIM  ...  Waist_Packs          \n",
              "\n",
              "[10 rows x 14 columns]"
            ]
          },
          "metadata": {
            "tags": []
          },
          "execution_count": 11
        }
      ]
    },
    {
      "cell_type": "markdown",
      "metadata": {
        "id": "3tEVb4hz-KJG",
        "colab_type": "text"
      },
      "source": [
        "# Analyse the sub-categories"
      ]
    },
    {
      "cell_type": "code",
      "metadata": {
        "id": "6bB9qOo08rOh",
        "colab_type": "code",
        "outputId": "d31d1cb8-007c-42a1-a0ed-b02407b8d687",
        "colab": {
          "base_uri": "https://localhost:8080/",
          "height": 102
        }
      },
      "source": [
        "# Sub-category 1\n",
        "train_token.sub_cat_1.describe(include=['O'])"
      ],
      "execution_count": 12,
      "outputs": [
        {
          "output_type": "execute_result",
          "data": {
            "text/plain": [
              "count                  1200\n",
              "unique                    4\n",
              "top       Sports_&_Outdoors\n",
              "freq                   1159\n",
              "Name: sub_cat_1, dtype: object"
            ]
          },
          "metadata": {
            "tags": []
          },
          "execution_count": 12
        }
      ]
    },
    {
      "cell_type": "code",
      "metadata": {
        "id": "YAKi5Z369kJg",
        "colab_type": "code",
        "outputId": "dc4ddfa9-edcd-47bd-babb-c100f7e96983",
        "colab": {
          "base_uri": "https://localhost:8080/",
          "height": 51
        }
      },
      "source": [
        "train_token.sub_cat_1.unique()"
      ],
      "execution_count": 13,
      "outputs": [
        {
          "output_type": "execute_result",
          "data": {
            "text/plain": [
              "array(['CDs_&_Vinyl', 'Sports_&_Outdoors', '', 'Sports & Outdoors'],\n",
              "      dtype=object)"
            ]
          },
          "metadata": {
            "tags": []
          },
          "execution_count": 13
        }
      ]
    },
    {
      "cell_type": "code",
      "metadata": {
        "id": "kHDhlCPq-92f",
        "colab_type": "code",
        "outputId": "c78f925c-92c2-4356-9d72-297fe03fe9a7",
        "colab": {
          "base_uri": "https://localhost:8080/",
          "height": 102
        }
      },
      "source": [
        "train_token.sub_cat_1.value_counts()"
      ],
      "execution_count": 14,
      "outputs": [
        {
          "output_type": "execute_result",
          "data": {
            "text/plain": [
              "Sports_&_Outdoors    1159\n",
              "Sports & Outdoors      23\n",
              "                       11\n",
              "CDs_&_Vinyl             7\n",
              "Name: sub_cat_1, dtype: int64"
            ]
          },
          "metadata": {
            "tags": []
          },
          "execution_count": 14
        }
      ]
    },
    {
      "cell_type": "code",
      "metadata": {
        "id": "iuAb4pTZ9ven",
        "colab_type": "code",
        "outputId": "76a51342-b464-44e1-b5b8-f908373fddd9",
        "colab": {
          "base_uri": "https://localhost:8080/",
          "height": 102
        }
      },
      "source": [
        "# Sub-category 2\n",
        "train_token.sub_cat_2.describe(include=['O'])"
      ],
      "execution_count": 15,
      "outputs": [
        {
          "output_type": "execute_result",
          "data": {
            "text/plain": [
              "count             1200\n",
              "unique              25\n",
              "top       Outdoor_Gear\n",
              "freq               236\n",
              "Name: sub_cat_2, dtype: object"
            ]
          },
          "metadata": {
            "tags": []
          },
          "execution_count": 15
        }
      ]
    },
    {
      "cell_type": "code",
      "metadata": {
        "id": "1AYf9EJQ-PZC",
        "colab_type": "code",
        "outputId": "e87e2958-ec4d-4308-8c49-4534ef48321b",
        "colab": {
          "base_uri": "https://localhost:8080/",
          "height": 136
        }
      },
      "source": [
        "train_token.sub_cat_2.unique()"
      ],
      "execution_count": 16,
      "outputs": [
        {
          "output_type": "execute_result",
          "data": {
            "text/plain": [
              "array(['Classical', 'Leisure_Sports_&_Game_Room', 'Exercise_&_Fitness',\n",
              "       '', 'Outdoor_Gear', 'Classic_Rock', 'Golf', 'Hunting_&_Fishing',\n",
              "       'Other_Sports', 'Alternative_Rock', 'Boating_&_Water_Sports',\n",
              "       'Team_Sports', 'Cycling', 'Accessories', 'Paintball_&_Airsoft',\n",
              "       'Fan_Shop', 'Action_Sports', 'Clothing', 'Dance_&_Electronic',\n",
              "       'Racquet_Sports', 'Snow_Sports', 'Comedy_&_Spoken_Word',\n",
              "       'Equestrian_Sports', 'Pop', \"Children's_Music\"], dtype=object)"
            ]
          },
          "metadata": {
            "tags": []
          },
          "execution_count": 16
        }
      ]
    },
    {
      "cell_type": "code",
      "metadata": {
        "id": "uAhIBy_c-5Df",
        "colab_type": "code",
        "outputId": "db2520dc-907d-41c1-f335-ef9d7c05b991",
        "colab": {
          "base_uri": "https://localhost:8080/",
          "height": 459
        }
      },
      "source": [
        "train_token.sub_cat_2.value_counts()"
      ],
      "execution_count": 17,
      "outputs": [
        {
          "output_type": "execute_result",
          "data": {
            "text/plain": [
              "Outdoor_Gear                  236\n",
              "Hunting_&_Fishing             212\n",
              "Exercise_&_Fitness            181\n",
              "Accessories                    93\n",
              "Cycling                        78\n",
              "Clothing                       68\n",
              "Boating_&_Water_Sports         67\n",
              "Leisure_Sports_&_Game_Room     46\n",
              "Team_Sports                    43\n",
              "Paintball_&_Airsoft            39\n",
              "                               34\n",
              "Other_Sports                   31\n",
              "Action_Sports                  18\n",
              "Fan_Shop                       15\n",
              "Golf                           15\n",
              "Snow_Sports                     9\n",
              "Racquet_Sports                  6\n",
              "Equestrian_Sports               2\n",
              "Comedy_&_Spoken_Word            1\n",
              "Classic_Rock                    1\n",
              "Dance_&_Electronic              1\n",
              "Pop                             1\n",
              "Alternative_Rock                1\n",
              "Children's_Music                1\n",
              "Classical                       1\n",
              "Name: sub_cat_2, dtype: int64"
            ]
          },
          "metadata": {
            "tags": []
          },
          "execution_count": 17
        }
      ]
    },
    {
      "cell_type": "code",
      "metadata": {
        "id": "UlwFFwJI-Xw_",
        "colab_type": "code",
        "outputId": "4dd12dfb-84f8-47ab-d79c-5dfb2f217231",
        "colab": {
          "base_uri": "https://localhost:8080/",
          "height": 430
        }
      },
      "source": [
        "import matplotlib.pyplot as plt\n",
        "train_token.sub_cat_2.value_counts().plot(kind=\"bar\")"
      ],
      "execution_count": 18,
      "outputs": [
        {
          "output_type": "execute_result",
          "data": {
            "text/plain": [
              "<matplotlib.axes._subplots.AxesSubplot at 0x7f1810d2b4a8>"
            ]
          },
          "metadata": {
            "tags": []
          },
          "execution_count": 18
        },
        {
          "output_type": "display_data",
          "data": {
            "image/png": "[encoded data removed]",
            "text/plain": [
              "<Figure size 432x288 with 1 Axes>"
            ]
          },
          "metadata": {
            "tags": []
          }
        }
      ]
    },
    {
      "cell_type": "code",
      "metadata": {
        "id": "jwQHwZBF-tf8",
        "colab_type": "code",
        "outputId": "454c3e99-bc99-4820-a494-e4b01205b19c",
        "colab": {
          "base_uri": "https://localhost:8080/",
          "height": 102
        }
      },
      "source": [
        "# Sub-category 3\n",
        "train_token.sub_cat_3.describe(include=['O'])"
      ],
      "execution_count": 19,
      "outputs": [
        {
          "output_type": "execute_result",
          "data": {
            "text/plain": [
              "count                 1200\n",
              "unique                  99\n",
              "top       Camping_&_Hiking\n",
              "freq                   232\n",
              "Name: sub_cat_3, dtype: object"
            ]
          },
          "metadata": {
            "tags": []
          },
          "execution_count": 19
        }
      ]
    },
    {
      "cell_type": "code",
      "metadata": {
        "id": "9rERCvr8_k3o",
        "colab_type": "code",
        "outputId": "f2f75961-b7ec-4316-d4ba-da2b37d1a21c",
        "colab": {
          "base_uri": "https://localhost:8080/",
          "height": 1000
        }
      },
      "source": [
        "train_token.sub_cat_3.value_counts()"
      ],
      "execution_count": 20,
      "outputs": [
        {
          "output_type": "execute_result",
          "data": {
            "text/plain": [
              "Camping_&_Hiking                  232\n",
              "Hunting                           156\n",
              "Accessories                        87\n",
              "                                   58\n",
              "Strength_Training_Equipment        58\n",
              "Men                                46\n",
              "Swimming                           29\n",
              "Sport_Watches                      29\n",
              "Kids'_Bikes_&_Accessories          27\n",
              "Airsoft                            26\n",
              "Boating                            24\n",
              "Electronics_&_Gadgets              23\n",
              "Fishing                            22\n",
              "Outdoor_Games_&_Activities         19\n",
              "Car_Sports_Racks                   18\n",
              "Cardio_Training                    16\n",
              "Martial_Arts                       14\n",
              "Airsoft,_Air_Guns_&_Slingshots     14\n",
              "Women                              14\n",
              "Boxing                             13\n",
              "Paintball                          13\n",
              "Scooters_&_Equipment               13\n",
              "Archery                            12\n",
              "Transportation_&_Storage           11\n",
              "Balance_Trainers                    9\n",
              "Diving_&_Snorkeling                 9\n",
              "Basketball                          9\n",
              "Casino_Equipment                    9\n",
              "On-Course_Accessories               8\n",
              "Soccer                              8\n",
              "                                 ... \n",
              "Patio,_Lawn_&_Garden                1\n",
              "Playing_Field_Equipment             1\n",
              "Dance                               1\n",
              "Footwear                            1\n",
              "Spoken_Word                         1\n",
              "Sledding                            1\n",
              "Clothing                            1\n",
              "Helmets                             1\n",
              "Rangefinders                        1\n",
              "Billiards_&_Pool                    1\n",
              "Hardcore_&_Punk                     1\n",
              "Hydration                           1\n",
              "Electronica                         1\n",
              "Bowling                             1\n",
              "Psychedelic_Rock                    1\n",
              "Surfing                             1\n",
              "Educational                         1\n",
              "Exercise_Machine_Accessories        1\n",
              "Snowboarding                        1\n",
              "Waterskiing_&_Towsports             1\n",
              "Headbands                           1\n",
              "Badminton                           1\n",
              "Field_Hockey                        1\n",
              "Clothing_Accessories                1\n",
              "Bike_Tools_&_Maintenance            1\n",
              "Racquetball                         1\n",
              "Pilates                             1\n",
              "Snowshoeing                         1\n",
              "Tires_&_Tubes                       1\n",
              "Bags,_Packs_&_Accessories           1\n",
              "Name: sub_cat_3, Length: 99, dtype: int64"
            ]
          },
          "metadata": {
            "tags": []
          },
          "execution_count": 20
        }
      ]
    },
    {
      "cell_type": "code",
      "metadata": {
        "id": "Ouc_9bNp_o1d",
        "colab_type": "code",
        "outputId": "4a481528-d36b-41b6-bc37-d8d8478c7508",
        "colab": {
          "base_uri": "https://localhost:8080/",
          "height": 102
        }
      },
      "source": [
        "# Sub-category 4\n",
        "train_token.sub_cat_4.describe(include=['O'])"
      ],
      "execution_count": 21,
      "outputs": [
        {
          "output_type": "execute_result",
          "data": {
            "text/plain": [
              "count     1200\n",
              "unique     224\n",
              "top           \n",
              "freq       145\n",
              "Name: sub_cat_4, dtype: object"
            ]
          },
          "metadata": {
            "tags": []
          },
          "execution_count": 21
        }
      ]
    },
    {
      "cell_type": "code",
      "metadata": {
        "id": "-07cHwQr_xPE",
        "colab_type": "code",
        "outputId": "f0b0f9bc-bfdf-4ccb-9c76-50b32e85ab1d",
        "colab": {
          "base_uri": "https://localhost:8080/",
          "height": 1000
        }
      },
      "source": [
        "train_token.sub_cat_4.value_counts()"
      ],
      "execution_count": 22,
      "outputs": [
        {
          "output_type": "execute_result",
          "data": {
            "text/plain": [
              "                                   145\n",
              "Knives_&_Tools                      65\n",
              "Camp_Kitchen                        60\n",
              "Hunting_Optics                      51\n",
              "Hunting_&_Tactical_Knives           26\n",
              "Clothing                            19\n",
              "Accessories                         19\n",
              "Kids'_Tricycles                     19\n",
              "Gun_Holsters,_Cases_&_Bags          18\n",
              "Shirts                              17\n",
              "Hydration                           16\n",
              "Training_Equipment                  16\n",
              "Exercise_Bands                      16\n",
              "Bike_Racks                          16\n",
              "Gun_Accessories                     15\n",
              "Gloves                              14\n",
              "Hunting_Accessories                 14\n",
              "Socks                               13\n",
              "Protective_Gear                     13\n",
              "Personal_Care                       13\n",
              "Lights_&_Lanterns                   12\n",
              "Guns_&_Rifles                       12\n",
              "Goggles                             12\n",
              "Camp_Bedding                        12\n",
              "Maintenance_Supplies                12\n",
              "Exercise_Balls_&_Accessories        11\n",
              "Gun_Maintenance                     11\n",
              "Air_Guns                            10\n",
              "Balls                               10\n",
              "Core_&_Abdominal_Trainers           10\n",
              "                                  ... \n",
              "Cleaning_Tools                       1\n",
              "Treadmill_Lubricants                 1\n",
              "Gun_Scope_Mounts                     1\n",
              "Aquatic_Gloves                       1\n",
              "Combination_Tables                   1\n",
              "Tactical_Knives                      1\n",
              "Diving_Valves                        1\n",
              "Weight_Belts                         1\n",
              "Drivetrain_Components                1\n",
              "Bike_Bells                           1\n",
              "Tabletop_Table_Tennis                1\n",
              "Swing_Trainers                       1\n",
              "Safety_&_Flotation_Devices           1\n",
              "Women's_Handbags_&_Purses            1\n",
              "Arrows_&_Shafts                      1\n",
              "Tubes                                1\n",
              "Jerseys                              1\n",
              "Vests                                1\n",
              "Snowshoes                            1\n",
              "Backpack_Accessories                 1\n",
              "Game_Calls                           1\n",
              "Inline_Skates                        1\n",
              "Bingo_Equipment                      1\n",
              "Stocks                               1\n",
              "Punk                                 1\n",
              "Surfboards                           1\n",
              "Indoor_Ski_Storage                   1\n",
              "Horns                                1\n",
              "Fishing_Craft_&_Trolling_Motors      1\n",
              "Carabiners                           1\n",
              "Name: sub_cat_4, Length: 224, dtype: int64"
            ]
          },
          "metadata": {
            "tags": []
          },
          "execution_count": 22
        }
      ]
    },
    {
      "cell_type": "code",
      "metadata": {
        "id": "-s8KlXll_005",
        "colab_type": "code",
        "outputId": "8cf41b27-c53a-41e7-9fc3-22ab461d511d",
        "colab": {
          "base_uri": "https://localhost:8080/",
          "height": 102
        }
      },
      "source": [
        "# Sub-category 5\n",
        "train_token.sub_cat_5.describe(include=['O'])"
      ],
      "execution_count": 23,
      "outputs": [
        {
          "output_type": "execute_result",
          "data": {
            "text/plain": [
              "count     1200\n",
              "unique     187\n",
              "top           \n",
              "freq       624\n",
              "Name: sub_cat_5, dtype: object"
            ]
          },
          "metadata": {
            "tags": []
          },
          "execution_count": 23
        }
      ]
    },
    {
      "cell_type": "code",
      "metadata": {
        "id": "TyOiv-gU_7GW",
        "colab_type": "code",
        "outputId": "8ba38bd3-0a53-4688-97fb-2153812b4bed",
        "colab": {
          "base_uri": "https://localhost:8080/",
          "height": 1000
        }
      },
      "source": [
        "train_token.sub_cat_5.value_counts()"
      ],
      "execution_count": 24,
      "outputs": [
        {
          "output_type": "execute_result",
          "data": {
            "text/plain": [
              "                                   624\n",
              "Folding_Knives                      51\n",
              "Gun_Scopes                          24\n",
              "Hunting_Knives                      17\n",
              "Camp_Stoves                         15\n",
              "Men                                 13\n",
              "Coolers                             13\n",
              "Spotting_Scopes                     12\n",
              "Campfire_Cookware                   12\n",
              "Gun_Holsters                        11\n",
              "Fixed-Blade_Knives                  11\n",
              "Cleaners                            10\n",
              "Insect_Repellent                     9\n",
              "Water_Filters                        8\n",
              "Women                                8\n",
              "Earmuffs                             8\n",
              "Air_Mattresses                       8\n",
              "Hunting_Sharpeners                   8\n",
              "Grips                                7\n",
              "Flying_Discs                         7\n",
              "Stove_Accessories                    7\n",
              "Gun_Sights                           6\n",
              "Rifles                               6\n",
              "Masks                                6\n",
              "Laser_Rangefinders                   6\n",
              "Gunsmithing_Tools                    5\n",
              "Heavy_Bags                           5\n",
              "Lanterns                             5\n",
              "Cleaning_&_Maintenance_Products      5\n",
              "Chairs                               5\n",
              "                                  ... \n",
              "Shafts                               1\n",
              "Fishing_Jackets_&_Vests              1\n",
              "Poker_Table_Tops                     1\n",
              "Chalk                                1\n",
              "Dumbbell_Racks                       1\n",
              "Batteries_&_Battery_Chargers         1\n",
              "Playground_Balls                     1\n",
              "Tactical_Backpacks                   1\n",
              "Guides_&_Rollers                     1\n",
              "Nonlocking                           1\n",
              "Grips_&_Tapes                        1\n",
              "Hunting_Arrows                       1\n",
              "Life_Jackets_&_Vests                 1\n",
              "Optics_Mounts_&_Bases                1\n",
              "Poker_Sets                           1\n",
              "Hiking_Daypacks                      1\n",
              "Chains                               1\n",
              "Dodgeballs                           1\n",
              "Emergency_Blankets                   1\n",
              "Football_Gear                        1\n",
              "Goalkeeper_Helmets                   1\n",
              "Safety_Glasses                       1\n",
              "Horseshoes                           1\n",
              "Basketballs                          1\n",
              "Sights                               1\n",
              "Covers                               1\n",
              "Game_Belts_&_Bags                    1\n",
              "Mounts                               1\n",
              "Anchors                              1\n",
              "Bear_Protection                      1\n",
              "Name: sub_cat_5, Length: 187, dtype: int64"
            ]
          },
          "metadata": {
            "tags": []
          },
          "execution_count": 24
        }
      ]
    },
    {
      "cell_type": "code",
      "metadata": {
        "id": "wJzLc4jp_-Gk",
        "colab_type": "code",
        "outputId": "f3829e28-542b-42ea-f59b-99a776b98463",
        "colab": {
          "base_uri": "https://localhost:8080/",
          "height": 102
        }
      },
      "source": [
        "# Sub-category 6\n",
        "train_token.sub_cat_6.describe(include=['O'])"
      ],
      "execution_count": 25,
      "outputs": [
        {
          "output_type": "execute_result",
          "data": {
            "text/plain": [
              "count     1200\n",
              "unique      30\n",
              "top           \n",
              "freq      1134\n",
              "Name: sub_cat_6, dtype: object"
            ]
          },
          "metadata": {
            "tags": []
          },
          "execution_count": 25
        }
      ]
    },
    {
      "cell_type": "code",
      "metadata": {
        "id": "zjcIVMhYC-Ea",
        "colab_type": "code",
        "outputId": "42e638d8-5435-4223-b2d7-fa6bc414895a",
        "colab": {
          "base_uri": "https://localhost:8080/",
          "height": 544
        }
      },
      "source": [
        "train_token.sub_cat_6.value_counts()"
      ],
      "execution_count": 26,
      "outputs": [
        {
          "output_type": "execute_result",
          "data": {
            "text/plain": [
              "                              1134\n",
              "Rifle_Scopes                    15\n",
              "Fixed_Blade_Hunting_Knives       6\n",
              "Folding_Hunting_Knives           4\n",
              "Fire_Starters                    4\n",
              "Pants                            3\n",
              "Socks                            3\n",
              "Grills                           3\n",
              "Portable                         2\n",
              "Briefs                           2\n",
              "Gloves                           2\n",
              "Mess_Kits                        2\n",
              "Self-Inflating_Pads              2\n",
              "Iron_Sights                      2\n",
              "Plastic_Bats                     1\n",
              "Cups_&_Mugs                      1\n",
              "Baseball_Caps                    1\n",
              "Ice_Augers                       1\n",
              "Jammers                          1\n",
              "Bibs                             1\n",
              "Sun_Hats                         1\n",
              "Leotards                         1\n",
              "Shorts                           1\n",
              "Battery_Chargers                 1\n",
              "Cornhole_Bags                    1\n",
              "Two-Piece_Suits                  1\n",
              "Jerseys                          1\n",
              "Bodysuits                        1\n",
              "Hats                             1\n",
              "Pots_&_Pans                      1\n",
              "Name: sub_cat_6, dtype: int64"
            ]
          },
          "metadata": {
            "tags": []
          },
          "execution_count": 26
        }
      ]
    },
    {
      "cell_type": "markdown",
      "metadata": {
        "id": "pX7Tfm0FEO6Q",
        "colab_type": "text"
      },
      "source": [
        "# Change the sub-category 2 to dummy variables"
      ]
    },
    {
      "cell_type": "markdown",
      "metadata": {
        "id": "rkDfcyEPGNC_",
        "colab_type": "text"
      },
      "source": [
        "## For the 1% threshold"
      ]
    },
    {
      "cell_type": "code",
      "metadata": {
        "id": "czZ7aDk_DB5b",
        "colab_type": "code",
        "colab": {}
      },
      "source": [
        "# Based on their occurence (less than 1%)\n",
        "list_not_useful_1 = [\"Snow_Sports\", \"Racquet_Sports\", \"Equestrian_Sports\", \"Children's_Music\", \n",
        "                   \"Pop\", \"Classic_Rock\", \"Comedy_&_Spoken_Word\", \"Alternative_Rock\", \n",
        "                   \"Dance_&_Electronic\", \"Classical\"]\n",
        "\n",
        "list_not_useful_regex_1 = \"|\".join(list_not_useful_1)"
      ],
      "execution_count": 0,
      "outputs": []
    },
    {
      "cell_type": "code",
      "metadata": {
        "id": "lUhBTV-CE72m",
        "colab_type": "code",
        "colab": {}
      },
      "source": [
        "train_token[\"sub_cat_split_1\"] = train_token.sub_cat_2\n",
        "train_token.sub_cat_split_1 = train_token.sub_cat_split_1.str.replace(list_not_useful_regex_1, '')"
      ],
      "execution_count": 0,
      "outputs": []
    },
    {
      "cell_type": "code",
      "metadata": {
        "id": "D4wzW2OPGbFf",
        "colab_type": "code",
        "outputId": "38dfd622-6dec-4adb-8d1f-9a0d91371536",
        "colab": {
          "base_uri": "https://localhost:8080/",
          "height": 289
        }
      },
      "source": [
        "train_token.sub_cat_split_1.value_counts()"
      ],
      "execution_count": 29,
      "outputs": [
        {
          "output_type": "execute_result",
          "data": {
            "text/plain": [
              "Outdoor_Gear                  236\n",
              "Hunting_&_Fishing             212\n",
              "Exercise_&_Fitness            181\n",
              "Accessories                    93\n",
              "Cycling                        78\n",
              "Clothing                       68\n",
              "Boating_&_Water_Sports         67\n",
              "                               58\n",
              "Leisure_Sports_&_Game_Room     46\n",
              "Team_Sports                    43\n",
              "Paintball_&_Airsoft            39\n",
              "Other_Sports                   31\n",
              "Action_Sports                  18\n",
              "Fan_Shop                       15\n",
              "Golf                           15\n",
              "Name: sub_cat_split_1, dtype: int64"
            ]
          },
          "metadata": {
            "tags": []
          },
          "execution_count": 29
        }
      ]
    },
    {
      "cell_type": "code",
      "metadata": {
        "id": "B3qeIO7HJJK1",
        "colab_type": "code",
        "outputId": "cf5ede7c-01d5-4633-cf98-ae313ff1b625",
        "colab": {
          "base_uri": "https://localhost:8080/",
          "height": 54
        }
      },
      "source": [
        "# Tokens present in more than 1% of the documents\n",
        "sub_cat_kept_1 = train_token.sub_cat_split_1.unique().tolist()\n",
        "print(sub_cat_kept_1)"
      ],
      "execution_count": 30,
      "outputs": [
        {
          "output_type": "stream",
          "text": [
            "['', 'Leisure_Sports_&_Game_Room', 'Exercise_&_Fitness', 'Outdoor_Gear', 'Golf', 'Hunting_&_Fishing', 'Other_Sports', 'Boating_&_Water_Sports', 'Team_Sports', 'Cycling', 'Accessories', 'Paintball_&_Airsoft', 'Fan_Shop', 'Action_Sports', 'Clothing']\n"
          ],
          "name": "stdout"
        }
      ]
    },
    {
      "cell_type": "code",
      "metadata": {
        "id": "bKvDvBj9HAh1",
        "colab_type": "code",
        "outputId": "31a8905f-b838-428b-91bb-ce3faaa54800",
        "colab": {
          "base_uri": "https://localhost:8080/",
          "height": 396
        }
      },
      "source": [
        "train_token_dummy_1 = pd.get_dummies(train_token[\"sub_cat_split_1\"], drop_first=True, dtype=float)\n",
        "print('Shape of the token features:', train_token_dummy_1.shape)\n",
        "train_token_dummy_1.head(10)"
      ],
      "execution_count": 31,
      "outputs": [
        {
          "output_type": "stream",
          "text": [
            "Shape of the token features: (1200, 14)\n"
          ],
          "name": "stdout"
        },
        {
          "output_type": "execute_result",
          "data": {
            "text/html": [
              "<div>\n",
              "<style scoped>\n",
              "    .dataframe tbody tr th:only-of-type {\n",
              "        vertical-align: middle;\n",
              "    }\n",
              "\n",
              "    .dataframe tbody tr th {\n",
              "        vertical-align: top;\n",
              "    }\n",
              "\n",
              "    .dataframe thead th {\n",
              "        text-align: right;\n",
              "    }\n",
              "</style>\n",
              "<table border=\"1\" class=\"dataframe\">\n",
              "  <thead>\n",
              "    <tr style=\"text-align: right;\">\n",
              "      <th></th>\n",
              "      <th>Accessories</th>\n",
              "      <th>Action_Sports</th>\n",
              "      <th>Boating_&amp;_Water_Sports</th>\n",
              "      <th>Clothing</th>\n",
              "      <th>Cycling</th>\n",
              "      <th>Exercise_&amp;_Fitness</th>\n",
              "      <th>Fan_Shop</th>\n",
              "      <th>Golf</th>\n",
              "      <th>Hunting_&amp;_Fishing</th>\n",
              "      <th>Leisure_Sports_&amp;_Game_Room</th>\n",
              "      <th>Other_Sports</th>\n",
              "      <th>Outdoor_Gear</th>\n",
              "      <th>Paintball_&amp;_Airsoft</th>\n",
              "      <th>Team_Sports</th>\n",
              "    </tr>\n",
              "  </thead>\n",
              "  <tbody>\n",
              "    <tr>\n",
              "      <th>0</th>\n",
              "      <td>0.0</td>\n",
              "      <td>0.0</td>\n",
              "      <td>0.0</td>\n",
              "      <td>0.0</td>\n",
              "      <td>0.0</td>\n",
              "      <td>0.0</td>\n",
              "      <td>0.0</td>\n",
              "      <td>0.0</td>\n",
              "      <td>0.0</td>\n",
              "      <td>0.0</td>\n",
              "      <td>0.0</td>\n",
              "      <td>0.0</td>\n",
              "      <td>0.0</td>\n",
              "      <td>0.0</td>\n",
              "    </tr>\n",
              "    <tr>\n",
              "      <th>1</th>\n",
              "      <td>0.0</td>\n",
              "      <td>0.0</td>\n",
              "      <td>0.0</td>\n",
              "      <td>0.0</td>\n",
              "      <td>0.0</td>\n",
              "      <td>0.0</td>\n",
              "      <td>0.0</td>\n",
              "      <td>0.0</td>\n",
              "      <td>0.0</td>\n",
              "      <td>1.0</td>\n",
              "      <td>0.0</td>\n",
              "      <td>0.0</td>\n",
              "      <td>0.0</td>\n",
              "      <td>0.0</td>\n",
              "    </tr>\n",
              "    <tr>\n",
              "      <th>2</th>\n",
              "      <td>0.0</td>\n",
              "      <td>0.0</td>\n",
              "      <td>0.0</td>\n",
              "      <td>0.0</td>\n",
              "      <td>0.0</td>\n",
              "      <td>1.0</td>\n",
              "      <td>0.0</td>\n",
              "      <td>0.0</td>\n",
              "      <td>0.0</td>\n",
              "      <td>0.0</td>\n",
              "      <td>0.0</td>\n",
              "      <td>0.0</td>\n",
              "      <td>0.0</td>\n",
              "      <td>0.0</td>\n",
              "    </tr>\n",
              "    <tr>\n",
              "      <th>3</th>\n",
              "      <td>0.0</td>\n",
              "      <td>0.0</td>\n",
              "      <td>0.0</td>\n",
              "      <td>0.0</td>\n",
              "      <td>0.0</td>\n",
              "      <td>0.0</td>\n",
              "      <td>0.0</td>\n",
              "      <td>0.0</td>\n",
              "      <td>0.0</td>\n",
              "      <td>0.0</td>\n",
              "      <td>0.0</td>\n",
              "      <td>0.0</td>\n",
              "      <td>0.0</td>\n",
              "      <td>0.0</td>\n",
              "    </tr>\n",
              "    <tr>\n",
              "      <th>4</th>\n",
              "      <td>0.0</td>\n",
              "      <td>0.0</td>\n",
              "      <td>0.0</td>\n",
              "      <td>0.0</td>\n",
              "      <td>0.0</td>\n",
              "      <td>0.0</td>\n",
              "      <td>0.0</td>\n",
              "      <td>0.0</td>\n",
              "      <td>0.0</td>\n",
              "      <td>0.0</td>\n",
              "      <td>0.0</td>\n",
              "      <td>0.0</td>\n",
              "      <td>0.0</td>\n",
              "      <td>0.0</td>\n",
              "    </tr>\n",
              "    <tr>\n",
              "      <th>5</th>\n",
              "      <td>0.0</td>\n",
              "      <td>0.0</td>\n",
              "      <td>0.0</td>\n",
              "      <td>0.0</td>\n",
              "      <td>0.0</td>\n",
              "      <td>0.0</td>\n",
              "      <td>0.0</td>\n",
              "      <td>0.0</td>\n",
              "      <td>0.0</td>\n",
              "      <td>1.0</td>\n",
              "      <td>0.0</td>\n",
              "      <td>0.0</td>\n",
              "      <td>0.0</td>\n",
              "      <td>0.0</td>\n",
              "    </tr>\n",
              "    <tr>\n",
              "      <th>6</th>\n",
              "      <td>0.0</td>\n",
              "      <td>0.0</td>\n",
              "      <td>0.0</td>\n",
              "      <td>0.0</td>\n",
              "      <td>0.0</td>\n",
              "      <td>1.0</td>\n",
              "      <td>0.0</td>\n",
              "      <td>0.0</td>\n",
              "      <td>0.0</td>\n",
              "      <td>0.0</td>\n",
              "      <td>0.0</td>\n",
              "      <td>0.0</td>\n",
              "      <td>0.0</td>\n",
              "      <td>0.0</td>\n",
              "    </tr>\n",
              "    <tr>\n",
              "      <th>7</th>\n",
              "      <td>0.0</td>\n",
              "      <td>0.0</td>\n",
              "      <td>0.0</td>\n",
              "      <td>0.0</td>\n",
              "      <td>0.0</td>\n",
              "      <td>1.0</td>\n",
              "      <td>0.0</td>\n",
              "      <td>0.0</td>\n",
              "      <td>0.0</td>\n",
              "      <td>0.0</td>\n",
              "      <td>0.0</td>\n",
              "      <td>0.0</td>\n",
              "      <td>0.0</td>\n",
              "      <td>0.0</td>\n",
              "    </tr>\n",
              "    <tr>\n",
              "      <th>8</th>\n",
              "      <td>0.0</td>\n",
              "      <td>0.0</td>\n",
              "      <td>0.0</td>\n",
              "      <td>0.0</td>\n",
              "      <td>0.0</td>\n",
              "      <td>1.0</td>\n",
              "      <td>0.0</td>\n",
              "      <td>0.0</td>\n",
              "      <td>0.0</td>\n",
              "      <td>0.0</td>\n",
              "      <td>0.0</td>\n",
              "      <td>0.0</td>\n",
              "      <td>0.0</td>\n",
              "      <td>0.0</td>\n",
              "    </tr>\n",
              "    <tr>\n",
              "      <th>9</th>\n",
              "      <td>0.0</td>\n",
              "      <td>0.0</td>\n",
              "      <td>0.0</td>\n",
              "      <td>0.0</td>\n",
              "      <td>0.0</td>\n",
              "      <td>0.0</td>\n",
              "      <td>0.0</td>\n",
              "      <td>0.0</td>\n",
              "      <td>0.0</td>\n",
              "      <td>0.0</td>\n",
              "      <td>0.0</td>\n",
              "      <td>1.0</td>\n",
              "      <td>0.0</td>\n",
              "      <td>0.0</td>\n",
              "    </tr>\n",
              "  </tbody>\n",
              "</table>\n",
              "</div>"
            ],
            "text/plain": [
              "   Accessories  Action_Sports  ...  Paintball_&_Airsoft  Team_Sports\n",
              "0          0.0            0.0  ...                  0.0          0.0\n",
              "1          0.0            0.0  ...                  0.0          0.0\n",
              "2          0.0            0.0  ...                  0.0          0.0\n",
              "3          0.0            0.0  ...                  0.0          0.0\n",
              "4          0.0            0.0  ...                  0.0          0.0\n",
              "5          0.0            0.0  ...                  0.0          0.0\n",
              "6          0.0            0.0  ...                  0.0          0.0\n",
              "7          0.0            0.0  ...                  0.0          0.0\n",
              "8          0.0            0.0  ...                  0.0          0.0\n",
              "9          0.0            0.0  ...                  0.0          0.0\n",
              "\n",
              "[10 rows x 14 columns]"
            ]
          },
          "metadata": {
            "tags": []
          },
          "execution_count": 31
        }
      ]
    },
    {
      "cell_type": "markdown",
      "metadata": {
        "id": "_M0qICVWGR1W",
        "colab_type": "text"
      },
      "source": [
        "## For the 5% threshold"
      ]
    },
    {
      "cell_type": "code",
      "metadata": {
        "id": "2ZqxIogEF6pK",
        "colab_type": "code",
        "colab": {}
      },
      "source": [
        "# Based on their occurence (less than 5%)\n",
        "list_not_useful_5 = ['Leisure_Sports_&_Game_Room', 'Team_Sports', 'Paintball_&_Airsoft', \n",
        "                     'Other_Sports', 'Action_Sports', 'Fan_Shop', 'Golf']\n",
        "\n",
        "list_not_useful_regex_5 = \"|\".join(list_not_useful_5)"
      ],
      "execution_count": 0,
      "outputs": []
    },
    {
      "cell_type": "code",
      "metadata": {
        "id": "SkSLWWNMG2ui",
        "colab_type": "code",
        "colab": {
          "base_uri": "https://localhost:8080/",
          "height": 170
        },
        "outputId": "c2a1122e-c6a8-448c-9291-1b1b78ad048c"
      },
      "source": [
        "train_token[\"sub_cat_split_5\"] = train_token.sub_cat_split_1\n",
        "train_token.sub_cat_split_5 = train_token.sub_cat_split_5.str.replace(list_not_useful_regex_5, '')\n",
        "train_token.sub_cat_split_5.value_counts()"
      ],
      "execution_count": 33,
      "outputs": [
        {
          "output_type": "execute_result",
          "data": {
            "text/plain": [
              "                          265\n",
              "Outdoor_Gear              236\n",
              "Hunting_&_Fishing         212\n",
              "Exercise_&_Fitness        181\n",
              "Accessories                93\n",
              "Cycling                    78\n",
              "Clothing                   68\n",
              "Boating_&_Water_Sports     67\n",
              "Name: sub_cat_split_5, dtype: int64"
            ]
          },
          "metadata": {
            "tags": []
          },
          "execution_count": 33
        }
      ]
    },
    {
      "cell_type": "code",
      "metadata": {
        "id": "M0rWMejAG2q9",
        "colab_type": "code",
        "colab": {
          "base_uri": "https://localhost:8080/",
          "height": 34
        },
        "outputId": "64481c8a-9482-4310-ab8b-7e8d1174702b"
      },
      "source": [
        "# Tokens present in more than 5% of the documents\n",
        "sub_cat_kept_5 = train_token.sub_cat_split_5.unique().tolist()\n",
        "print(sub_cat_kept_5)"
      ],
      "execution_count": 34,
      "outputs": [
        {
          "output_type": "stream",
          "text": [
            "['', 'Exercise_&_Fitness', 'Outdoor_Gear', 'Hunting_&_Fishing', 'Boating_&_Water_Sports', 'Cycling', 'Accessories', 'Clothing']\n"
          ],
          "name": "stdout"
        }
      ]
    },
    {
      "cell_type": "code",
      "metadata": {
        "id": "VqI-XwG6G2oW",
        "colab_type": "code",
        "colab": {
          "base_uri": "https://localhost:8080/",
          "height": 376
        },
        "outputId": "8f911ea3-3731-4abe-f7fa-1c5f6c5dc4b1"
      },
      "source": [
        "train_token_dummy_5 = pd.get_dummies(train_token[\"sub_cat_split_5\"], drop_first=True, dtype=float)\n",
        "print('Shape of the token features:', train_token_dummy_5.shape)\n",
        "train_token_dummy_5.head(10)"
      ],
      "execution_count": 35,
      "outputs": [
        {
          "output_type": "stream",
          "text": [
            "Shape of the token features: (1200, 7)\n"
          ],
          "name": "stdout"
        },
        {
          "output_type": "execute_result",
          "data": {
            "text/html": [
              "<div>\n",
              "<style scoped>\n",
              "    .dataframe tbody tr th:only-of-type {\n",
              "        vertical-align: middle;\n",
              "    }\n",
              "\n",
              "    .dataframe tbody tr th {\n",
              "        vertical-align: top;\n",
              "    }\n",
              "\n",
              "    .dataframe thead th {\n",
              "        text-align: right;\n",
              "    }\n",
              "</style>\n",
              "<table border=\"1\" class=\"dataframe\">\n",
              "  <thead>\n",
              "    <tr style=\"text-align: right;\">\n",
              "      <th></th>\n",
              "      <th>Accessories</th>\n",
              "      <th>Boating_&amp;_Water_Sports</th>\n",
              "      <th>Clothing</th>\n",
              "      <th>Cycling</th>\n",
              "      <th>Exercise_&amp;_Fitness</th>\n",
              "      <th>Hunting_&amp;_Fishing</th>\n",
              "      <th>Outdoor_Gear</th>\n",
              "    </tr>\n",
              "  </thead>\n",
              "  <tbody>\n",
              "    <tr>\n",
              "      <th>0</th>\n",
              "      <td>0.0</td>\n",
              "      <td>0.0</td>\n",
              "      <td>0.0</td>\n",
              "      <td>0.0</td>\n",
              "      <td>0.0</td>\n",
              "      <td>0.0</td>\n",
              "      <td>0.0</td>\n",
              "    </tr>\n",
              "    <tr>\n",
              "      <th>1</th>\n",
              "      <td>0.0</td>\n",
              "      <td>0.0</td>\n",
              "      <td>0.0</td>\n",
              "      <td>0.0</td>\n",
              "      <td>0.0</td>\n",
              "      <td>0.0</td>\n",
              "      <td>0.0</td>\n",
              "    </tr>\n",
              "    <tr>\n",
              "      <th>2</th>\n",
              "      <td>0.0</td>\n",
              "      <td>0.0</td>\n",
              "      <td>0.0</td>\n",
              "      <td>0.0</td>\n",
              "      <td>1.0</td>\n",
              "      <td>0.0</td>\n",
              "      <td>0.0</td>\n",
              "    </tr>\n",
              "    <tr>\n",
              "      <th>3</th>\n",
              "      <td>0.0</td>\n",
              "      <td>0.0</td>\n",
              "      <td>0.0</td>\n",
              "      <td>0.0</td>\n",
              "      <td>0.0</td>\n",
              "      <td>0.0</td>\n",
              "      <td>0.0</td>\n",
              "    </tr>\n",
              "    <tr>\n",
              "      <th>4</th>\n",
              "      <td>0.0</td>\n",
              "      <td>0.0</td>\n",
              "      <td>0.0</td>\n",
              "      <td>0.0</td>\n",
              "      <td>0.0</td>\n",
              "      <td>0.0</td>\n",
              "      <td>0.0</td>\n",
              "    </tr>\n",
              "    <tr>\n",
              "      <th>5</th>\n",
              "      <td>0.0</td>\n",
              "      <td>0.0</td>\n",
              "      <td>0.0</td>\n",
              "      <td>0.0</td>\n",
              "      <td>0.0</td>\n",
              "      <td>0.0</td>\n",
              "      <td>0.0</td>\n",
              "    </tr>\n",
              "    <tr>\n",
              "      <th>6</th>\n",
              "      <td>0.0</td>\n",
              "      <td>0.0</td>\n",
              "      <td>0.0</td>\n",
              "      <td>0.0</td>\n",
              "      <td>1.0</td>\n",
              "      <td>0.0</td>\n",
              "      <td>0.0</td>\n",
              "    </tr>\n",
              "    <tr>\n",
              "      <th>7</th>\n",
              "      <td>0.0</td>\n",
              "      <td>0.0</td>\n",
              "      <td>0.0</td>\n",
              "      <td>0.0</td>\n",
              "      <td>1.0</td>\n",
              "      <td>0.0</td>\n",
              "      <td>0.0</td>\n",
              "    </tr>\n",
              "    <tr>\n",
              "      <th>8</th>\n",
              "      <td>0.0</td>\n",
              "      <td>0.0</td>\n",
              "      <td>0.0</td>\n",
              "      <td>0.0</td>\n",
              "      <td>1.0</td>\n",
              "      <td>0.0</td>\n",
              "      <td>0.0</td>\n",
              "    </tr>\n",
              "    <tr>\n",
              "      <th>9</th>\n",
              "      <td>0.0</td>\n",
              "      <td>0.0</td>\n",
              "      <td>0.0</td>\n",
              "      <td>0.0</td>\n",
              "      <td>0.0</td>\n",
              "      <td>0.0</td>\n",
              "      <td>1.0</td>\n",
              "    </tr>\n",
              "  </tbody>\n",
              "</table>\n",
              "</div>"
            ],
            "text/plain": [
              "   Accessories  Boating_&_Water_Sports  ...  Hunting_&_Fishing  Outdoor_Gear\n",
              "0          0.0                     0.0  ...                0.0           0.0\n",
              "1          0.0                     0.0  ...                0.0           0.0\n",
              "2          0.0                     0.0  ...                0.0           0.0\n",
              "3          0.0                     0.0  ...                0.0           0.0\n",
              "4          0.0                     0.0  ...                0.0           0.0\n",
              "5          0.0                     0.0  ...                0.0           0.0\n",
              "6          0.0                     0.0  ...                0.0           0.0\n",
              "7          0.0                     0.0  ...                0.0           0.0\n",
              "8          0.0                     0.0  ...                0.0           0.0\n",
              "9          0.0                     0.0  ...                0.0           1.0\n",
              "\n",
              "[10 rows x 7 columns]"
            ]
          },
          "metadata": {
            "tags": []
          },
          "execution_count": 35
        }
      ]
    },
    {
      "cell_type": "markdown",
      "metadata": {
        "id": "5MbmAkSrHOVM",
        "colab_type": "text"
      },
      "source": [
        "## For the 10% threshold"
      ]
    },
    {
      "cell_type": "code",
      "metadata": {
        "id": "q6J6sebmHRJd",
        "colab_type": "code",
        "colab": {}
      },
      "source": [
        "# Based on their occurence (less than 10%)\n",
        "list_not_useful_10 = ['Boating_&_Water_Sports', 'Cycling', 'Accessories', 'Clothing']\n",
        "\n",
        "list_not_useful_regex_10 = \"|\".join(list_not_useful_10)"
      ],
      "execution_count": 0,
      "outputs": []
    },
    {
      "cell_type": "code",
      "metadata": {
        "id": "XKhA-suqHRHV",
        "colab_type": "code",
        "colab": {
          "base_uri": "https://localhost:8080/",
          "height": 102
        },
        "outputId": "cfa70a43-f514-4dc7-94ca-13836cb225c0"
      },
      "source": [
        "train_token[\"sub_cat_split_10\"] = train_token.sub_cat_split_5\n",
        "train_token.sub_cat_split_10 = train_token.sub_cat_split_10.str.replace(list_not_useful_regex_10, '')\n",
        "train_token.sub_cat_split_10.value_counts()"
      ],
      "execution_count": 37,
      "outputs": [
        {
          "output_type": "execute_result",
          "data": {
            "text/plain": [
              "                      571\n",
              "Outdoor_Gear          236\n",
              "Hunting_&_Fishing     212\n",
              "Exercise_&_Fitness    181\n",
              "Name: sub_cat_split_10, dtype: int64"
            ]
          },
          "metadata": {
            "tags": []
          },
          "execution_count": 37
        }
      ]
    },
    {
      "cell_type": "code",
      "metadata": {
        "id": "yoX7yD7KHREj",
        "colab_type": "code",
        "colab": {
          "base_uri": "https://localhost:8080/",
          "height": 34
        },
        "outputId": "94c58f93-2882-4e4b-8a3f-61b483197038"
      },
      "source": [
        "# Tokens present in more than 10% of the documents\n",
        "sub_cat_kept_10 = train_token.sub_cat_split_10.unique().tolist()\n",
        "print(sub_cat_kept_10)"
      ],
      "execution_count": 38,
      "outputs": [
        {
          "output_type": "stream",
          "text": [
            "['', 'Exercise_&_Fitness', 'Outdoor_Gear', 'Hunting_&_Fishing']\n"
          ],
          "name": "stdout"
        }
      ]
    },
    {
      "cell_type": "code",
      "metadata": {
        "id": "Lsl5U9oLD6mc",
        "colab_type": "code",
        "colab": {
          "base_uri": "https://localhost:8080/",
          "height": 376
        },
        "outputId": "6ab33bb4-cf87-4b81-c19a-aa251f433e4a"
      },
      "source": [
        "train_token_dummy_10 = pd.get_dummies(train_token[\"sub_cat_split_10\"], drop_first=True, dtype=float)\n",
        "print('Shape of the token features:', train_token_dummy_10.shape)\n",
        "train_token_dummy_10.head(10)"
      ],
      "execution_count": 39,
      "outputs": [
        {
          "output_type": "stream",
          "text": [
            "Shape of the token features: (1200, 3)\n"
          ],
          "name": "stdout"
        },
        {
          "output_type": "execute_result",
          "data": {
            "text/html": [
              "<div>\n",
              "<style scoped>\n",
              "    .dataframe tbody tr th:only-of-type {\n",
              "        vertical-align: middle;\n",
              "    }\n",
              "\n",
              "    .dataframe tbody tr th {\n",
              "        vertical-align: top;\n",
              "    }\n",
              "\n",
              "    .dataframe thead th {\n",
              "        text-align: right;\n",
              "    }\n",
              "</style>\n",
              "<table border=\"1\" class=\"dataframe\">\n",
              "  <thead>\n",
              "    <tr style=\"text-align: right;\">\n",
              "      <th></th>\n",
              "      <th>Exercise_&amp;_Fitness</th>\n",
              "      <th>Hunting_&amp;_Fishing</th>\n",
              "      <th>Outdoor_Gear</th>\n",
              "    </tr>\n",
              "  </thead>\n",
              "  <tbody>\n",
              "    <tr>\n",
              "      <th>0</th>\n",
              "      <td>0.0</td>\n",
              "      <td>0.0</td>\n",
              "      <td>0.0</td>\n",
              "    </tr>\n",
              "    <tr>\n",
              "      <th>1</th>\n",
              "      <td>0.0</td>\n",
              "      <td>0.0</td>\n",
              "      <td>0.0</td>\n",
              "    </tr>\n",
              "    <tr>\n",
              "      <th>2</th>\n",
              "      <td>1.0</td>\n",
              "      <td>0.0</td>\n",
              "      <td>0.0</td>\n",
              "    </tr>\n",
              "    <tr>\n",
              "      <th>3</th>\n",
              "      <td>0.0</td>\n",
              "      <td>0.0</td>\n",
              "      <td>0.0</td>\n",
              "    </tr>\n",
              "    <tr>\n",
              "      <th>4</th>\n",
              "      <td>0.0</td>\n",
              "      <td>0.0</td>\n",
              "      <td>0.0</td>\n",
              "    </tr>\n",
              "    <tr>\n",
              "      <th>5</th>\n",
              "      <td>0.0</td>\n",
              "      <td>0.0</td>\n",
              "      <td>0.0</td>\n",
              "    </tr>\n",
              "    <tr>\n",
              "      <th>6</th>\n",
              "      <td>1.0</td>\n",
              "      <td>0.0</td>\n",
              "      <td>0.0</td>\n",
              "    </tr>\n",
              "    <tr>\n",
              "      <th>7</th>\n",
              "      <td>1.0</td>\n",
              "      <td>0.0</td>\n",
              "      <td>0.0</td>\n",
              "    </tr>\n",
              "    <tr>\n",
              "      <th>8</th>\n",
              "      <td>1.0</td>\n",
              "      <td>0.0</td>\n",
              "      <td>0.0</td>\n",
              "    </tr>\n",
              "    <tr>\n",
              "      <th>9</th>\n",
              "      <td>0.0</td>\n",
              "      <td>0.0</td>\n",
              "      <td>1.0</td>\n",
              "    </tr>\n",
              "  </tbody>\n",
              "</table>\n",
              "</div>"
            ],
            "text/plain": [
              "   Exercise_&_Fitness  Hunting_&_Fishing  Outdoor_Gear\n",
              "0                 0.0                0.0           0.0\n",
              "1                 0.0                0.0           0.0\n",
              "2                 1.0                0.0           0.0\n",
              "3                 0.0                0.0           0.0\n",
              "4                 0.0                0.0           0.0\n",
              "5                 0.0                0.0           0.0\n",
              "6                 1.0                0.0           0.0\n",
              "7                 1.0                0.0           0.0\n",
              "8                 1.0                0.0           0.0\n",
              "9                 0.0                0.0           1.0"
            ]
          },
          "metadata": {
            "tags": []
          },
          "execution_count": 39
        }
      ]
    },
    {
      "cell_type": "markdown",
      "metadata": {
        "id": "W9ZPM5DFJ1wh",
        "colab_type": "text"
      },
      "source": [
        "# Merge data"
      ]
    },
    {
      "cell_type": "markdown",
      "metadata": {
        "id": "YRV-LymILWXH",
        "colab_type": "text"
      },
      "source": [
        "## With the 1% threshold"
      ]
    },
    {
      "cell_type": "code",
      "metadata": {
        "id": "UAN4RIMOJiOD",
        "colab_type": "code",
        "outputId": "934016d8-b87e-40c0-8848-8b5a6eb12e9b",
        "colab": {
          "base_uri": "https://localhost:8080/",
          "height": 241
        }
      },
      "source": [
        "quest_bl_train = pd.read_csv(\"quest_baseline.training\", header=None, sep=\"\\t\")\n",
        "print('Shape of the baseline training data:', quest_bl_train.shape)\n",
        "quest_bl_train.head()"
      ],
      "execution_count": 40,
      "outputs": [
        {
          "output_type": "stream",
          "text": [
            "Shape of the baseline training data: (1200, 15)\n"
          ],
          "name": "stdout"
        },
        {
          "output_type": "execute_result",
          "data": {
            "text/html": [
              "<div>\n",
              "<style scoped>\n",
              "    .dataframe tbody tr th:only-of-type {\n",
              "        vertical-align: middle;\n",
              "    }\n",
              "\n",
              "    .dataframe tbody tr th {\n",
              "        vertical-align: top;\n",
              "    }\n",
              "\n",
              "    .dataframe thead th {\n",
              "        text-align: right;\n",
              "    }\n",
              "</style>\n",
              "<table border=\"1\" class=\"dataframe\">\n",
              "  <thead>\n",
              "    <tr style=\"text-align: right;\">\n",
              "      <th></th>\n",
              "      <th>0</th>\n",
              "      <th>1</th>\n",
              "      <th>2</th>\n",
              "      <th>3</th>\n",
              "      <th>4</th>\n",
              "      <th>5</th>\n",
              "      <th>6</th>\n",
              "      <th>7</th>\n",
              "      <th>8</th>\n",
              "      <th>9</th>\n",
              "      <th>10</th>\n",
              "      <th>11</th>\n",
              "      <th>12</th>\n",
              "      <th>13</th>\n",
              "      <th>14</th>\n",
              "    </tr>\n",
              "  </thead>\n",
              "  <tbody>\n",
              "    <tr>\n",
              "      <th>0</th>\n",
              "      <td>52.0</td>\n",
              "      <td>55.0</td>\n",
              "      <td>3.507441</td>\n",
              "      <td>-63.597546</td>\n",
              "      <td>-68.175510</td>\n",
              "      <td>1.195652</td>\n",
              "      <td>0.017857</td>\n",
              "      <td>0.352679</td>\n",
              "      <td>0.006098</td>\n",
              "      <td>0.085366</td>\n",
              "      <td>0.000000</td>\n",
              "      <td>0.018750</td>\n",
              "      <td>0.405449</td>\n",
              "      <td>6.0</td>\n",
              "      <td>4.0</td>\n",
              "    </tr>\n",
              "    <tr>\n",
              "      <th>1</th>\n",
              "      <td>360.0</td>\n",
              "      <td>387.0</td>\n",
              "      <td>3.703417</td>\n",
              "      <td>-114.292380</td>\n",
              "      <td>-158.321290</td>\n",
              "      <td>2.162011</td>\n",
              "      <td>0.005254</td>\n",
              "      <td>0.682328</td>\n",
              "      <td>0.040143</td>\n",
              "      <td>0.217052</td>\n",
              "      <td>0.014841</td>\n",
              "      <td>0.044156</td>\n",
              "      <td>0.806435</td>\n",
              "      <td>14.0</td>\n",
              "      <td>15.0</td>\n",
              "    </tr>\n",
              "    <tr>\n",
              "      <th>2</th>\n",
              "      <td>117.0</td>\n",
              "      <td>150.0</td>\n",
              "      <td>4.760331</td>\n",
              "      <td>-40.225380</td>\n",
              "      <td>-98.485980</td>\n",
              "      <td>1.785714</td>\n",
              "      <td>0.000000</td>\n",
              "      <td>0.666667</td>\n",
              "      <td>0.047755</td>\n",
              "      <td>0.414370</td>\n",
              "      <td>0.072501</td>\n",
              "      <td>0.183569</td>\n",
              "      <td>0.888889</td>\n",
              "      <td>14.0</td>\n",
              "      <td>12.0</td>\n",
              "    </tr>\n",
              "    <tr>\n",
              "      <th>3</th>\n",
              "      <td>234.0</td>\n",
              "      <td>256.0</td>\n",
              "      <td>4.160714</td>\n",
              "      <td>-92.318474</td>\n",
              "      <td>-110.450455</td>\n",
              "      <td>1.684211</td>\n",
              "      <td>0.072579</td>\n",
              "      <td>0.627770</td>\n",
              "      <td>0.047683</td>\n",
              "      <td>0.192912</td>\n",
              "      <td>0.000000</td>\n",
              "      <td>0.068468</td>\n",
              "      <td>0.789225</td>\n",
              "      <td>28.0</td>\n",
              "      <td>28.0</td>\n",
              "    </tr>\n",
              "    <tr>\n",
              "      <th>4</th>\n",
              "      <td>272.0</td>\n",
              "      <td>324.0</td>\n",
              "      <td>4.745281</td>\n",
              "      <td>-93.174440</td>\n",
              "      <td>-138.666720</td>\n",
              "      <td>1.830508</td>\n",
              "      <td>0.035162</td>\n",
              "      <td>0.759019</td>\n",
              "      <td>0.033275</td>\n",
              "      <td>0.359057</td>\n",
              "      <td>0.012778</td>\n",
              "      <td>0.053227</td>\n",
              "      <td>0.870030</td>\n",
              "      <td>21.0</td>\n",
              "      <td>20.0</td>\n",
              "    </tr>\n",
              "  </tbody>\n",
              "</table>\n",
              "</div>"
            ],
            "text/plain": [
              "      0      1         2           3   ...        11        12    13    14\n",
              "0   52.0   55.0  3.507441  -63.597546  ...  0.018750  0.405449   6.0   4.0\n",
              "1  360.0  387.0  3.703417 -114.292380  ...  0.044156  0.806435  14.0  15.0\n",
              "2  117.0  150.0  4.760331  -40.225380  ...  0.183569  0.888889  14.0  12.0\n",
              "3  234.0  256.0  4.160714  -92.318474  ...  0.068468  0.789225  28.0  28.0\n",
              "4  272.0  324.0  4.745281  -93.174440  ...  0.053227  0.870030  21.0  20.0\n",
              "\n",
              "[5 rows x 15 columns]"
            ]
          },
          "metadata": {
            "tags": []
          },
          "execution_count": 40
        }
      ]
    },
    {
      "cell_type": "code",
      "metadata": {
        "id": "wkEaQbeAHnJW",
        "colab_type": "code",
        "outputId": "6c0c2a12-005a-4a57-9a28-624264e5d633",
        "colab": {
          "base_uri": "https://localhost:8080/",
          "height": 241
        }
      },
      "source": [
        "quest_bl_train_token_1 = pd.concat([quest_bl_train, train_token_dummy_1], axis=1)\n",
        "print('Shape of the baseline training data with token:', quest_bl_train_token_1.shape)\n",
        "quest_bl_train_token_1.head()"
      ],
      "execution_count": 44,
      "outputs": [
        {
          "output_type": "stream",
          "text": [
            "Shape of the baseline training data with token: (1200, 29)\n"
          ],
          "name": "stdout"
        },
        {
          "output_type": "execute_result",
          "data": {
            "text/html": [
              "<div>\n",
              "<style scoped>\n",
              "    .dataframe tbody tr th:only-of-type {\n",
              "        vertical-align: middle;\n",
              "    }\n",
              "\n",
              "    .dataframe tbody tr th {\n",
              "        vertical-align: top;\n",
              "    }\n",
              "\n",
              "    .dataframe thead th {\n",
              "        text-align: right;\n",
              "    }\n",
              "</style>\n",
              "<table border=\"1\" class=\"dataframe\">\n",
              "  <thead>\n",
              "    <tr style=\"text-align: right;\">\n",
              "      <th></th>\n",
              "      <th>0</th>\n",
              "      <th>1</th>\n",
              "      <th>2</th>\n",
              "      <th>3</th>\n",
              "      <th>4</th>\n",
              "      <th>5</th>\n",
              "      <th>6</th>\n",
              "      <th>7</th>\n",
              "      <th>8</th>\n",
              "      <th>9</th>\n",
              "      <th>10</th>\n",
              "      <th>11</th>\n",
              "      <th>12</th>\n",
              "      <th>13</th>\n",
              "      <th>14</th>\n",
              "      <th>Accessories</th>\n",
              "      <th>Action_Sports</th>\n",
              "      <th>Boating_&amp;_Water_Sports</th>\n",
              "      <th>Clothing</th>\n",
              "      <th>Cycling</th>\n",
              "      <th>Exercise_&amp;_Fitness</th>\n",
              "      <th>Fan_Shop</th>\n",
              "      <th>Golf</th>\n",
              "      <th>Hunting_&amp;_Fishing</th>\n",
              "      <th>Leisure_Sports_&amp;_Game_Room</th>\n",
              "      <th>Other_Sports</th>\n",
              "      <th>Outdoor_Gear</th>\n",
              "      <th>Paintball_&amp;_Airsoft</th>\n",
              "      <th>Team_Sports</th>\n",
              "    </tr>\n",
              "  </thead>\n",
              "  <tbody>\n",
              "    <tr>\n",
              "      <th>0</th>\n",
              "      <td>52.0</td>\n",
              "      <td>55.0</td>\n",
              "      <td>3.507441</td>\n",
              "      <td>-63.597546</td>\n",
              "      <td>-68.175510</td>\n",
              "      <td>1.195652</td>\n",
              "      <td>0.017857</td>\n",
              "      <td>0.352679</td>\n",
              "      <td>0.006098</td>\n",
              "      <td>0.085366</td>\n",
              "      <td>0.000000</td>\n",
              "      <td>0.018750</td>\n",
              "      <td>0.405449</td>\n",
              "      <td>6.0</td>\n",
              "      <td>4.0</td>\n",
              "      <td>0.0</td>\n",
              "      <td>0.0</td>\n",
              "      <td>0.0</td>\n",
              "      <td>0.0</td>\n",
              "      <td>0.0</td>\n",
              "      <td>0.0</td>\n",
              "      <td>0.0</td>\n",
              "      <td>0.0</td>\n",
              "      <td>0.0</td>\n",
              "      <td>0.0</td>\n",
              "      <td>0.0</td>\n",
              "      <td>0.0</td>\n",
              "      <td>0.0</td>\n",
              "      <td>0.0</td>\n",
              "    </tr>\n",
              "    <tr>\n",
              "      <th>1</th>\n",
              "      <td>360.0</td>\n",
              "      <td>387.0</td>\n",
              "      <td>3.703417</td>\n",
              "      <td>-114.292380</td>\n",
              "      <td>-158.321290</td>\n",
              "      <td>2.162011</td>\n",
              "      <td>0.005254</td>\n",
              "      <td>0.682328</td>\n",
              "      <td>0.040143</td>\n",
              "      <td>0.217052</td>\n",
              "      <td>0.014841</td>\n",
              "      <td>0.044156</td>\n",
              "      <td>0.806435</td>\n",
              "      <td>14.0</td>\n",
              "      <td>15.0</td>\n",
              "      <td>0.0</td>\n",
              "      <td>0.0</td>\n",
              "      <td>0.0</td>\n",
              "      <td>0.0</td>\n",
              "      <td>0.0</td>\n",
              "      <td>0.0</td>\n",
              "      <td>0.0</td>\n",
              "      <td>0.0</td>\n",
              "      <td>0.0</td>\n",
              "      <td>1.0</td>\n",
              "      <td>0.0</td>\n",
              "      <td>0.0</td>\n",
              "      <td>0.0</td>\n",
              "      <td>0.0</td>\n",
              "    </tr>\n",
              "    <tr>\n",
              "      <th>2</th>\n",
              "      <td>117.0</td>\n",
              "      <td>150.0</td>\n",
              "      <td>4.760331</td>\n",
              "      <td>-40.225380</td>\n",
              "      <td>-98.485980</td>\n",
              "      <td>1.785714</td>\n",
              "      <td>0.000000</td>\n",
              "      <td>0.666667</td>\n",
              "      <td>0.047755</td>\n",
              "      <td>0.414370</td>\n",
              "      <td>0.072501</td>\n",
              "      <td>0.183569</td>\n",
              "      <td>0.888889</td>\n",
              "      <td>14.0</td>\n",
              "      <td>12.0</td>\n",
              "      <td>0.0</td>\n",
              "      <td>0.0</td>\n",
              "      <td>0.0</td>\n",
              "      <td>0.0</td>\n",
              "      <td>0.0</td>\n",
              "      <td>1.0</td>\n",
              "      <td>0.0</td>\n",
              "      <td>0.0</td>\n",
              "      <td>0.0</td>\n",
              "      <td>0.0</td>\n",
              "      <td>0.0</td>\n",
              "      <td>0.0</td>\n",
              "      <td>0.0</td>\n",
              "      <td>0.0</td>\n",
              "    </tr>\n",
              "    <tr>\n",
              "      <th>3</th>\n",
              "      <td>234.0</td>\n",
              "      <td>256.0</td>\n",
              "      <td>4.160714</td>\n",
              "      <td>-92.318474</td>\n",
              "      <td>-110.450455</td>\n",
              "      <td>1.684211</td>\n",
              "      <td>0.072579</td>\n",
              "      <td>0.627770</td>\n",
              "      <td>0.047683</td>\n",
              "      <td>0.192912</td>\n",
              "      <td>0.000000</td>\n",
              "      <td>0.068468</td>\n",
              "      <td>0.789225</td>\n",
              "      <td>28.0</td>\n",
              "      <td>28.0</td>\n",
              "      <td>0.0</td>\n",
              "      <td>0.0</td>\n",
              "      <td>0.0</td>\n",
              "      <td>0.0</td>\n",
              "      <td>0.0</td>\n",
              "      <td>0.0</td>\n",
              "      <td>0.0</td>\n",
              "      <td>0.0</td>\n",
              "      <td>0.0</td>\n",
              "      <td>0.0</td>\n",
              "      <td>0.0</td>\n",
              "      <td>0.0</td>\n",
              "      <td>0.0</td>\n",
              "      <td>0.0</td>\n",
              "    </tr>\n",
              "    <tr>\n",
              "      <th>4</th>\n",
              "      <td>272.0</td>\n",
              "      <td>324.0</td>\n",
              "      <td>4.745281</td>\n",
              "      <td>-93.174440</td>\n",
              "      <td>-138.666720</td>\n",
              "      <td>1.830508</td>\n",
              "      <td>0.035162</td>\n",
              "      <td>0.759019</td>\n",
              "      <td>0.033275</td>\n",
              "      <td>0.359057</td>\n",
              "      <td>0.012778</td>\n",
              "      <td>0.053227</td>\n",
              "      <td>0.870030</td>\n",
              "      <td>21.0</td>\n",
              "      <td>20.0</td>\n",
              "      <td>0.0</td>\n",
              "      <td>0.0</td>\n",
              "      <td>0.0</td>\n",
              "      <td>0.0</td>\n",
              "      <td>0.0</td>\n",
              "      <td>0.0</td>\n",
              "      <td>0.0</td>\n",
              "      <td>0.0</td>\n",
              "      <td>0.0</td>\n",
              "      <td>0.0</td>\n",
              "      <td>0.0</td>\n",
              "      <td>0.0</td>\n",
              "      <td>0.0</td>\n",
              "      <td>0.0</td>\n",
              "    </tr>\n",
              "  </tbody>\n",
              "</table>\n",
              "</div>"
            ],
            "text/plain": [
              "       0      1         2  ...  Outdoor_Gear  Paintball_&_Airsoft  Team_Sports\n",
              "0   52.0   55.0  3.507441  ...           0.0                  0.0          0.0\n",
              "1  360.0  387.0  3.703417  ...           0.0                  0.0          0.0\n",
              "2  117.0  150.0  4.760331  ...           0.0                  0.0          0.0\n",
              "3  234.0  256.0  4.160714  ...           0.0                  0.0          0.0\n",
              "4  272.0  324.0  4.745281  ...           0.0                  0.0          0.0\n",
              "\n",
              "[5 rows x 29 columns]"
            ]
          },
          "metadata": {
            "tags": []
          },
          "execution_count": 44
        }
      ]
    },
    {
      "cell_type": "code",
      "metadata": {
        "id": "lfKIjEUDKMp4",
        "colab_type": "code",
        "colab": {}
      },
      "source": [
        "quest_bl_train_token_1.to_csv(\"quest_bl_token_1.train\", header=None, index=None, sep=\"\\t\")"
      ],
      "execution_count": 0,
      "outputs": []
    },
    {
      "cell_type": "code",
      "metadata": {
        "id": "7B-LkXRkLEtC",
        "colab_type": "code",
        "outputId": "02be41fc-a9fc-4d03-e327-ed7b51f4f8bf",
        "colab": {
          "base_uri": "https://localhost:8080/",
          "height": 241
        }
      },
      "source": [
        "quest_vis_train = pd.read_csv(\"quest.train_2\", header=None, sep=\"\\t\")\n",
        "print('Shape of the visual training data:', quest_vis_train.shape)\n",
        "quest_vis_train.head()"
      ],
      "execution_count": 45,
      "outputs": [
        {
          "output_type": "stream",
          "text": [
            "Shape of the visual training data: (1200, 17)\n"
          ],
          "name": "stdout"
        },
        {
          "output_type": "execute_result",
          "data": {
            "text/html": [
              "<div>\n",
              "<style scoped>\n",
              "    .dataframe tbody tr th:only-of-type {\n",
              "        vertical-align: middle;\n",
              "    }\n",
              "\n",
              "    .dataframe tbody tr th {\n",
              "        vertical-align: top;\n",
              "    }\n",
              "\n",
              "    .dataframe thead th {\n",
              "        text-align: right;\n",
              "    }\n",
              "</style>\n",
              "<table border=\"1\" class=\"dataframe\">\n",
              "  <thead>\n",
              "    <tr style=\"text-align: right;\">\n",
              "      <th></th>\n",
              "      <th>0</th>\n",
              "      <th>1</th>\n",
              "      <th>2</th>\n",
              "      <th>3</th>\n",
              "      <th>4</th>\n",
              "      <th>5</th>\n",
              "      <th>6</th>\n",
              "      <th>7</th>\n",
              "      <th>8</th>\n",
              "      <th>9</th>\n",
              "      <th>10</th>\n",
              "      <th>11</th>\n",
              "      <th>12</th>\n",
              "      <th>13</th>\n",
              "      <th>14</th>\n",
              "      <th>15</th>\n",
              "      <th>16</th>\n",
              "    </tr>\n",
              "  </thead>\n",
              "  <tbody>\n",
              "    <tr>\n",
              "      <th>0</th>\n",
              "      <td>52.0</td>\n",
              "      <td>55.0</td>\n",
              "      <td>3.507441</td>\n",
              "      <td>-63.597546</td>\n",
              "      <td>-68.175510</td>\n",
              "      <td>1.195652</td>\n",
              "      <td>0.017857</td>\n",
              "      <td>0.352679</td>\n",
              "      <td>0.006098</td>\n",
              "      <td>0.085366</td>\n",
              "      <td>0.000000</td>\n",
              "      <td>0.018750</td>\n",
              "      <td>0.405449</td>\n",
              "      <td>6.0</td>\n",
              "      <td>4.0</td>\n",
              "      <td>-10.842554</td>\n",
              "      <td>0.383791</td>\n",
              "    </tr>\n",
              "    <tr>\n",
              "      <th>1</th>\n",
              "      <td>360.0</td>\n",
              "      <td>387.0</td>\n",
              "      <td>3.703417</td>\n",
              "      <td>-114.292380</td>\n",
              "      <td>-158.321290</td>\n",
              "      <td>2.162011</td>\n",
              "      <td>0.005254</td>\n",
              "      <td>0.682328</td>\n",
              "      <td>0.040143</td>\n",
              "      <td>0.217052</td>\n",
              "      <td>0.014841</td>\n",
              "      <td>0.044156</td>\n",
              "      <td>0.806435</td>\n",
              "      <td>14.0</td>\n",
              "      <td>15.0</td>\n",
              "      <td>-12.611924</td>\n",
              "      <td>-15.891151</td>\n",
              "    </tr>\n",
              "    <tr>\n",
              "      <th>2</th>\n",
              "      <td>117.0</td>\n",
              "      <td>150.0</td>\n",
              "      <td>4.760331</td>\n",
              "      <td>-40.225380</td>\n",
              "      <td>-98.485980</td>\n",
              "      <td>1.785714</td>\n",
              "      <td>0.000000</td>\n",
              "      <td>0.666667</td>\n",
              "      <td>0.047755</td>\n",
              "      <td>0.414370</td>\n",
              "      <td>0.072501</td>\n",
              "      <td>0.183569</td>\n",
              "      <td>0.888889</td>\n",
              "      <td>14.0</td>\n",
              "      <td>12.0</td>\n",
              "      <td>3.557573</td>\n",
              "      <td>-8.661565</td>\n",
              "    </tr>\n",
              "    <tr>\n",
              "      <th>3</th>\n",
              "      <td>234.0</td>\n",
              "      <td>256.0</td>\n",
              "      <td>4.160714</td>\n",
              "      <td>-92.318474</td>\n",
              "      <td>-110.450455</td>\n",
              "      <td>1.684211</td>\n",
              "      <td>0.072579</td>\n",
              "      <td>0.627770</td>\n",
              "      <td>0.047683</td>\n",
              "      <td>0.192912</td>\n",
              "      <td>0.000000</td>\n",
              "      <td>0.068468</td>\n",
              "      <td>0.789225</td>\n",
              "      <td>28.0</td>\n",
              "      <td>28.0</td>\n",
              "      <td>-1.067465</td>\n",
              "      <td>-2.757689</td>\n",
              "    </tr>\n",
              "    <tr>\n",
              "      <th>4</th>\n",
              "      <td>272.0</td>\n",
              "      <td>324.0</td>\n",
              "      <td>4.745281</td>\n",
              "      <td>-93.174440</td>\n",
              "      <td>-138.666720</td>\n",
              "      <td>1.830509</td>\n",
              "      <td>0.035162</td>\n",
              "      <td>0.759019</td>\n",
              "      <td>0.033275</td>\n",
              "      <td>0.359057</td>\n",
              "      <td>0.012778</td>\n",
              "      <td>0.053227</td>\n",
              "      <td>0.870030</td>\n",
              "      <td>21.0</td>\n",
              "      <td>20.0</td>\n",
              "      <td>-1.067465</td>\n",
              "      <td>-2.757689</td>\n",
              "    </tr>\n",
              "  </tbody>\n",
              "</table>\n",
              "</div>"
            ],
            "text/plain": [
              "      0      1         2           3   ...    13    14         15         16\n",
              "0   52.0   55.0  3.507441  -63.597546  ...   6.0   4.0 -10.842554   0.383791\n",
              "1  360.0  387.0  3.703417 -114.292380  ...  14.0  15.0 -12.611924 -15.891151\n",
              "2  117.0  150.0  4.760331  -40.225380  ...  14.0  12.0   3.557573  -8.661565\n",
              "3  234.0  256.0  4.160714  -92.318474  ...  28.0  28.0  -1.067465  -2.757689\n",
              "4  272.0  324.0  4.745281  -93.174440  ...  21.0  20.0  -1.067465  -2.757689\n",
              "\n",
              "[5 rows x 17 columns]"
            ]
          },
          "metadata": {
            "tags": []
          },
          "execution_count": 45
        }
      ]
    },
    {
      "cell_type": "code",
      "metadata": {
        "id": "VNDn9fqXLOAT",
        "colab_type": "code",
        "outputId": "e44c53c4-bf85-4bb9-d595-ecf956453857",
        "colab": {
          "base_uri": "https://localhost:8080/",
          "height": 241
        }
      },
      "source": [
        "quest_vis_train_token_1 = pd.concat([quest_vis_train, train_token_dummy_1], axis=1)\n",
        "print('Shape of the visual training data with token:', quest_vis_train_token_1.shape)\n",
        "quest_vis_train_token_1.head()"
      ],
      "execution_count": 46,
      "outputs": [
        {
          "output_type": "stream",
          "text": [
            "Shape of the visual training data with token: (1200, 31)\n"
          ],
          "name": "stdout"
        },
        {
          "output_type": "execute_result",
          "data": {
            "text/html": [
              "<div>\n",
              "<style scoped>\n",
              "    .dataframe tbody tr th:only-of-type {\n",
              "        vertical-align: middle;\n",
              "    }\n",
              "\n",
              "    .dataframe tbody tr th {\n",
              "        vertical-align: top;\n",
              "    }\n",
              "\n",
              "    .dataframe thead th {\n",
              "        text-align: right;\n",
              "    }\n",
              "</style>\n",
              "<table border=\"1\" class=\"dataframe\">\n",
              "  <thead>\n",
              "    <tr style=\"text-align: right;\">\n",
              "      <th></th>\n",
              "      <th>0</th>\n",
              "      <th>1</th>\n",
              "      <th>2</th>\n",
              "      <th>3</th>\n",
              "      <th>4</th>\n",
              "      <th>5</th>\n",
              "      <th>6</th>\n",
              "      <th>7</th>\n",
              "      <th>8</th>\n",
              "      <th>9</th>\n",
              "      <th>10</th>\n",
              "      <th>11</th>\n",
              "      <th>12</th>\n",
              "      <th>13</th>\n",
              "      <th>14</th>\n",
              "      <th>15</th>\n",
              "      <th>16</th>\n",
              "      <th>Accessories</th>\n",
              "      <th>Action_Sports</th>\n",
              "      <th>Boating_&amp;_Water_Sports</th>\n",
              "      <th>Clothing</th>\n",
              "      <th>Cycling</th>\n",
              "      <th>Exercise_&amp;_Fitness</th>\n",
              "      <th>Fan_Shop</th>\n",
              "      <th>Golf</th>\n",
              "      <th>Hunting_&amp;_Fishing</th>\n",
              "      <th>Leisure_Sports_&amp;_Game_Room</th>\n",
              "      <th>Other_Sports</th>\n",
              "      <th>Outdoor_Gear</th>\n",
              "      <th>Paintball_&amp;_Airsoft</th>\n",
              "      <th>Team_Sports</th>\n",
              "    </tr>\n",
              "  </thead>\n",
              "  <tbody>\n",
              "    <tr>\n",
              "      <th>0</th>\n",
              "      <td>52.0</td>\n",
              "      <td>55.0</td>\n",
              "      <td>3.507441</td>\n",
              "      <td>-63.597546</td>\n",
              "      <td>-68.175510</td>\n",
              "      <td>1.195652</td>\n",
              "      <td>0.017857</td>\n",
              "      <td>0.352679</td>\n",
              "      <td>0.006098</td>\n",
              "      <td>0.085366</td>\n",
              "      <td>0.000000</td>\n",
              "      <td>0.018750</td>\n",
              "      <td>0.405449</td>\n",
              "      <td>6.0</td>\n",
              "      <td>4.0</td>\n",
              "      <td>-10.842554</td>\n",
              "      <td>0.383791</td>\n",
              "      <td>0.0</td>\n",
              "      <td>0.0</td>\n",
              "      <td>0.0</td>\n",
              "      <td>0.0</td>\n",
              "      <td>0.0</td>\n",
              "      <td>0.0</td>\n",
              "      <td>0.0</td>\n",
              "      <td>0.0</td>\n",
              "      <td>0.0</td>\n",
              "      <td>0.0</td>\n",
              "      <td>0.0</td>\n",
              "      <td>0.0</td>\n",
              "      <td>0.0</td>\n",
              "      <td>0.0</td>\n",
              "    </tr>\n",
              "    <tr>\n",
              "      <th>1</th>\n",
              "      <td>360.0</td>\n",
              "      <td>387.0</td>\n",
              "      <td>3.703417</td>\n",
              "      <td>-114.292380</td>\n",
              "      <td>-158.321290</td>\n",
              "      <td>2.162011</td>\n",
              "      <td>0.005254</td>\n",
              "      <td>0.682328</td>\n",
              "      <td>0.040143</td>\n",
              "      <td>0.217052</td>\n",
              "      <td>0.014841</td>\n",
              "      <td>0.044156</td>\n",
              "      <td>0.806435</td>\n",
              "      <td>14.0</td>\n",
              "      <td>15.0</td>\n",
              "      <td>-12.611924</td>\n",
              "      <td>-15.891151</td>\n",
              "      <td>0.0</td>\n",
              "      <td>0.0</td>\n",
              "      <td>0.0</td>\n",
              "      <td>0.0</td>\n",
              "      <td>0.0</td>\n",
              "      <td>0.0</td>\n",
              "      <td>0.0</td>\n",
              "      <td>0.0</td>\n",
              "      <td>0.0</td>\n",
              "      <td>1.0</td>\n",
              "      <td>0.0</td>\n",
              "      <td>0.0</td>\n",
              "      <td>0.0</td>\n",
              "      <td>0.0</td>\n",
              "    </tr>\n",
              "    <tr>\n",
              "      <th>2</th>\n",
              "      <td>117.0</td>\n",
              "      <td>150.0</td>\n",
              "      <td>4.760331</td>\n",
              "      <td>-40.225380</td>\n",
              "      <td>-98.485980</td>\n",
              "      <td>1.785714</td>\n",
              "      <td>0.000000</td>\n",
              "      <td>0.666667</td>\n",
              "      <td>0.047755</td>\n",
              "      <td>0.414370</td>\n",
              "      <td>0.072501</td>\n",
              "      <td>0.183569</td>\n",
              "      <td>0.888889</td>\n",
              "      <td>14.0</td>\n",
              "      <td>12.0</td>\n",
              "      <td>3.557573</td>\n",
              "      <td>-8.661565</td>\n",
              "      <td>0.0</td>\n",
              "      <td>0.0</td>\n",
              "      <td>0.0</td>\n",
              "      <td>0.0</td>\n",
              "      <td>0.0</td>\n",
              "      <td>1.0</td>\n",
              "      <td>0.0</td>\n",
              "      <td>0.0</td>\n",
              "      <td>0.0</td>\n",
              "      <td>0.0</td>\n",
              "      <td>0.0</td>\n",
              "      <td>0.0</td>\n",
              "      <td>0.0</td>\n",
              "      <td>0.0</td>\n",
              "    </tr>\n",
              "    <tr>\n",
              "      <th>3</th>\n",
              "      <td>234.0</td>\n",
              "      <td>256.0</td>\n",
              "      <td>4.160714</td>\n",
              "      <td>-92.318474</td>\n",
              "      <td>-110.450455</td>\n",
              "      <td>1.684211</td>\n",
              "      <td>0.072579</td>\n",
              "      <td>0.627770</td>\n",
              "      <td>0.047683</td>\n",
              "      <td>0.192912</td>\n",
              "      <td>0.000000</td>\n",
              "      <td>0.068468</td>\n",
              "      <td>0.789225</td>\n",
              "      <td>28.0</td>\n",
              "      <td>28.0</td>\n",
              "      <td>-1.067465</td>\n",
              "      <td>-2.757689</td>\n",
              "      <td>0.0</td>\n",
              "      <td>0.0</td>\n",
              "      <td>0.0</td>\n",
              "      <td>0.0</td>\n",
              "      <td>0.0</td>\n",
              "      <td>0.0</td>\n",
              "      <td>0.0</td>\n",
              "      <td>0.0</td>\n",
              "      <td>0.0</td>\n",
              "      <td>0.0</td>\n",
              "      <td>0.0</td>\n",
              "      <td>0.0</td>\n",
              "      <td>0.0</td>\n",
              "      <td>0.0</td>\n",
              "    </tr>\n",
              "    <tr>\n",
              "      <th>4</th>\n",
              "      <td>272.0</td>\n",
              "      <td>324.0</td>\n",
              "      <td>4.745281</td>\n",
              "      <td>-93.174440</td>\n",
              "      <td>-138.666720</td>\n",
              "      <td>1.830509</td>\n",
              "      <td>0.035162</td>\n",
              "      <td>0.759019</td>\n",
              "      <td>0.033275</td>\n",
              "      <td>0.359057</td>\n",
              "      <td>0.012778</td>\n",
              "      <td>0.053227</td>\n",
              "      <td>0.870030</td>\n",
              "      <td>21.0</td>\n",
              "      <td>20.0</td>\n",
              "      <td>-1.067465</td>\n",
              "      <td>-2.757689</td>\n",
              "      <td>0.0</td>\n",
              "      <td>0.0</td>\n",
              "      <td>0.0</td>\n",
              "      <td>0.0</td>\n",
              "      <td>0.0</td>\n",
              "      <td>0.0</td>\n",
              "      <td>0.0</td>\n",
              "      <td>0.0</td>\n",
              "      <td>0.0</td>\n",
              "      <td>0.0</td>\n",
              "      <td>0.0</td>\n",
              "      <td>0.0</td>\n",
              "      <td>0.0</td>\n",
              "      <td>0.0</td>\n",
              "    </tr>\n",
              "  </tbody>\n",
              "</table>\n",
              "</div>"
            ],
            "text/plain": [
              "       0      1         2  ...  Outdoor_Gear  Paintball_&_Airsoft  Team_Sports\n",
              "0   52.0   55.0  3.507441  ...           0.0                  0.0          0.0\n",
              "1  360.0  387.0  3.703417  ...           0.0                  0.0          0.0\n",
              "2  117.0  150.0  4.760331  ...           0.0                  0.0          0.0\n",
              "3  234.0  256.0  4.160714  ...           0.0                  0.0          0.0\n",
              "4  272.0  324.0  4.745281  ...           0.0                  0.0          0.0\n",
              "\n",
              "[5 rows x 31 columns]"
            ]
          },
          "metadata": {
            "tags": []
          },
          "execution_count": 46
        }
      ]
    },
    {
      "cell_type": "code",
      "metadata": {
        "id": "hylTxM1tLqSV",
        "colab_type": "code",
        "colab": {}
      },
      "source": [
        "quest_vis_train_token_1.to_csv(\"quest_vis_token_1.train\", header=None, index=None, sep=\"\\t\")"
      ],
      "execution_count": 0,
      "outputs": []
    },
    {
      "cell_type": "markdown",
      "metadata": {
        "id": "5XP8kajgLZfu",
        "colab_type": "text"
      },
      "source": [
        "## With the 5% threshold"
      ]
    },
    {
      "cell_type": "code",
      "metadata": {
        "id": "OH-A-RnCLVTx",
        "colab_type": "code",
        "colab": {
          "base_uri": "https://localhost:8080/",
          "height": 34
        },
        "outputId": "c1d0f413-4912-4936-8e27-5ae3cbb0b9ff"
      },
      "source": [
        "quest_bl_train_token_5 = pd.concat([quest_bl_train, train_token_dummy_5], axis=1)\n",
        "print('Shape of the baseline training data with token:', quest_bl_train_token_5.shape)\n",
        "quest_bl_train_token_5.to_csv(\"quest_bl_token_5.train\", header=None, index=None, sep=\"\\t\")"
      ],
      "execution_count": 49,
      "outputs": [
        {
          "output_type": "stream",
          "text": [
            "Shape of the baseline training data with token: (1200, 22)\n"
          ],
          "name": "stdout"
        }
      ]
    },
    {
      "cell_type": "code",
      "metadata": {
        "id": "74jA5LqtLVY2",
        "colab_type": "code",
        "colab": {
          "base_uri": "https://localhost:8080/",
          "height": 34
        },
        "outputId": "a82b2481-ea5a-4555-f1c5-07b7c62bc664"
      },
      "source": [
        "quest_vis_train_token_5 = pd.concat([quest_vis_train, train_token_dummy_5], axis=1)\n",
        "print('Shape of the visual training data with token:', quest_vis_train_token_5.shape)\n",
        "quest_vis_train_token_5.to_csv(\"quest_vis_token_5.train\", header=None, index=None, sep=\"\\t\")"
      ],
      "execution_count": 50,
      "outputs": [
        {
          "output_type": "stream",
          "text": [
            "Shape of the visual training data with token: (1200, 24)\n"
          ],
          "name": "stdout"
        }
      ]
    },
    {
      "cell_type": "markdown",
      "metadata": {
        "id": "jTUbsFH_MEI3",
        "colab_type": "text"
      },
      "source": [
        "## With the 10% threshold"
      ]
    },
    {
      "cell_type": "code",
      "metadata": {
        "id": "AFG494AjLVkn",
        "colab_type": "code",
        "colab": {
          "base_uri": "https://localhost:8080/",
          "height": 34
        },
        "outputId": "54fcbd2c-7311-43fa-f862-2e2d95e45668"
      },
      "source": [
        "quest_bl_train_token_10 = pd.concat([quest_bl_train, train_token_dummy_10], axis=1)\n",
        "print('Shape of the baseline training data with token:', quest_bl_train_token_10.shape)\n",
        "quest_bl_train_token_10.to_csv(\"quest_bl_token_10.train\", header=None, index=None, sep=\"\\t\")"
      ],
      "execution_count": 52,
      "outputs": [
        {
          "output_type": "stream",
          "text": [
            "Shape of the baseline training data with token: (1200, 18)\n"
          ],
          "name": "stdout"
        }
      ]
    },
    {
      "cell_type": "code",
      "metadata": {
        "id": "lpLqBdswMOFU",
        "colab_type": "code",
        "colab": {
          "base_uri": "https://localhost:8080/",
          "height": 34
        },
        "outputId": "4f44731f-444c-455f-e2da-c583f3057e45"
      },
      "source": [
        "quest_vis_train_token_10 = pd.concat([quest_vis_train, train_token_dummy_10], axis=1)\n",
        "print('Shape of the visual training data with token:', quest_vis_train_token_10.shape)\n",
        "quest_vis_train_token_10.to_csv(\"quest_vis_token_10.train\", header=None, index=None, sep=\"\\t\")"
      ],
      "execution_count": 53,
      "outputs": [
        {
          "output_type": "stream",
          "text": [
            "Shape of the visual training data with token: (1200, 20)\n"
          ],
          "name": "stdout"
        }
      ]
    },
    {
      "cell_type": "markdown",
      "metadata": {
        "id": "Wobgc1LLGhKy",
        "colab_type": "text"
      },
      "source": [
        "# Test data"
      ]
    },
    {
      "cell_type": "code",
      "metadata": {
        "id": "a8aMWbxPgeJF",
        "colab_type": "code",
        "outputId": "2acc6d67-5387-4213-f694-7ef91791bf45",
        "colab": {
          "base_uri": "https://localhost:8080/",
          "height": 221
        }
      },
      "source": [
        "# Load data\n",
        "test_token = pd.read_csv('QE-2018-task4-titles-categories-and-ids_test.txt', sep='\\t', header=None)\n",
        "test_token.columns = [\"doc_no\", \"asin\", \"title\", \"token\"]\n",
        "test_token.head()"
      ],
      "execution_count": 87,
      "outputs": [
        {
          "output_type": "execute_result",
          "data": {
            "text/html": [
              "<div>\n",
              "<style scoped>\n",
              "    .dataframe tbody tr th:only-of-type {\n",
              "        vertical-align: middle;\n",
              "    }\n",
              "\n",
              "    .dataframe tbody tr th {\n",
              "        vertical-align: top;\n",
              "    }\n",
              "\n",
              "    .dataframe thead th {\n",
              "        text-align: right;\n",
              "    }\n",
              "</style>\n",
              "<table border=\"1\" class=\"dataframe\">\n",
              "  <thead>\n",
              "    <tr style=\"text-align: right;\">\n",
              "      <th></th>\n",
              "      <th>doc_no</th>\n",
              "      <th>asin</th>\n",
              "      <th>title</th>\n",
              "      <th>token</th>\n",
              "    </tr>\n",
              "  </thead>\n",
              "  <tbody>\n",
              "    <tr>\n",
              "      <th>0</th>\n",
              "      <td>doc0000</td>\n",
              "      <td>B0009MZVJY</td>\n",
              "      <td>Thorlo Men's Lite Running Mini Crew Sock</td>\n",
              "      <td>Sports_&amp;_Outdoors@@Exercise_&amp;_Fitness@@Running...</td>\n",
              "    </tr>\n",
              "    <tr>\n",
              "      <th>1</th>\n",
              "      <td>doc0001</td>\n",
              "      <td>B0009MZUW2</td>\n",
              "      <td>Thorlo Unisex Running Mini-Crew Sock</td>\n",
              "      <td>Sports_&amp;_Outdoors@@Exercise_&amp;_Fitness@@Running...</td>\n",
              "    </tr>\n",
              "    <tr>\n",
              "      <th>2</th>\n",
              "      <td>doc0002</td>\n",
              "      <td>B0009MZVHG</td>\n",
              "      <td>Thorlo Women's Lite Running  Micro-Mini Low-Cu...</td>\n",
              "      <td>Sports_&amp;_Outdoors@@Exercise_&amp;_Fitness@@Running...</td>\n",
              "    </tr>\n",
              "    <tr>\n",
              "      <th>3</th>\n",
              "      <td>doc0003</td>\n",
              "      <td>B0009MD9Q6</td>\n",
              "      <td>Pillar Men's Yoga Short w/inner liner (Dryflex...</td>\n",
              "      <td>Sports_&amp;_Outdoors@@Exercise_&amp;_Fitness@@Yoga@@C...</td>\n",
              "    </tr>\n",
              "    <tr>\n",
              "      <th>4</th>\n",
              "      <td>doc0004</td>\n",
              "      <td>B0009MZUO0</td>\n",
              "      <td>Thorlo UnisexRunning Rolltop Sock</td>\n",
              "      <td>Sports_&amp;_Outdoors@@Clothing@@Men@@Socks</td>\n",
              "    </tr>\n",
              "  </tbody>\n",
              "</table>\n",
              "</div>"
            ],
            "text/plain": [
              "    doc_no  ...                                              token\n",
              "0  doc0000  ...  Sports_&_Outdoors@@Exercise_&_Fitness@@Running...\n",
              "1  doc0001  ...  Sports_&_Outdoors@@Exercise_&_Fitness@@Running...\n",
              "2  doc0002  ...  Sports_&_Outdoors@@Exercise_&_Fitness@@Running...\n",
              "3  doc0003  ...  Sports_&_Outdoors@@Exercise_&_Fitness@@Yoga@@C...\n",
              "4  doc0004  ...            Sports_&_Outdoors@@Clothing@@Men@@Socks\n",
              "\n",
              "[5 rows x 4 columns]"
            ]
          },
          "metadata": {
            "tags": []
          },
          "execution_count": 87
        }
      ]
    },
    {
      "cell_type": "code",
      "metadata": {
        "id": "VreRhifyHLg9",
        "colab_type": "code",
        "outputId": "5b6f7431-4fbf-4a0a-fbab-d4cb16892b5d",
        "colab": {
          "base_uri": "https://localhost:8080/",
          "height": 238
        }
      },
      "source": [
        "test_token = test_token.fillna('')\n",
        "print('Shape of the test data:', test_token.shape)\n",
        "test_token.head()"
      ],
      "execution_count": 88,
      "outputs": [
        {
          "output_type": "stream",
          "text": [
            "Shape of the test data: (269, 4)\n"
          ],
          "name": "stdout"
        },
        {
          "output_type": "execute_result",
          "data": {
            "text/html": [
              "<div>\n",
              "<style scoped>\n",
              "    .dataframe tbody tr th:only-of-type {\n",
              "        vertical-align: middle;\n",
              "    }\n",
              "\n",
              "    .dataframe tbody tr th {\n",
              "        vertical-align: top;\n",
              "    }\n",
              "\n",
              "    .dataframe thead th {\n",
              "        text-align: right;\n",
              "    }\n",
              "</style>\n",
              "<table border=\"1\" class=\"dataframe\">\n",
              "  <thead>\n",
              "    <tr style=\"text-align: right;\">\n",
              "      <th></th>\n",
              "      <th>doc_no</th>\n",
              "      <th>asin</th>\n",
              "      <th>title</th>\n",
              "      <th>token</th>\n",
              "    </tr>\n",
              "  </thead>\n",
              "  <tbody>\n",
              "    <tr>\n",
              "      <th>0</th>\n",
              "      <td>doc0000</td>\n",
              "      <td>B0009MZVJY</td>\n",
              "      <td>Thorlo Men's Lite Running Mini Crew Sock</td>\n",
              "      <td>Sports_&amp;_Outdoors@@Exercise_&amp;_Fitness@@Running...</td>\n",
              "    </tr>\n",
              "    <tr>\n",
              "      <th>1</th>\n",
              "      <td>doc0001</td>\n",
              "      <td>B0009MZUW2</td>\n",
              "      <td>Thorlo Unisex Running Mini-Crew Sock</td>\n",
              "      <td>Sports_&amp;_Outdoors@@Exercise_&amp;_Fitness@@Running...</td>\n",
              "    </tr>\n",
              "    <tr>\n",
              "      <th>2</th>\n",
              "      <td>doc0002</td>\n",
              "      <td>B0009MZVHG</td>\n",
              "      <td>Thorlo Women's Lite Running  Micro-Mini Low-Cu...</td>\n",
              "      <td>Sports_&amp;_Outdoors@@Exercise_&amp;_Fitness@@Running...</td>\n",
              "    </tr>\n",
              "    <tr>\n",
              "      <th>3</th>\n",
              "      <td>doc0003</td>\n",
              "      <td>B0009MD9Q6</td>\n",
              "      <td>Pillar Men's Yoga Short w/inner liner (Dryflex...</td>\n",
              "      <td>Sports_&amp;_Outdoors@@Exercise_&amp;_Fitness@@Yoga@@C...</td>\n",
              "    </tr>\n",
              "    <tr>\n",
              "      <th>4</th>\n",
              "      <td>doc0004</td>\n",
              "      <td>B0009MZUO0</td>\n",
              "      <td>Thorlo UnisexRunning Rolltop Sock</td>\n",
              "      <td>Sports_&amp;_Outdoors@@Clothing@@Men@@Socks</td>\n",
              "    </tr>\n",
              "  </tbody>\n",
              "</table>\n",
              "</div>"
            ],
            "text/plain": [
              "    doc_no  ...                                              token\n",
              "0  doc0000  ...  Sports_&_Outdoors@@Exercise_&_Fitness@@Running...\n",
              "1  doc0001  ...  Sports_&_Outdoors@@Exercise_&_Fitness@@Running...\n",
              "2  doc0002  ...  Sports_&_Outdoors@@Exercise_&_Fitness@@Running...\n",
              "3  doc0003  ...  Sports_&_Outdoors@@Exercise_&_Fitness@@Yoga@@C...\n",
              "4  doc0004  ...            Sports_&_Outdoors@@Clothing@@Men@@Socks\n",
              "\n",
              "[5 rows x 4 columns]"
            ]
          },
          "metadata": {
            "tags": []
          },
          "execution_count": 88
        }
      ]
    },
    {
      "cell_type": "code",
      "metadata": {
        "id": "A2Yj5lU-HOQ3",
        "colab_type": "code",
        "outputId": "8ed5b3e6-30b6-4262-c7c1-65711da18f2e",
        "colab": {
          "base_uri": "https://localhost:8080/",
          "height": 374
        }
      },
      "source": [
        "test_token[\"token_list\"] = test_token.token.str.split('@@') \n",
        "test_token.head()"
      ],
      "execution_count": 89,
      "outputs": [
        {
          "output_type": "execute_result",
          "data": {
            "text/html": [
              "<div>\n",
              "<style scoped>\n",
              "    .dataframe tbody tr th:only-of-type {\n",
              "        vertical-align: middle;\n",
              "    }\n",
              "\n",
              "    .dataframe tbody tr th {\n",
              "        vertical-align: top;\n",
              "    }\n",
              "\n",
              "    .dataframe thead th {\n",
              "        text-align: right;\n",
              "    }\n",
              "</style>\n",
              "<table border=\"1\" class=\"dataframe\">\n",
              "  <thead>\n",
              "    <tr style=\"text-align: right;\">\n",
              "      <th></th>\n",
              "      <th>doc_no</th>\n",
              "      <th>asin</th>\n",
              "      <th>title</th>\n",
              "      <th>token</th>\n",
              "      <th>token_list</th>\n",
              "    </tr>\n",
              "  </thead>\n",
              "  <tbody>\n",
              "    <tr>\n",
              "      <th>0</th>\n",
              "      <td>doc0000</td>\n",
              "      <td>B0009MZVJY</td>\n",
              "      <td>Thorlo Men's Lite Running Mini Crew Sock</td>\n",
              "      <td>Sports_&amp;_Outdoors@@Exercise_&amp;_Fitness@@Running...</td>\n",
              "      <td>[Sports_&amp;_Outdoors, Exercise_&amp;_Fitness, Runnin...</td>\n",
              "    </tr>\n",
              "    <tr>\n",
              "      <th>1</th>\n",
              "      <td>doc0001</td>\n",
              "      <td>B0009MZUW2</td>\n",
              "      <td>Thorlo Unisex Running Mini-Crew Sock</td>\n",
              "      <td>Sports_&amp;_Outdoors@@Exercise_&amp;_Fitness@@Running...</td>\n",
              "      <td>[Sports_&amp;_Outdoors, Exercise_&amp;_Fitness, Runnin...</td>\n",
              "    </tr>\n",
              "    <tr>\n",
              "      <th>2</th>\n",
              "      <td>doc0002</td>\n",
              "      <td>B0009MZVHG</td>\n",
              "      <td>Thorlo Women's Lite Running  Micro-Mini Low-Cu...</td>\n",
              "      <td>Sports_&amp;_Outdoors@@Exercise_&amp;_Fitness@@Running...</td>\n",
              "      <td>[Sports_&amp;_Outdoors, Exercise_&amp;_Fitness, Runnin...</td>\n",
              "    </tr>\n",
              "    <tr>\n",
              "      <th>3</th>\n",
              "      <td>doc0003</td>\n",
              "      <td>B0009MD9Q6</td>\n",
              "      <td>Pillar Men's Yoga Short w/inner liner (Dryflex...</td>\n",
              "      <td>Sports_&amp;_Outdoors@@Exercise_&amp;_Fitness@@Yoga@@C...</td>\n",
              "      <td>[Sports_&amp;_Outdoors, Exercise_&amp;_Fitness, Yoga, ...</td>\n",
              "    </tr>\n",
              "    <tr>\n",
              "      <th>4</th>\n",
              "      <td>doc0004</td>\n",
              "      <td>B0009MZUO0</td>\n",
              "      <td>Thorlo UnisexRunning Rolltop Sock</td>\n",
              "      <td>Sports_&amp;_Outdoors@@Clothing@@Men@@Socks</td>\n",
              "      <td>[Sports_&amp;_Outdoors, Clothing, Men, Socks]</td>\n",
              "    </tr>\n",
              "  </tbody>\n",
              "</table>\n",
              "</div>"
            ],
            "text/plain": [
              "    doc_no  ...                                         token_list\n",
              "0  doc0000  ...  [Sports_&_Outdoors, Exercise_&_Fitness, Runnin...\n",
              "1  doc0001  ...  [Sports_&_Outdoors, Exercise_&_Fitness, Runnin...\n",
              "2  doc0002  ...  [Sports_&_Outdoors, Exercise_&_Fitness, Runnin...\n",
              "3  doc0003  ...  [Sports_&_Outdoors, Exercise_&_Fitness, Yoga, ...\n",
              "4  doc0004  ...          [Sports_&_Outdoors, Clothing, Men, Socks]\n",
              "\n",
              "[5 rows x 5 columns]"
            ]
          },
          "metadata": {
            "tags": []
          },
          "execution_count": 89
        }
      ]
    },
    {
      "cell_type": "code",
      "metadata": {
        "id": "vue-0HEGHW4c",
        "colab_type": "code",
        "colab": {
          "base_uri": "https://localhost:8080/",
          "height": 136
        },
        "outputId": "e25a15be-7e9f-4af9-deb2-3e0ca95d9ce3"
      },
      "source": [
        "test_token[\"len_token_list\"] = test_token.token_list.str.len()\n",
        "test_token.len_token_list.value_counts()"
      ],
      "execution_count": 90,
      "outputs": [
        {
          "output_type": "execute_result",
          "data": {
            "text/plain": [
              "5    112\n",
              "4     97\n",
              "3     33\n",
              "6     23\n",
              "1      3\n",
              "2      1\n",
              "Name: len_token_list, dtype: int64"
            ]
          },
          "metadata": {
            "tags": []
          },
          "execution_count": 90
        }
      ]
    },
    {
      "cell_type": "code",
      "metadata": {
        "id": "5xG8ZrWiHcUO",
        "colab_type": "code",
        "colab": {}
      },
      "source": [
        "def pad_list(data, max_len=6):\n",
        "    data[\"token_list_pad\"] = \"\"\n",
        "    for index, row in data.iterrows():\n",
        "        pad_number = max_len - row.len_token_list\n",
        "        data.at[index, \"token_list_pad\"] = row.token_list + ([\"\"] * pad_number)\n",
        "    return data\n",
        "\n",
        "test_token = pad_list(test_token, 6)"
      ],
      "execution_count": 0,
      "outputs": []
    },
    {
      "cell_type": "code",
      "metadata": {
        "id": "n_N5hqERHcfR",
        "colab_type": "code",
        "colab": {}
      },
      "source": [
        "test_token[\"len_token_list_pad\"] = test_token.token_list_pad.str.len()"
      ],
      "execution_count": 0,
      "outputs": []
    },
    {
      "cell_type": "code",
      "metadata": {
        "id": "izGQq6LcHccN",
        "colab_type": "code",
        "colab": {}
      },
      "source": [
        "test_token[[\"sub_cat_1\", \"sub_cat_2\", \"sub_cat_3\", \"sub_cat_4\", \"sub_cat_5\", \"sub_cat_6\"]] = pd.DataFrame(test_token.token_list_pad.values.tolist(), index=test_token.index)"
      ],
      "execution_count": 0,
      "outputs": []
    },
    {
      "cell_type": "code",
      "metadata": {
        "id": "BEWF_ruKHcal",
        "colab_type": "code",
        "outputId": "f111fccc-bdea-4046-e18b-3361218cfc11",
        "colab": {
          "base_uri": "https://localhost:8080/",
          "height": 71
        }
      },
      "source": [
        "test_sub_cat_2_list = test_token.sub_cat_2.unique().tolist()\n",
        "print('All sub-categories:', test_sub_cat_2_list)\n",
        "print('Sub-categories not kept:', [test_sub_cat for test_sub_cat in test_sub_cat_2_list if test_sub_cat not in sub_cat_kept_1])"
      ],
      "execution_count": 94,
      "outputs": [
        {
          "output_type": "stream",
          "text": [
            "All sub-categories: ['Exercise_&_Fitness', 'Clothing', 'Fan_Shop', 'Hunting_&_Fishing', 'Outdoor_Gear', 'Racquet_Sports', 'Paintball_&_Airsoft', 'Cycling', 'Team_Sports', 'Accessories', 'Other_Sports', 'Boating_&_Water_Sports', 'Leisure_Sports_&_Game_Room', '', 'Action_Sports', 'Snow_Sports', 'Golf', 'Cell_Phones', 'Equestrian_Sports']\n",
            "Sub-categories not kept: ['Racquet_Sports', 'Snow_Sports', 'Cell_Phones', 'Equestrian_Sports']\n"
          ],
          "name": "stdout"
        }
      ]
    },
    {
      "cell_type": "code",
      "metadata": {
        "id": "d30QYydiHcZN",
        "colab_type": "code",
        "colab": {}
      },
      "source": [
        "list_not_useful_test_1 = [test_sub_cat for test_sub_cat in test_sub_cat_2_list if test_sub_cat not in sub_cat_kept_1]\n",
        "list_not_useful_regex_test_1 = \"|\".join(list_not_useful_test_1)"
      ],
      "execution_count": 0,
      "outputs": []
    },
    {
      "cell_type": "code",
      "metadata": {
        "id": "miWmAEHZHtkx",
        "colab_type": "code",
        "colab": {}
      },
      "source": [
        "test_token[\"sub_cat_split_1\"] = test_token.sub_cat_2\n",
        "test_token.sub_cat_split_1 = test_token.sub_cat_split_1.str.replace(list_not_useful_regex_test_1, '')"
      ],
      "execution_count": 0,
      "outputs": []
    },
    {
      "cell_type": "code",
      "metadata": {
        "id": "PtuYZYlSHttI",
        "colab_type": "code",
        "outputId": "d92544e9-32fd-48cf-c023-56e7bf557a7a",
        "colab": {
          "base_uri": "https://localhost:8080/",
          "height": 54
        }
      },
      "source": [
        "test_sub_cat_kept_1 = test_token.sub_cat_split_1.unique().tolist()\n",
        "print('Kept sub-categories:', test_sub_cat_kept_1)"
      ],
      "execution_count": 97,
      "outputs": [
        {
          "output_type": "stream",
          "text": [
            "Kept sub-categories: ['Exercise_&_Fitness', 'Clothing', 'Fan_Shop', 'Hunting_&_Fishing', 'Outdoor_Gear', '', 'Paintball_&_Airsoft', 'Cycling', 'Team_Sports', 'Accessories', 'Other_Sports', 'Boating_&_Water_Sports', 'Leisure_Sports_&_Game_Room', 'Action_Sports', 'Golf']\n"
          ],
          "name": "stdout"
        }
      ]
    },
    {
      "cell_type": "code",
      "metadata": {
        "id": "0j5bc4u9Htqh",
        "colab_type": "code",
        "outputId": "7cbe9e91-1d9f-46e3-fdfc-2feec5a0e659",
        "colab": {
          "base_uri": "https://localhost:8080/",
          "height": 241
        }
      },
      "source": [
        "test_token_dummy_1 = pd.get_dummies(test_token[\"sub_cat_split_1\"], drop_first=True, dtype=float)\n",
        "print('Shape of the test data with token', test_token_dummy_1.shape)\n",
        "test_token_dummy_1.head()"
      ],
      "execution_count": 98,
      "outputs": [
        {
          "output_type": "stream",
          "text": [
            "Shape of the test data with token (269, 14)\n"
          ],
          "name": "stdout"
        },
        {
          "output_type": "execute_result",
          "data": {
            "text/html": [
              "<div>\n",
              "<style scoped>\n",
              "    .dataframe tbody tr th:only-of-type {\n",
              "        vertical-align: middle;\n",
              "    }\n",
              "\n",
              "    .dataframe tbody tr th {\n",
              "        vertical-align: top;\n",
              "    }\n",
              "\n",
              "    .dataframe thead th {\n",
              "        text-align: right;\n",
              "    }\n",
              "</style>\n",
              "<table border=\"1\" class=\"dataframe\">\n",
              "  <thead>\n",
              "    <tr style=\"text-align: right;\">\n",
              "      <th></th>\n",
              "      <th>Accessories</th>\n",
              "      <th>Action_Sports</th>\n",
              "      <th>Boating_&amp;_Water_Sports</th>\n",
              "      <th>Clothing</th>\n",
              "      <th>Cycling</th>\n",
              "      <th>Exercise_&amp;_Fitness</th>\n",
              "      <th>Fan_Shop</th>\n",
              "      <th>Golf</th>\n",
              "      <th>Hunting_&amp;_Fishing</th>\n",
              "      <th>Leisure_Sports_&amp;_Game_Room</th>\n",
              "      <th>Other_Sports</th>\n",
              "      <th>Outdoor_Gear</th>\n",
              "      <th>Paintball_&amp;_Airsoft</th>\n",
              "      <th>Team_Sports</th>\n",
              "    </tr>\n",
              "  </thead>\n",
              "  <tbody>\n",
              "    <tr>\n",
              "      <th>0</th>\n",
              "      <td>0.0</td>\n",
              "      <td>0.0</td>\n",
              "      <td>0.0</td>\n",
              "      <td>0.0</td>\n",
              "      <td>0.0</td>\n",
              "      <td>1.0</td>\n",
              "      <td>0.0</td>\n",
              "      <td>0.0</td>\n",
              "      <td>0.0</td>\n",
              "      <td>0.0</td>\n",
              "      <td>0.0</td>\n",
              "      <td>0.0</td>\n",
              "      <td>0.0</td>\n",
              "      <td>0.0</td>\n",
              "    </tr>\n",
              "    <tr>\n",
              "      <th>1</th>\n",
              "      <td>0.0</td>\n",
              "      <td>0.0</td>\n",
              "      <td>0.0</td>\n",
              "      <td>0.0</td>\n",
              "      <td>0.0</td>\n",
              "      <td>1.0</td>\n",
              "      <td>0.0</td>\n",
              "      <td>0.0</td>\n",
              "      <td>0.0</td>\n",
              "      <td>0.0</td>\n",
              "      <td>0.0</td>\n",
              "      <td>0.0</td>\n",
              "      <td>0.0</td>\n",
              "      <td>0.0</td>\n",
              "    </tr>\n",
              "    <tr>\n",
              "      <th>2</th>\n",
              "      <td>0.0</td>\n",
              "      <td>0.0</td>\n",
              "      <td>0.0</td>\n",
              "      <td>0.0</td>\n",
              "      <td>0.0</td>\n",
              "      <td>1.0</td>\n",
              "      <td>0.0</td>\n",
              "      <td>0.0</td>\n",
              "      <td>0.0</td>\n",
              "      <td>0.0</td>\n",
              "      <td>0.0</td>\n",
              "      <td>0.0</td>\n",
              "      <td>0.0</td>\n",
              "      <td>0.0</td>\n",
              "    </tr>\n",
              "    <tr>\n",
              "      <th>3</th>\n",
              "      <td>0.0</td>\n",
              "      <td>0.0</td>\n",
              "      <td>0.0</td>\n",
              "      <td>0.0</td>\n",
              "      <td>0.0</td>\n",
              "      <td>1.0</td>\n",
              "      <td>0.0</td>\n",
              "      <td>0.0</td>\n",
              "      <td>0.0</td>\n",
              "      <td>0.0</td>\n",
              "      <td>0.0</td>\n",
              "      <td>0.0</td>\n",
              "      <td>0.0</td>\n",
              "      <td>0.0</td>\n",
              "    </tr>\n",
              "    <tr>\n",
              "      <th>4</th>\n",
              "      <td>0.0</td>\n",
              "      <td>0.0</td>\n",
              "      <td>0.0</td>\n",
              "      <td>1.0</td>\n",
              "      <td>0.0</td>\n",
              "      <td>0.0</td>\n",
              "      <td>0.0</td>\n",
              "      <td>0.0</td>\n",
              "      <td>0.0</td>\n",
              "      <td>0.0</td>\n",
              "      <td>0.0</td>\n",
              "      <td>0.0</td>\n",
              "      <td>0.0</td>\n",
              "      <td>0.0</td>\n",
              "    </tr>\n",
              "  </tbody>\n",
              "</table>\n",
              "</div>"
            ],
            "text/plain": [
              "   Accessories  Action_Sports  ...  Paintball_&_Airsoft  Team_Sports\n",
              "0          0.0            0.0  ...                  0.0          0.0\n",
              "1          0.0            0.0  ...                  0.0          0.0\n",
              "2          0.0            0.0  ...                  0.0          0.0\n",
              "3          0.0            0.0  ...                  0.0          0.0\n",
              "4          0.0            0.0  ...                  0.0          0.0\n",
              "\n",
              "[5 rows x 14 columns]"
            ]
          },
          "metadata": {
            "tags": []
          },
          "execution_count": 98
        }
      ]
    },
    {
      "cell_type": "code",
      "metadata": {
        "id": "corQBxjgPTJW",
        "colab_type": "code",
        "colab": {}
      },
      "source": [
        "# Threshold 5%\n",
        "test_sub_cat_split_1_list = test_token.sub_cat_split_1.unique().tolist()\n",
        "list_not_useful_test_5 = [test_sub_cat for test_sub_cat in test_sub_cat_split_1_list if test_sub_cat not in sub_cat_kept_5]\n",
        "list_not_useful_regex_test_5 = \"|\".join(list_not_useful_test_5)"
      ],
      "execution_count": 0,
      "outputs": []
    },
    {
      "cell_type": "code",
      "metadata": {
        "id": "QHZz74O4PTVv",
        "colab_type": "code",
        "colab": {
          "base_uri": "https://localhost:8080/",
          "height": 54
        },
        "outputId": "022e35f1-f226-48ed-e761-294fb3c7a5aa"
      },
      "source": [
        "test_token[\"sub_cat_split_5\"] = test_token.sub_cat_split_1\n",
        "test_token.sub_cat_split_5 = test_token.sub_cat_split_5.str.replace(list_not_useful_regex_test_5, '')\n",
        "\n",
        "test_sub_cat_kept_5 = test_token.sub_cat_split_5.unique().tolist()\n",
        "print('Kept sub-categories:', test_sub_cat_kept_5)"
      ],
      "execution_count": 100,
      "outputs": [
        {
          "output_type": "stream",
          "text": [
            "Kept sub-categories: ['Exercise_&_Fitness', 'Clothing', '', 'Hunting_&_Fishing', 'Outdoor_Gear', 'Cycling', 'Accessories', 'Boating_&_Water_Sports']\n"
          ],
          "name": "stdout"
        }
      ]
    },
    {
      "cell_type": "code",
      "metadata": {
        "id": "mgLEYmLrPTS_",
        "colab_type": "code",
        "colab": {
          "base_uri": "https://localhost:8080/",
          "height": 221
        },
        "outputId": "5c9e76cf-0445-41a5-fe1e-4edc7c1d76d1"
      },
      "source": [
        "test_token_dummy_5 = pd.get_dummies(test_token[\"sub_cat_split_5\"], drop_first=True, dtype=float)\n",
        "print('Shape of the test data with token', test_token_dummy_5.shape)\n",
        "test_token_dummy_5.head()"
      ],
      "execution_count": 101,
      "outputs": [
        {
          "output_type": "stream",
          "text": [
            "Shape of the test data with token (269, 7)\n"
          ],
          "name": "stdout"
        },
        {
          "output_type": "execute_result",
          "data": {
            "text/html": [
              "<div>\n",
              "<style scoped>\n",
              "    .dataframe tbody tr th:only-of-type {\n",
              "        vertical-align: middle;\n",
              "    }\n",
              "\n",
              "    .dataframe tbody tr th {\n",
              "        vertical-align: top;\n",
              "    }\n",
              "\n",
              "    .dataframe thead th {\n",
              "        text-align: right;\n",
              "    }\n",
              "</style>\n",
              "<table border=\"1\" class=\"dataframe\">\n",
              "  <thead>\n",
              "    <tr style=\"text-align: right;\">\n",
              "      <th></th>\n",
              "      <th>Accessories</th>\n",
              "      <th>Boating_&amp;_Water_Sports</th>\n",
              "      <th>Clothing</th>\n",
              "      <th>Cycling</th>\n",
              "      <th>Exercise_&amp;_Fitness</th>\n",
              "      <th>Hunting_&amp;_Fishing</th>\n",
              "      <th>Outdoor_Gear</th>\n",
              "    </tr>\n",
              "  </thead>\n",
              "  <tbody>\n",
              "    <tr>\n",
              "      <th>0</th>\n",
              "      <td>0.0</td>\n",
              "      <td>0.0</td>\n",
              "      <td>0.0</td>\n",
              "      <td>0.0</td>\n",
              "      <td>1.0</td>\n",
              "      <td>0.0</td>\n",
              "      <td>0.0</td>\n",
              "    </tr>\n",
              "    <tr>\n",
              "      <th>1</th>\n",
              "      <td>0.0</td>\n",
              "      <td>0.0</td>\n",
              "      <td>0.0</td>\n",
              "      <td>0.0</td>\n",
              "      <td>1.0</td>\n",
              "      <td>0.0</td>\n",
              "      <td>0.0</td>\n",
              "    </tr>\n",
              "    <tr>\n",
              "      <th>2</th>\n",
              "      <td>0.0</td>\n",
              "      <td>0.0</td>\n",
              "      <td>0.0</td>\n",
              "      <td>0.0</td>\n",
              "      <td>1.0</td>\n",
              "      <td>0.0</td>\n",
              "      <td>0.0</td>\n",
              "    </tr>\n",
              "    <tr>\n",
              "      <th>3</th>\n",
              "      <td>0.0</td>\n",
              "      <td>0.0</td>\n",
              "      <td>0.0</td>\n",
              "      <td>0.0</td>\n",
              "      <td>1.0</td>\n",
              "      <td>0.0</td>\n",
              "      <td>0.0</td>\n",
              "    </tr>\n",
              "    <tr>\n",
              "      <th>4</th>\n",
              "      <td>0.0</td>\n",
              "      <td>0.0</td>\n",
              "      <td>1.0</td>\n",
              "      <td>0.0</td>\n",
              "      <td>0.0</td>\n",
              "      <td>0.0</td>\n",
              "      <td>0.0</td>\n",
              "    </tr>\n",
              "  </tbody>\n",
              "</table>\n",
              "</div>"
            ],
            "text/plain": [
              "   Accessories  Boating_&_Water_Sports  ...  Hunting_&_Fishing  Outdoor_Gear\n",
              "0          0.0                     0.0  ...                0.0           0.0\n",
              "1          0.0                     0.0  ...                0.0           0.0\n",
              "2          0.0                     0.0  ...                0.0           0.0\n",
              "3          0.0                     0.0  ...                0.0           0.0\n",
              "4          0.0                     0.0  ...                0.0           0.0\n",
              "\n",
              "[5 rows x 7 columns]"
            ]
          },
          "metadata": {
            "tags": []
          },
          "execution_count": 101
        }
      ]
    },
    {
      "cell_type": "code",
      "metadata": {
        "id": "gRb4JKeWPTRE",
        "colab_type": "code",
        "colab": {}
      },
      "source": [
        "# Threshold 10%\n",
        "test_sub_cat_split_5_list = test_token.sub_cat_split_5.unique().tolist()\n",
        "list_not_useful_test_10 = [test_sub_cat for test_sub_cat in test_sub_cat_split_5_list if test_sub_cat not in sub_cat_kept_10]\n",
        "list_not_useful_regex_test_10 = \"|\".join(list_not_useful_test_10)"
      ],
      "execution_count": 0,
      "outputs": []
    },
    {
      "cell_type": "code",
      "metadata": {
        "id": "fUPU20BWPTPv",
        "colab_type": "code",
        "colab": {
          "base_uri": "https://localhost:8080/",
          "height": 34
        },
        "outputId": "d5b27de2-966b-4fe2-9175-9a0840891f8e"
      },
      "source": [
        "test_token[\"sub_cat_split_10\"] = test_token.sub_cat_split_5\n",
        "test_token.sub_cat_split_10 = test_token.sub_cat_split_10.str.replace(list_not_useful_regex_test_10, '')\n",
        "\n",
        "test_sub_cat_kept_10 = test_token.sub_cat_split_10.unique().tolist()\n",
        "print('Kept sub-categories:', test_sub_cat_kept_10)"
      ],
      "execution_count": 103,
      "outputs": [
        {
          "output_type": "stream",
          "text": [
            "Kept sub-categories: ['Exercise_&_Fitness', '', 'Hunting_&_Fishing', 'Outdoor_Gear']\n"
          ],
          "name": "stdout"
        }
      ]
    },
    {
      "cell_type": "code",
      "metadata": {
        "id": "G14PslCcQR8S",
        "colab_type": "code",
        "colab": {
          "base_uri": "https://localhost:8080/",
          "height": 221
        },
        "outputId": "afd68581-276b-4246-b058-a71986fa557d"
      },
      "source": [
        "test_token_dummy_10 = pd.get_dummies(test_token[\"sub_cat_split_10\"], drop_first=True, dtype=float)\n",
        "print('Shape of the test data with token', test_token_dummy_10.shape)\n",
        "test_token_dummy_10.head()"
      ],
      "execution_count": 104,
      "outputs": [
        {
          "output_type": "stream",
          "text": [
            "Shape of the test data with token (269, 3)\n"
          ],
          "name": "stdout"
        },
        {
          "output_type": "execute_result",
          "data": {
            "text/html": [
              "<div>\n",
              "<style scoped>\n",
              "    .dataframe tbody tr th:only-of-type {\n",
              "        vertical-align: middle;\n",
              "    }\n",
              "\n",
              "    .dataframe tbody tr th {\n",
              "        vertical-align: top;\n",
              "    }\n",
              "\n",
              "    .dataframe thead th {\n",
              "        text-align: right;\n",
              "    }\n",
              "</style>\n",
              "<table border=\"1\" class=\"dataframe\">\n",
              "  <thead>\n",
              "    <tr style=\"text-align: right;\">\n",
              "      <th></th>\n",
              "      <th>Exercise_&amp;_Fitness</th>\n",
              "      <th>Hunting_&amp;_Fishing</th>\n",
              "      <th>Outdoor_Gear</th>\n",
              "    </tr>\n",
              "  </thead>\n",
              "  <tbody>\n",
              "    <tr>\n",
              "      <th>0</th>\n",
              "      <td>1.0</td>\n",
              "      <td>0.0</td>\n",
              "      <td>0.0</td>\n",
              "    </tr>\n",
              "    <tr>\n",
              "      <th>1</th>\n",
              "      <td>1.0</td>\n",
              "      <td>0.0</td>\n",
              "      <td>0.0</td>\n",
              "    </tr>\n",
              "    <tr>\n",
              "      <th>2</th>\n",
              "      <td>1.0</td>\n",
              "      <td>0.0</td>\n",
              "      <td>0.0</td>\n",
              "    </tr>\n",
              "    <tr>\n",
              "      <th>3</th>\n",
              "      <td>1.0</td>\n",
              "      <td>0.0</td>\n",
              "      <td>0.0</td>\n",
              "    </tr>\n",
              "    <tr>\n",
              "      <th>4</th>\n",
              "      <td>0.0</td>\n",
              "      <td>0.0</td>\n",
              "      <td>0.0</td>\n",
              "    </tr>\n",
              "  </tbody>\n",
              "</table>\n",
              "</div>"
            ],
            "text/plain": [
              "   Exercise_&_Fitness  Hunting_&_Fishing  Outdoor_Gear\n",
              "0                 1.0                0.0           0.0\n",
              "1                 1.0                0.0           0.0\n",
              "2                 1.0                0.0           0.0\n",
              "3                 1.0                0.0           0.0\n",
              "4                 0.0                0.0           0.0"
            ]
          },
          "metadata": {
            "tags": []
          },
          "execution_count": 104
        }
      ]
    },
    {
      "cell_type": "markdown",
      "metadata": {
        "id": "_oWUDj5HPa0o",
        "colab_type": "text"
      },
      "source": [
        "## Merge data"
      ]
    },
    {
      "cell_type": "code",
      "metadata": {
        "id": "Sn9Q_OvcH1Fo",
        "colab_type": "code",
        "outputId": "cda6ce4d-ff8a-4eb1-e557-7f3f4309a622",
        "colab": {
          "base_uri": "https://localhost:8080/",
          "height": 221
        }
      },
      "source": [
        "quest_bl_test = pd.read_csv(\"quest_baseline.test\", header=None, sep=\"\\t\")\n",
        "print('Shape of the baseline test data:', quest_bl_test.shape)\n",
        "quest_bl_test.head()"
      ],
      "execution_count": 105,
      "outputs": [
        {
          "output_type": "stream",
          "text": [
            "Shape of the baseline test data: (269, 15)\n"
          ],
          "name": "stdout"
        },
        {
          "output_type": "execute_result",
          "data": {
            "text/html": [
              "<div>\n",
              "<style scoped>\n",
              "    .dataframe tbody tr th:only-of-type {\n",
              "        vertical-align: middle;\n",
              "    }\n",
              "\n",
              "    .dataframe tbody tr th {\n",
              "        vertical-align: top;\n",
              "    }\n",
              "\n",
              "    .dataframe thead th {\n",
              "        text-align: right;\n",
              "    }\n",
              "</style>\n",
              "<table border=\"1\" class=\"dataframe\">\n",
              "  <thead>\n",
              "    <tr style=\"text-align: right;\">\n",
              "      <th></th>\n",
              "      <th>0</th>\n",
              "      <th>1</th>\n",
              "      <th>2</th>\n",
              "      <th>3</th>\n",
              "      <th>4</th>\n",
              "      <th>5</th>\n",
              "      <th>6</th>\n",
              "      <th>7</th>\n",
              "      <th>8</th>\n",
              "      <th>9</th>\n",
              "      <th>10</th>\n",
              "      <th>11</th>\n",
              "      <th>12</th>\n",
              "      <th>13</th>\n",
              "      <th>14</th>\n",
              "    </tr>\n",
              "  </thead>\n",
              "  <tbody>\n",
              "    <tr>\n",
              "      <th>0</th>\n",
              "      <td>9.0</td>\n",
              "      <td>9.0</td>\n",
              "      <td>2.125000</td>\n",
              "      <td>-24.07420</td>\n",
              "      <td>-39.10530</td>\n",
              "      <td>1.000000</td>\n",
              "      <td>0.0</td>\n",
              "      <td>0.375000</td>\n",
              "      <td>0.000000</td>\n",
              "      <td>0.071429</td>\n",
              "      <td>0.0</td>\n",
              "      <td>0.0</td>\n",
              "      <td>0.437500</td>\n",
              "      <td>0.0</td>\n",
              "      <td>0.0</td>\n",
              "    </tr>\n",
              "    <tr>\n",
              "      <th>1</th>\n",
              "      <td>8.0</td>\n",
              "      <td>7.0</td>\n",
              "      <td>2.285714</td>\n",
              "      <td>-23.01260</td>\n",
              "      <td>-32.45460</td>\n",
              "      <td>1.000000</td>\n",
              "      <td>0.0</td>\n",
              "      <td>0.428571</td>\n",
              "      <td>0.000000</td>\n",
              "      <td>0.083333</td>\n",
              "      <td>0.0</td>\n",
              "      <td>0.0</td>\n",
              "      <td>0.500000</td>\n",
              "      <td>0.0</td>\n",
              "      <td>0.0</td>\n",
              "    </tr>\n",
              "    <tr>\n",
              "      <th>2</th>\n",
              "      <td>12.0</td>\n",
              "      <td>9.0</td>\n",
              "      <td>2.045454</td>\n",
              "      <td>-41.24530</td>\n",
              "      <td>-28.27830</td>\n",
              "      <td>1.000000</td>\n",
              "      <td>0.0</td>\n",
              "      <td>0.363636</td>\n",
              "      <td>0.100000</td>\n",
              "      <td>0.000000</td>\n",
              "      <td>0.0</td>\n",
              "      <td>0.0</td>\n",
              "      <td>0.409091</td>\n",
              "      <td>0.0</td>\n",
              "      <td>0.0</td>\n",
              "    </tr>\n",
              "    <tr>\n",
              "      <th>3</th>\n",
              "      <td>14.0</td>\n",
              "      <td>15.0</td>\n",
              "      <td>1.846154</td>\n",
              "      <td>-36.11030</td>\n",
              "      <td>-50.68360</td>\n",
              "      <td>1.071428</td>\n",
              "      <td>0.0</td>\n",
              "      <td>0.384615</td>\n",
              "      <td>0.041667</td>\n",
              "      <td>0.041667</td>\n",
              "      <td>0.0</td>\n",
              "      <td>0.0</td>\n",
              "      <td>0.423077</td>\n",
              "      <td>0.0</td>\n",
              "      <td>0.0</td>\n",
              "    </tr>\n",
              "    <tr>\n",
              "      <th>4</th>\n",
              "      <td>5.0</td>\n",
              "      <td>5.0</td>\n",
              "      <td>3.750000</td>\n",
              "      <td>-9.04518</td>\n",
              "      <td>-7.96785</td>\n",
              "      <td>1.000000</td>\n",
              "      <td>0.0</td>\n",
              "      <td>0.125000</td>\n",
              "      <td>0.000000</td>\n",
              "      <td>0.000000</td>\n",
              "      <td>0.0</td>\n",
              "      <td>0.0</td>\n",
              "      <td>0.250000</td>\n",
              "      <td>0.0</td>\n",
              "      <td>0.0</td>\n",
              "    </tr>\n",
              "  </tbody>\n",
              "</table>\n",
              "</div>"
            ],
            "text/plain": [
              "     0     1         2         3         4   ...   10   11        12   13   14\n",
              "0   9.0   9.0  2.125000 -24.07420 -39.10530  ...  0.0  0.0  0.437500  0.0  0.0\n",
              "1   8.0   7.0  2.285714 -23.01260 -32.45460  ...  0.0  0.0  0.500000  0.0  0.0\n",
              "2  12.0   9.0  2.045454 -41.24530 -28.27830  ...  0.0  0.0  0.409091  0.0  0.0\n",
              "3  14.0  15.0  1.846154 -36.11030 -50.68360  ...  0.0  0.0  0.423077  0.0  0.0\n",
              "4   5.0   5.0  3.750000  -9.04518  -7.96785  ...  0.0  0.0  0.250000  0.0  0.0\n",
              "\n",
              "[5 rows x 15 columns]"
            ]
          },
          "metadata": {
            "tags": []
          },
          "execution_count": 105
        }
      ]
    },
    {
      "cell_type": "code",
      "metadata": {
        "id": "PdN2Vb52H1K8",
        "colab_type": "code",
        "outputId": "6b300c00-348f-44c9-dae6-6aadd6b6603f",
        "colab": {
          "base_uri": "https://localhost:8080/",
          "height": 34
        }
      },
      "source": [
        "quest_bl_test_token_1 = pd.concat([quest_bl_test, test_token_dummy_1], axis=1)\n",
        "print(quest_bl_test_token_1.shape)\n",
        "quest_bl_test_token_1.to_csv(\"quest_bl_token_1.test\", header=None, index=None, sep=\"\\t\")"
      ],
      "execution_count": 106,
      "outputs": [
        {
          "output_type": "stream",
          "text": [
            "(269, 29)\n"
          ],
          "name": "stdout"
        }
      ]
    },
    {
      "cell_type": "code",
      "metadata": {
        "id": "0UqZuenPH-5J",
        "colab_type": "code",
        "outputId": "9baa6354-12ed-4891-fa2b-013294187f8c",
        "colab": {
          "base_uri": "https://localhost:8080/",
          "height": 241
        }
      },
      "source": [
        "quest_vis_test = pd.read_csv(\"quest.test_2\", header=None, sep=\"\\t\")\n",
        "print(quest_vis_test.shape)\n",
        "quest_vis_test.head()"
      ],
      "execution_count": 107,
      "outputs": [
        {
          "output_type": "stream",
          "text": [
            "(269, 17)\n"
          ],
          "name": "stdout"
        },
        {
          "output_type": "execute_result",
          "data": {
            "text/html": [
              "<div>\n",
              "<style scoped>\n",
              "    .dataframe tbody tr th:only-of-type {\n",
              "        vertical-align: middle;\n",
              "    }\n",
              "\n",
              "    .dataframe tbody tr th {\n",
              "        vertical-align: top;\n",
              "    }\n",
              "\n",
              "    .dataframe thead th {\n",
              "        text-align: right;\n",
              "    }\n",
              "</style>\n",
              "<table border=\"1\" class=\"dataframe\">\n",
              "  <thead>\n",
              "    <tr style=\"text-align: right;\">\n",
              "      <th></th>\n",
              "      <th>0</th>\n",
              "      <th>1</th>\n",
              "      <th>2</th>\n",
              "      <th>3</th>\n",
              "      <th>4</th>\n",
              "      <th>5</th>\n",
              "      <th>6</th>\n",
              "      <th>7</th>\n",
              "      <th>8</th>\n",
              "      <th>9</th>\n",
              "      <th>10</th>\n",
              "      <th>11</th>\n",
              "      <th>12</th>\n",
              "      <th>13</th>\n",
              "      <th>14</th>\n",
              "      <th>15</th>\n",
              "      <th>16</th>\n",
              "    </tr>\n",
              "  </thead>\n",
              "  <tbody>\n",
              "    <tr>\n",
              "      <th>0</th>\n",
              "      <td>9.0</td>\n",
              "      <td>9.0</td>\n",
              "      <td>2.125000</td>\n",
              "      <td>-24.07420</td>\n",
              "      <td>-39.10530</td>\n",
              "      <td>1.000000</td>\n",
              "      <td>0.0</td>\n",
              "      <td>0.375000</td>\n",
              "      <td>0.000000</td>\n",
              "      <td>0.071429</td>\n",
              "      <td>0.0</td>\n",
              "      <td>0.0</td>\n",
              "      <td>0.437500</td>\n",
              "      <td>0.0</td>\n",
              "      <td>0.0</td>\n",
              "      <td>-11.316785</td>\n",
              "      <td>16.170978</td>\n",
              "    </tr>\n",
              "    <tr>\n",
              "      <th>1</th>\n",
              "      <td>8.0</td>\n",
              "      <td>7.0</td>\n",
              "      <td>2.285714</td>\n",
              "      <td>-23.01260</td>\n",
              "      <td>-32.45460</td>\n",
              "      <td>1.000000</td>\n",
              "      <td>0.0</td>\n",
              "      <td>0.428571</td>\n",
              "      <td>0.000000</td>\n",
              "      <td>0.083333</td>\n",
              "      <td>0.0</td>\n",
              "      <td>0.0</td>\n",
              "      <td>0.500000</td>\n",
              "      <td>0.0</td>\n",
              "      <td>0.0</td>\n",
              "      <td>-13.074886</td>\n",
              "      <td>18.147145</td>\n",
              "    </tr>\n",
              "    <tr>\n",
              "      <th>2</th>\n",
              "      <td>12.0</td>\n",
              "      <td>9.0</td>\n",
              "      <td>2.045454</td>\n",
              "      <td>-41.24530</td>\n",
              "      <td>-28.27830</td>\n",
              "      <td>1.000000</td>\n",
              "      <td>0.0</td>\n",
              "      <td>0.363636</td>\n",
              "      <td>0.100000</td>\n",
              "      <td>0.000000</td>\n",
              "      <td>0.0</td>\n",
              "      <td>0.0</td>\n",
              "      <td>0.409091</td>\n",
              "      <td>0.0</td>\n",
              "      <td>0.0</td>\n",
              "      <td>-13.344120</td>\n",
              "      <td>13.453017</td>\n",
              "    </tr>\n",
              "    <tr>\n",
              "      <th>3</th>\n",
              "      <td>14.0</td>\n",
              "      <td>15.0</td>\n",
              "      <td>1.846154</td>\n",
              "      <td>-36.11030</td>\n",
              "      <td>-50.68360</td>\n",
              "      <td>1.071428</td>\n",
              "      <td>0.0</td>\n",
              "      <td>0.384615</td>\n",
              "      <td>0.041667</td>\n",
              "      <td>0.041667</td>\n",
              "      <td>0.0</td>\n",
              "      <td>0.0</td>\n",
              "      <td>0.423077</td>\n",
              "      <td>0.0</td>\n",
              "      <td>0.0</td>\n",
              "      <td>-12.855571</td>\n",
              "      <td>26.806394</td>\n",
              "    </tr>\n",
              "    <tr>\n",
              "      <th>4</th>\n",
              "      <td>5.0</td>\n",
              "      <td>5.0</td>\n",
              "      <td>3.750000</td>\n",
              "      <td>-9.04518</td>\n",
              "      <td>-7.96785</td>\n",
              "      <td>1.000000</td>\n",
              "      <td>0.0</td>\n",
              "      <td>0.125000</td>\n",
              "      <td>0.000000</td>\n",
              "      <td>0.000000</td>\n",
              "      <td>0.0</td>\n",
              "      <td>0.0</td>\n",
              "      <td>0.250000</td>\n",
              "      <td>0.0</td>\n",
              "      <td>0.0</td>\n",
              "      <td>-16.015124</td>\n",
              "      <td>17.029873</td>\n",
              "    </tr>\n",
              "  </tbody>\n",
              "</table>\n",
              "</div>"
            ],
            "text/plain": [
              "     0     1         2         3   ...   13   14         15         16\n",
              "0   9.0   9.0  2.125000 -24.07420  ...  0.0  0.0 -11.316785  16.170978\n",
              "1   8.0   7.0  2.285714 -23.01260  ...  0.0  0.0 -13.074886  18.147145\n",
              "2  12.0   9.0  2.045454 -41.24530  ...  0.0  0.0 -13.344120  13.453017\n",
              "3  14.0  15.0  1.846154 -36.11030  ...  0.0  0.0 -12.855571  26.806394\n",
              "4   5.0   5.0  3.750000  -9.04518  ...  0.0  0.0 -16.015124  17.029873\n",
              "\n",
              "[5 rows x 17 columns]"
            ]
          },
          "metadata": {
            "tags": []
          },
          "execution_count": 107
        }
      ]
    },
    {
      "cell_type": "code",
      "metadata": {
        "id": "iNDlNFG1H-__",
        "colab_type": "code",
        "outputId": "41d7480e-c7a4-4a7c-b20e-ba9859856e3e",
        "colab": {
          "base_uri": "https://localhost:8080/",
          "height": 34
        }
      },
      "source": [
        "quest_vis_test_token_1 = pd.concat([quest_vis_test, test_token_dummy_1], axis=1)\n",
        "print(quest_vis_test_token_1.shape)\n",
        "quest_vis_test_token_1.to_csv(\"quest_vis_token_1.test\", header=None, index=None, sep=\"\\t\")"
      ],
      "execution_count": 108,
      "outputs": [
        {
          "output_type": "stream",
          "text": [
            "(269, 31)\n"
          ],
          "name": "stdout"
        }
      ]
    },
    {
      "cell_type": "code",
      "metadata": {
        "id": "Vcgpl_DiH-9Y",
        "colab_type": "code",
        "colab": {
          "base_uri": "https://localhost:8080/",
          "height": 34
        },
        "outputId": "19a44116-ed20-4a38-d9d5-a18425723b89"
      },
      "source": [
        "# Threshold 5%\n",
        "quest_bl_test_token_5 = pd.concat([quest_bl_test, test_token_dummy_5], axis=1)\n",
        "print(quest_bl_test_token_5.shape)\n",
        "quest_bl_test_token_5.to_csv(\"quest_bl_token_5.test\", header=None, index=None, sep=\"\\t\")"
      ],
      "execution_count": 109,
      "outputs": [
        {
          "output_type": "stream",
          "text": [
            "(269, 22)\n"
          ],
          "name": "stdout"
        }
      ]
    },
    {
      "cell_type": "code",
      "metadata": {
        "id": "9TELdgpNJHqA",
        "colab_type": "code",
        "colab": {
          "base_uri": "https://localhost:8080/",
          "height": 34
        },
        "outputId": "633e401e-8e74-48b7-88d4-97a4e4c36b16"
      },
      "source": [
        "quest_vis_test_token_5 = pd.concat([quest_vis_test, test_token_dummy_5], axis=1)\n",
        "print(quest_vis_test_token_5.shape)\n",
        "quest_vis_test_token_5.to_csv(\"quest_vis_token_5.test\", header=None, index=None, sep=\"\\t\")"
      ],
      "execution_count": 110,
      "outputs": [
        {
          "output_type": "stream",
          "text": [
            "(269, 24)\n"
          ],
          "name": "stdout"
        }
      ]
    },
    {
      "cell_type": "code",
      "metadata": {
        "id": "tv9CWmUnRRqU",
        "colab_type": "code",
        "colab": {
          "base_uri": "https://localhost:8080/",
          "height": 34
        },
        "outputId": "8fd0530e-039f-4d68-ff8e-c2b78130cc83"
      },
      "source": [
        "# Threshold 10%\n",
        "quest_bl_test_token_10 = pd.concat([quest_bl_test, test_token_dummy_10], axis=1)\n",
        "print(quest_bl_test_token_10.shape)\n",
        "quest_bl_test_token_10.to_csv(\"quest_bl_token_10.test\", header=None, index=None, sep=\"\\t\")"
      ],
      "execution_count": 111,
      "outputs": [
        {
          "output_type": "stream",
          "text": [
            "(269, 18)\n"
          ],
          "name": "stdout"
        }
      ]
    },
    {
      "cell_type": "code",
      "metadata": {
        "id": "gO0tqOjoRZrn",
        "colab_type": "code",
        "colab": {
          "base_uri": "https://localhost:8080/",
          "height": 34
        },
        "outputId": "e399f81d-41f9-4b64-e7c8-033e6d0e4900"
      },
      "source": [
        "quest_vis_test_token_10 = pd.concat([quest_vis_test, test_token_dummy_10], axis=1)\n",
        "print(quest_vis_test_token_10.shape)\n",
        "quest_vis_test_token_10.to_csv(\"quest_vis_token_10.test\", header=None, index=None, sep=\"\\t\")"
      ],
      "execution_count": 112,
      "outputs": [
        {
          "output_type": "stream",
          "text": [
            "(269, 20)\n"
          ],
          "name": "stdout"
        }
      ]
    },
    {
      "cell_type": "code",
      "metadata": {
        "id": "d88ASPmlRgLd",
        "colab_type": "code",
        "colab": {}
      },
      "source": [
        ""
      ],
      "execution_count": 0,
      "outputs": []
    }
  ]
}